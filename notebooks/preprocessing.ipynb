{
  "metadata": {
    "kernelspec": {
      "display_name": "Python 3",
      "name": "python3"
    },
    "language_info": {
      "name": "python",
      "version": "3.10.14",
      "mimetype": "text/x-python",
      "codemirror_mode": {
        "name": "ipython",
        "version": 3
      },
      "pygments_lexer": "ipython3",
      "nbconvert_exporter": "python",
      "file_extension": ".py"
    },
    "kaggle": {
      "accelerator": "none",
      "dataSources": [
        {
          "sourceId": 81933,
          "databundleVersionId": 9643020,
          "sourceType": "competition"
        }
      ],
      "dockerImageVersionId": 30804,
      "isInternetEnabled": true,
      "language": "python",
      "sourceType": "notebook",
      "isGpuEnabled": false
    },
    "colab": {
      "name": "preprocessing",
      "provenance": [],
      "gpuType": "T4"
    },
    "accelerator": "GPU",
    "widgets": {
      "application/vnd.jupyter.widget-state+json": {
        "57c31e694ed04102b454db6504611f47": {
          "model_module": "@jupyter-widgets/controls",
          "model_name": "VBoxModel",
          "model_module_version": "1.5.0",
          "state": {
            "_dom_classes": [],
            "_model_module": "@jupyter-widgets/controls",
            "_model_module_version": "1.5.0",
            "_model_name": "VBoxModel",
            "_view_count": null,
            "_view_module": "@jupyter-widgets/controls",
            "_view_module_version": "1.5.0",
            "_view_name": "VBoxView",
            "box_style": "",
            "children": [
              "IPY_MODEL_c01bec5ade314a33a7ba5595d7bb2263"
            ],
            "layout": "IPY_MODEL_7d2988bba4304fb7a92ea90f197bbd7e"
          }
        },
        "cb378251a06a45d5a083a7b296a3a19a": {
          "model_module": "@jupyter-widgets/controls",
          "model_name": "HTMLModel",
          "model_module_version": "1.5.0",
          "state": {
            "_dom_classes": [],
            "_model_module": "@jupyter-widgets/controls",
            "_model_module_version": "1.5.0",
            "_model_name": "HTMLModel",
            "_view_count": null,
            "_view_module": "@jupyter-widgets/controls",
            "_view_module_version": "1.5.0",
            "_view_name": "HTMLView",
            "description": "",
            "description_tooltip": null,
            "layout": "IPY_MODEL_57dc52c9a0e84aa7b75fd3d21d2b82e5",
            "placeholder": "​",
            "style": "IPY_MODEL_d2058a1a08fa482689419d81347adbc8",
            "value": "<center> <img\nsrc=https://www.kaggle.com/static/images/site-logo.png\nalt='Kaggle'> <br> Create an API token from <a\nhref=\"https://www.kaggle.com/settings/account\" target=\"_blank\">your Kaggle\nsettings page</a> and paste it below along with your Kaggle username. <br> </center>"
          }
        },
        "7655273c62794b638cdb483874fe170c": {
          "model_module": "@jupyter-widgets/controls",
          "model_name": "TextModel",
          "model_module_version": "1.5.0",
          "state": {
            "_dom_classes": [],
            "_model_module": "@jupyter-widgets/controls",
            "_model_module_version": "1.5.0",
            "_model_name": "TextModel",
            "_view_count": null,
            "_view_module": "@jupyter-widgets/controls",
            "_view_module_version": "1.5.0",
            "_view_name": "TextView",
            "continuous_update": true,
            "description": "Username:",
            "description_tooltip": null,
            "disabled": false,
            "layout": "IPY_MODEL_75780087d3a14aad9c4030293a41f800",
            "placeholder": "​",
            "style": "IPY_MODEL_32c839db28db4fe9a337dbb1fb7f2b13",
            "value": "isokzon0202"
          }
        },
        "8b353d51782749d58693c22ba2c3d9ee": {
          "model_module": "@jupyter-widgets/controls",
          "model_name": "PasswordModel",
          "model_module_version": "1.5.0",
          "state": {
            "_dom_classes": [],
            "_model_module": "@jupyter-widgets/controls",
            "_model_module_version": "1.5.0",
            "_model_name": "PasswordModel",
            "_view_count": null,
            "_view_module": "@jupyter-widgets/controls",
            "_view_module_version": "1.5.0",
            "_view_name": "PasswordView",
            "continuous_update": true,
            "description": "Token:",
            "description_tooltip": null,
            "disabled": false,
            "layout": "IPY_MODEL_acc3e2d3460d4250a9316692c13b62cd",
            "placeholder": "​",
            "style": "IPY_MODEL_c1a49420300646a2958be65ef0e1870c",
            "value": ""
          }
        },
        "f3e45cffcb914523afe54197e265e6a1": {
          "model_module": "@jupyter-widgets/controls",
          "model_name": "ButtonModel",
          "model_module_version": "1.5.0",
          "state": {
            "_dom_classes": [],
            "_model_module": "@jupyter-widgets/controls",
            "_model_module_version": "1.5.0",
            "_model_name": "ButtonModel",
            "_view_count": null,
            "_view_module": "@jupyter-widgets/controls",
            "_view_module_version": "1.5.0",
            "_view_name": "ButtonView",
            "button_style": "",
            "description": "Login",
            "disabled": false,
            "icon": "",
            "layout": "IPY_MODEL_acaeac07ba554b1cbfb954a5aa77f628",
            "style": "IPY_MODEL_810cee61c82e4c83b93af800a9f6cfda",
            "tooltip": ""
          }
        },
        "b2c04f77f8084b949566c9cbd8904d30": {
          "model_module": "@jupyter-widgets/controls",
          "model_name": "HTMLModel",
          "model_module_version": "1.5.0",
          "state": {
            "_dom_classes": [],
            "_model_module": "@jupyter-widgets/controls",
            "_model_module_version": "1.5.0",
            "_model_name": "HTMLModel",
            "_view_count": null,
            "_view_module": "@jupyter-widgets/controls",
            "_view_module_version": "1.5.0",
            "_view_name": "HTMLView",
            "description": "",
            "description_tooltip": null,
            "layout": "IPY_MODEL_33abea9dee53444d98de277a9ec88f43",
            "placeholder": "​",
            "style": "IPY_MODEL_9310ce39bc4141069a67cead710d3d94",
            "value": "\n<b>Thank You</b></center>"
          }
        },
        "7d2988bba4304fb7a92ea90f197bbd7e": {
          "model_module": "@jupyter-widgets/base",
          "model_name": "LayoutModel",
          "model_module_version": "1.2.0",
          "state": {
            "_model_module": "@jupyter-widgets/base",
            "_model_module_version": "1.2.0",
            "_model_name": "LayoutModel",
            "_view_count": null,
            "_view_module": "@jupyter-widgets/base",
            "_view_module_version": "1.2.0",
            "_view_name": "LayoutView",
            "align_content": null,
            "align_items": "center",
            "align_self": null,
            "border": null,
            "bottom": null,
            "display": "flex",
            "flex": null,
            "flex_flow": "column",
            "grid_area": null,
            "grid_auto_columns": null,
            "grid_auto_flow": null,
            "grid_auto_rows": null,
            "grid_column": null,
            "grid_gap": null,
            "grid_row": null,
            "grid_template_areas": null,
            "grid_template_columns": null,
            "grid_template_rows": null,
            "height": null,
            "justify_content": null,
            "justify_items": null,
            "left": null,
            "margin": null,
            "max_height": null,
            "max_width": null,
            "min_height": null,
            "min_width": null,
            "object_fit": null,
            "object_position": null,
            "order": null,
            "overflow": null,
            "overflow_x": null,
            "overflow_y": null,
            "padding": null,
            "right": null,
            "top": null,
            "visibility": null,
            "width": "50%"
          }
        },
        "57dc52c9a0e84aa7b75fd3d21d2b82e5": {
          "model_module": "@jupyter-widgets/base",
          "model_name": "LayoutModel",
          "model_module_version": "1.2.0",
          "state": {
            "_model_module": "@jupyter-widgets/base",
            "_model_module_version": "1.2.0",
            "_model_name": "LayoutModel",
            "_view_count": null,
            "_view_module": "@jupyter-widgets/base",
            "_view_module_version": "1.2.0",
            "_view_name": "LayoutView",
            "align_content": null,
            "align_items": null,
            "align_self": null,
            "border": null,
            "bottom": null,
            "display": null,
            "flex": null,
            "flex_flow": null,
            "grid_area": null,
            "grid_auto_columns": null,
            "grid_auto_flow": null,
            "grid_auto_rows": null,
            "grid_column": null,
            "grid_gap": null,
            "grid_row": null,
            "grid_template_areas": null,
            "grid_template_columns": null,
            "grid_template_rows": null,
            "height": null,
            "justify_content": null,
            "justify_items": null,
            "left": null,
            "margin": null,
            "max_height": null,
            "max_width": null,
            "min_height": null,
            "min_width": null,
            "object_fit": null,
            "object_position": null,
            "order": null,
            "overflow": null,
            "overflow_x": null,
            "overflow_y": null,
            "padding": null,
            "right": null,
            "top": null,
            "visibility": null,
            "width": null
          }
        },
        "d2058a1a08fa482689419d81347adbc8": {
          "model_module": "@jupyter-widgets/controls",
          "model_name": "DescriptionStyleModel",
          "model_module_version": "1.5.0",
          "state": {
            "_model_module": "@jupyter-widgets/controls",
            "_model_module_version": "1.5.0",
            "_model_name": "DescriptionStyleModel",
            "_view_count": null,
            "_view_module": "@jupyter-widgets/base",
            "_view_module_version": "1.2.0",
            "_view_name": "StyleView",
            "description_width": ""
          }
        },
        "75780087d3a14aad9c4030293a41f800": {
          "model_module": "@jupyter-widgets/base",
          "model_name": "LayoutModel",
          "model_module_version": "1.2.0",
          "state": {
            "_model_module": "@jupyter-widgets/base",
            "_model_module_version": "1.2.0",
            "_model_name": "LayoutModel",
            "_view_count": null,
            "_view_module": "@jupyter-widgets/base",
            "_view_module_version": "1.2.0",
            "_view_name": "LayoutView",
            "align_content": null,
            "align_items": null,
            "align_self": null,
            "border": null,
            "bottom": null,
            "display": null,
            "flex": null,
            "flex_flow": null,
            "grid_area": null,
            "grid_auto_columns": null,
            "grid_auto_flow": null,
            "grid_auto_rows": null,
            "grid_column": null,
            "grid_gap": null,
            "grid_row": null,
            "grid_template_areas": null,
            "grid_template_columns": null,
            "grid_template_rows": null,
            "height": null,
            "justify_content": null,
            "justify_items": null,
            "left": null,
            "margin": null,
            "max_height": null,
            "max_width": null,
            "min_height": null,
            "min_width": null,
            "object_fit": null,
            "object_position": null,
            "order": null,
            "overflow": null,
            "overflow_x": null,
            "overflow_y": null,
            "padding": null,
            "right": null,
            "top": null,
            "visibility": null,
            "width": null
          }
        },
        "32c839db28db4fe9a337dbb1fb7f2b13": {
          "model_module": "@jupyter-widgets/controls",
          "model_name": "DescriptionStyleModel",
          "model_module_version": "1.5.0",
          "state": {
            "_model_module": "@jupyter-widgets/controls",
            "_model_module_version": "1.5.0",
            "_model_name": "DescriptionStyleModel",
            "_view_count": null,
            "_view_module": "@jupyter-widgets/base",
            "_view_module_version": "1.2.0",
            "_view_name": "StyleView",
            "description_width": ""
          }
        },
        "acc3e2d3460d4250a9316692c13b62cd": {
          "model_module": "@jupyter-widgets/base",
          "model_name": "LayoutModel",
          "model_module_version": "1.2.0",
          "state": {
            "_model_module": "@jupyter-widgets/base",
            "_model_module_version": "1.2.0",
            "_model_name": "LayoutModel",
            "_view_count": null,
            "_view_module": "@jupyter-widgets/base",
            "_view_module_version": "1.2.0",
            "_view_name": "LayoutView",
            "align_content": null,
            "align_items": null,
            "align_self": null,
            "border": null,
            "bottom": null,
            "display": null,
            "flex": null,
            "flex_flow": null,
            "grid_area": null,
            "grid_auto_columns": null,
            "grid_auto_flow": null,
            "grid_auto_rows": null,
            "grid_column": null,
            "grid_gap": null,
            "grid_row": null,
            "grid_template_areas": null,
            "grid_template_columns": null,
            "grid_template_rows": null,
            "height": null,
            "justify_content": null,
            "justify_items": null,
            "left": null,
            "margin": null,
            "max_height": null,
            "max_width": null,
            "min_height": null,
            "min_width": null,
            "object_fit": null,
            "object_position": null,
            "order": null,
            "overflow": null,
            "overflow_x": null,
            "overflow_y": null,
            "padding": null,
            "right": null,
            "top": null,
            "visibility": null,
            "width": null
          }
        },
        "c1a49420300646a2958be65ef0e1870c": {
          "model_module": "@jupyter-widgets/controls",
          "model_name": "DescriptionStyleModel",
          "model_module_version": "1.5.0",
          "state": {
            "_model_module": "@jupyter-widgets/controls",
            "_model_module_version": "1.5.0",
            "_model_name": "DescriptionStyleModel",
            "_view_count": null,
            "_view_module": "@jupyter-widgets/base",
            "_view_module_version": "1.2.0",
            "_view_name": "StyleView",
            "description_width": ""
          }
        },
        "acaeac07ba554b1cbfb954a5aa77f628": {
          "model_module": "@jupyter-widgets/base",
          "model_name": "LayoutModel",
          "model_module_version": "1.2.0",
          "state": {
            "_model_module": "@jupyter-widgets/base",
            "_model_module_version": "1.2.0",
            "_model_name": "LayoutModel",
            "_view_count": null,
            "_view_module": "@jupyter-widgets/base",
            "_view_module_version": "1.2.0",
            "_view_name": "LayoutView",
            "align_content": null,
            "align_items": null,
            "align_self": null,
            "border": null,
            "bottom": null,
            "display": null,
            "flex": null,
            "flex_flow": null,
            "grid_area": null,
            "grid_auto_columns": null,
            "grid_auto_flow": null,
            "grid_auto_rows": null,
            "grid_column": null,
            "grid_gap": null,
            "grid_row": null,
            "grid_template_areas": null,
            "grid_template_columns": null,
            "grid_template_rows": null,
            "height": null,
            "justify_content": null,
            "justify_items": null,
            "left": null,
            "margin": null,
            "max_height": null,
            "max_width": null,
            "min_height": null,
            "min_width": null,
            "object_fit": null,
            "object_position": null,
            "order": null,
            "overflow": null,
            "overflow_x": null,
            "overflow_y": null,
            "padding": null,
            "right": null,
            "top": null,
            "visibility": null,
            "width": null
          }
        },
        "810cee61c82e4c83b93af800a9f6cfda": {
          "model_module": "@jupyter-widgets/controls",
          "model_name": "ButtonStyleModel",
          "model_module_version": "1.5.0",
          "state": {
            "_model_module": "@jupyter-widgets/controls",
            "_model_module_version": "1.5.0",
            "_model_name": "ButtonStyleModel",
            "_view_count": null,
            "_view_module": "@jupyter-widgets/base",
            "_view_module_version": "1.2.0",
            "_view_name": "StyleView",
            "button_color": null,
            "font_weight": ""
          }
        },
        "33abea9dee53444d98de277a9ec88f43": {
          "model_module": "@jupyter-widgets/base",
          "model_name": "LayoutModel",
          "model_module_version": "1.2.0",
          "state": {
            "_model_module": "@jupyter-widgets/base",
            "_model_module_version": "1.2.0",
            "_model_name": "LayoutModel",
            "_view_count": null,
            "_view_module": "@jupyter-widgets/base",
            "_view_module_version": "1.2.0",
            "_view_name": "LayoutView",
            "align_content": null,
            "align_items": null,
            "align_self": null,
            "border": null,
            "bottom": null,
            "display": null,
            "flex": null,
            "flex_flow": null,
            "grid_area": null,
            "grid_auto_columns": null,
            "grid_auto_flow": null,
            "grid_auto_rows": null,
            "grid_column": null,
            "grid_gap": null,
            "grid_row": null,
            "grid_template_areas": null,
            "grid_template_columns": null,
            "grid_template_rows": null,
            "height": null,
            "justify_content": null,
            "justify_items": null,
            "left": null,
            "margin": null,
            "max_height": null,
            "max_width": null,
            "min_height": null,
            "min_width": null,
            "object_fit": null,
            "object_position": null,
            "order": null,
            "overflow": null,
            "overflow_x": null,
            "overflow_y": null,
            "padding": null,
            "right": null,
            "top": null,
            "visibility": null,
            "width": null
          }
        },
        "9310ce39bc4141069a67cead710d3d94": {
          "model_module": "@jupyter-widgets/controls",
          "model_name": "DescriptionStyleModel",
          "model_module_version": "1.5.0",
          "state": {
            "_model_module": "@jupyter-widgets/controls",
            "_model_module_version": "1.5.0",
            "_model_name": "DescriptionStyleModel",
            "_view_count": null,
            "_view_module": "@jupyter-widgets/base",
            "_view_module_version": "1.2.0",
            "_view_name": "StyleView",
            "description_width": ""
          }
        },
        "f6bd9d4cbdad47a8b3d14c6a583add63": {
          "model_module": "@jupyter-widgets/controls",
          "model_name": "LabelModel",
          "model_module_version": "1.5.0",
          "state": {
            "_dom_classes": [],
            "_model_module": "@jupyter-widgets/controls",
            "_model_module_version": "1.5.0",
            "_model_name": "LabelModel",
            "_view_count": null,
            "_view_module": "@jupyter-widgets/controls",
            "_view_module_version": "1.5.0",
            "_view_name": "LabelView",
            "description": "",
            "description_tooltip": null,
            "layout": "IPY_MODEL_ad3c2dd89e7846958c44102a924907ba",
            "placeholder": "​",
            "style": "IPY_MODEL_6cb4317835d0457daae2943bb73eb53f",
            "value": "Connecting..."
          }
        },
        "ad3c2dd89e7846958c44102a924907ba": {
          "model_module": "@jupyter-widgets/base",
          "model_name": "LayoutModel",
          "model_module_version": "1.2.0",
          "state": {
            "_model_module": "@jupyter-widgets/base",
            "_model_module_version": "1.2.0",
            "_model_name": "LayoutModel",
            "_view_count": null,
            "_view_module": "@jupyter-widgets/base",
            "_view_module_version": "1.2.0",
            "_view_name": "LayoutView",
            "align_content": null,
            "align_items": null,
            "align_self": null,
            "border": null,
            "bottom": null,
            "display": null,
            "flex": null,
            "flex_flow": null,
            "grid_area": null,
            "grid_auto_columns": null,
            "grid_auto_flow": null,
            "grid_auto_rows": null,
            "grid_column": null,
            "grid_gap": null,
            "grid_row": null,
            "grid_template_areas": null,
            "grid_template_columns": null,
            "grid_template_rows": null,
            "height": null,
            "justify_content": null,
            "justify_items": null,
            "left": null,
            "margin": null,
            "max_height": null,
            "max_width": null,
            "min_height": null,
            "min_width": null,
            "object_fit": null,
            "object_position": null,
            "order": null,
            "overflow": null,
            "overflow_x": null,
            "overflow_y": null,
            "padding": null,
            "right": null,
            "top": null,
            "visibility": null,
            "width": null
          }
        },
        "6cb4317835d0457daae2943bb73eb53f": {
          "model_module": "@jupyter-widgets/controls",
          "model_name": "DescriptionStyleModel",
          "model_module_version": "1.5.0",
          "state": {
            "_model_module": "@jupyter-widgets/controls",
            "_model_module_version": "1.5.0",
            "_model_name": "DescriptionStyleModel",
            "_view_count": null,
            "_view_module": "@jupyter-widgets/base",
            "_view_module_version": "1.2.0",
            "_view_name": "StyleView",
            "description_width": ""
          }
        },
        "c1c3f60dd01a4ed180bb6ab6933844c7": {
          "model_module": "@jupyter-widgets/controls",
          "model_name": "LabelModel",
          "model_module_version": "1.5.0",
          "state": {
            "_dom_classes": [],
            "_model_module": "@jupyter-widgets/controls",
            "_model_module_version": "1.5.0",
            "_model_name": "LabelModel",
            "_view_count": null,
            "_view_module": "@jupyter-widgets/controls",
            "_view_module_version": "1.5.0",
            "_view_name": "LabelView",
            "description": "",
            "description_tooltip": null,
            "layout": "IPY_MODEL_85f3e7f55bf44a58b52177beb1bc384a",
            "placeholder": "​",
            "style": "IPY_MODEL_a306e4bd38244a3fa8a2ecc35a52c77d",
            "value": "Kaggle credentials successfully validated."
          }
        },
        "85f3e7f55bf44a58b52177beb1bc384a": {
          "model_module": "@jupyter-widgets/base",
          "model_name": "LayoutModel",
          "model_module_version": "1.2.0",
          "state": {
            "_model_module": "@jupyter-widgets/base",
            "_model_module_version": "1.2.0",
            "_model_name": "LayoutModel",
            "_view_count": null,
            "_view_module": "@jupyter-widgets/base",
            "_view_module_version": "1.2.0",
            "_view_name": "LayoutView",
            "align_content": null,
            "align_items": null,
            "align_self": null,
            "border": null,
            "bottom": null,
            "display": null,
            "flex": null,
            "flex_flow": null,
            "grid_area": null,
            "grid_auto_columns": null,
            "grid_auto_flow": null,
            "grid_auto_rows": null,
            "grid_column": null,
            "grid_gap": null,
            "grid_row": null,
            "grid_template_areas": null,
            "grid_template_columns": null,
            "grid_template_rows": null,
            "height": null,
            "justify_content": null,
            "justify_items": null,
            "left": null,
            "margin": null,
            "max_height": null,
            "max_width": null,
            "min_height": null,
            "min_width": null,
            "object_fit": null,
            "object_position": null,
            "order": null,
            "overflow": null,
            "overflow_x": null,
            "overflow_y": null,
            "padding": null,
            "right": null,
            "top": null,
            "visibility": null,
            "width": null
          }
        },
        "a306e4bd38244a3fa8a2ecc35a52c77d": {
          "model_module": "@jupyter-widgets/controls",
          "model_name": "DescriptionStyleModel",
          "model_module_version": "1.5.0",
          "state": {
            "_model_module": "@jupyter-widgets/controls",
            "_model_module_version": "1.5.0",
            "_model_name": "DescriptionStyleModel",
            "_view_count": null,
            "_view_module": "@jupyter-widgets/base",
            "_view_module_version": "1.2.0",
            "_view_name": "StyleView",
            "description_width": ""
          }
        },
        "855939ea996a4cfdae6b98074f3466d8": {
          "model_module": "@jupyter-widgets/controls",
          "model_name": "LabelModel",
          "model_module_version": "1.5.0",
          "state": {
            "_dom_classes": [],
            "_model_module": "@jupyter-widgets/controls",
            "_model_module_version": "1.5.0",
            "_model_name": "LabelModel",
            "_view_count": null,
            "_view_module": "@jupyter-widgets/controls",
            "_view_module_version": "1.5.0",
            "_view_name": "LabelView",
            "description": "",
            "description_tooltip": null,
            "layout": "IPY_MODEL_de21ea8fb6b3460db7bd40d06f5198bd",
            "placeholder": "​",
            "style": "IPY_MODEL_78085cd44d9c4d6d9562da48e8f8b48b",
            "value": "Connecting..."
          }
        },
        "de21ea8fb6b3460db7bd40d06f5198bd": {
          "model_module": "@jupyter-widgets/base",
          "model_name": "LayoutModel",
          "model_module_version": "1.2.0",
          "state": {
            "_model_module": "@jupyter-widgets/base",
            "_model_module_version": "1.2.0",
            "_model_name": "LayoutModel",
            "_view_count": null,
            "_view_module": "@jupyter-widgets/base",
            "_view_module_version": "1.2.0",
            "_view_name": "LayoutView",
            "align_content": null,
            "align_items": null,
            "align_self": null,
            "border": null,
            "bottom": null,
            "display": null,
            "flex": null,
            "flex_flow": null,
            "grid_area": null,
            "grid_auto_columns": null,
            "grid_auto_flow": null,
            "grid_auto_rows": null,
            "grid_column": null,
            "grid_gap": null,
            "grid_row": null,
            "grid_template_areas": null,
            "grid_template_columns": null,
            "grid_template_rows": null,
            "height": null,
            "justify_content": null,
            "justify_items": null,
            "left": null,
            "margin": null,
            "max_height": null,
            "max_width": null,
            "min_height": null,
            "min_width": null,
            "object_fit": null,
            "object_position": null,
            "order": null,
            "overflow": null,
            "overflow_x": null,
            "overflow_y": null,
            "padding": null,
            "right": null,
            "top": null,
            "visibility": null,
            "width": null
          }
        },
        "78085cd44d9c4d6d9562da48e8f8b48b": {
          "model_module": "@jupyter-widgets/controls",
          "model_name": "DescriptionStyleModel",
          "model_module_version": "1.5.0",
          "state": {
            "_model_module": "@jupyter-widgets/controls",
            "_model_module_version": "1.5.0",
            "_model_name": "DescriptionStyleModel",
            "_view_count": null,
            "_view_module": "@jupyter-widgets/base",
            "_view_module_version": "1.2.0",
            "_view_name": "StyleView",
            "description_width": ""
          }
        },
        "c01bec5ade314a33a7ba5595d7bb2263": {
          "model_module": "@jupyter-widgets/controls",
          "model_name": "LabelModel",
          "model_module_version": "1.5.0",
          "state": {
            "_dom_classes": [],
            "_model_module": "@jupyter-widgets/controls",
            "_model_module_version": "1.5.0",
            "_model_name": "LabelModel",
            "_view_count": null,
            "_view_module": "@jupyter-widgets/controls",
            "_view_module_version": "1.5.0",
            "_view_name": "LabelView",
            "description": "",
            "description_tooltip": null,
            "layout": "IPY_MODEL_7f7981f068f54133bf3458b22805fbb3",
            "placeholder": "​",
            "style": "IPY_MODEL_dfcf46d245284b80ba00a3ebcb014b1e",
            "value": "Both username and API key cannot be empty or whitespace"
          }
        },
        "7f7981f068f54133bf3458b22805fbb3": {
          "model_module": "@jupyter-widgets/base",
          "model_name": "LayoutModel",
          "model_module_version": "1.2.0",
          "state": {
            "_model_module": "@jupyter-widgets/base",
            "_model_module_version": "1.2.0",
            "_model_name": "LayoutModel",
            "_view_count": null,
            "_view_module": "@jupyter-widgets/base",
            "_view_module_version": "1.2.0",
            "_view_name": "LayoutView",
            "align_content": null,
            "align_items": null,
            "align_self": null,
            "border": null,
            "bottom": null,
            "display": null,
            "flex": null,
            "flex_flow": null,
            "grid_area": null,
            "grid_auto_columns": null,
            "grid_auto_flow": null,
            "grid_auto_rows": null,
            "grid_column": null,
            "grid_gap": null,
            "grid_row": null,
            "grid_template_areas": null,
            "grid_template_columns": null,
            "grid_template_rows": null,
            "height": null,
            "justify_content": null,
            "justify_items": null,
            "left": null,
            "margin": null,
            "max_height": null,
            "max_width": null,
            "min_height": null,
            "min_width": null,
            "object_fit": null,
            "object_position": null,
            "order": null,
            "overflow": null,
            "overflow_x": null,
            "overflow_y": null,
            "padding": null,
            "right": null,
            "top": null,
            "visibility": null,
            "width": null
          }
        },
        "dfcf46d245284b80ba00a3ebcb014b1e": {
          "model_module": "@jupyter-widgets/controls",
          "model_name": "DescriptionStyleModel",
          "model_module_version": "1.5.0",
          "state": {
            "_model_module": "@jupyter-widgets/controls",
            "_model_module_version": "1.5.0",
            "_model_name": "DescriptionStyleModel",
            "_view_count": null,
            "_view_module": "@jupyter-widgets/base",
            "_view_module_version": "1.2.0",
            "_view_name": "StyleView",
            "description_width": ""
          }
        }
      }
    }
  },
  "nbformat_minor": 0,
  "nbformat": 4,
  "cells": [
    {
      "source": [
        "# IMPORTANT: SOME KAGGLE DATA SOURCES ARE PRIVATE\n",
        "# RUN THIS CELL IN ORDER TO IMPORT YOUR KAGGLE DATA SOURCES.\n",
        "import kagglehub\n",
        "kagglehub.login()\n"
      ],
      "metadata": {
        "colab": {
          "base_uri": "https://localhost:8080/",
          "height": 84,
          "referenced_widgets": [
            "57c31e694ed04102b454db6504611f47",
            "cb378251a06a45d5a083a7b296a3a19a",
            "7655273c62794b638cdb483874fe170c",
            "8b353d51782749d58693c22ba2c3d9ee",
            "f3e45cffcb914523afe54197e265e6a1",
            "b2c04f77f8084b949566c9cbd8904d30",
            "7d2988bba4304fb7a92ea90f197bbd7e",
            "57dc52c9a0e84aa7b75fd3d21d2b82e5",
            "d2058a1a08fa482689419d81347adbc8",
            "75780087d3a14aad9c4030293a41f800",
            "32c839db28db4fe9a337dbb1fb7f2b13",
            "acc3e2d3460d4250a9316692c13b62cd",
            "c1a49420300646a2958be65ef0e1870c",
            "acaeac07ba554b1cbfb954a5aa77f628",
            "810cee61c82e4c83b93af800a9f6cfda",
            "33abea9dee53444d98de277a9ec88f43",
            "9310ce39bc4141069a67cead710d3d94",
            "f6bd9d4cbdad47a8b3d14c6a583add63",
            "ad3c2dd89e7846958c44102a924907ba",
            "6cb4317835d0457daae2943bb73eb53f",
            "c1c3f60dd01a4ed180bb6ab6933844c7",
            "85f3e7f55bf44a58b52177beb1bc384a",
            "a306e4bd38244a3fa8a2ecc35a52c77d",
            "855939ea996a4cfdae6b98074f3466d8",
            "de21ea8fb6b3460db7bd40d06f5198bd",
            "78085cd44d9c4d6d9562da48e8f8b48b",
            "c01bec5ade314a33a7ba5595d7bb2263",
            "7f7981f068f54133bf3458b22805fbb3",
            "dfcf46d245284b80ba00a3ebcb014b1e"
          ]
        },
        "id": "FA2LODbjHDNi",
        "outputId": "c64bbb3d-550f-4372-bf93-a3ccd0f2c790"
      },
      "cell_type": "code",
      "outputs": [
        {
          "output_type": "display_data",
          "data": {
            "text/plain": [
              "VBox(children=(HTML(value='<center> <img\\nsrc=https://www.kaggle.com/static/images/site-logo.png\\nalt=\\'Kaggle…"
            ],
            "application/vnd.jupyter.widget-view+json": {
              "version_major": 2,
              "version_minor": 0,
              "model_id": "57c31e694ed04102b454db6504611f47"
            }
          },
          "metadata": {}
        },
        {
          "output_type": "stream",
          "name": "stdout",
          "text": [
            "Kaggle credentials set.\n",
            "Kaggle credentials successfully validated.\n"
          ]
        }
      ],
      "execution_count": 1
    },
    {
      "source": [
        "# IMPORTANT: RUN THIS CELL IN ORDER TO IMPORT YOUR KAGGLE DATA SOURCES,\n",
        "# THEN FEEL FREE TO DELETE THIS CELL.\n",
        "# NOTE: THIS NOTEBOOK ENVIRONMENT DIFFERS FROM KAGGLE'S PYTHON\n",
        "# ENVIRONMENT SO THERE MAY BE MISSING LIBRARIES USED BY YOUR\n",
        "# NOTEBOOK.\n",
        "\n",
        "child_mind_institute_problematic_internet_use_path = kagglehub.competition_download('child-mind-institute-problematic-internet-use')\n",
        "\n",
        "print('Data source import complete.')\n"
      ],
      "metadata": {
        "colab": {
          "base_uri": "https://localhost:8080/"
        },
        "id": "cg6SB3usHDNj",
        "outputId": "c86a3d2a-ff4f-4a20-8163-8364f3124558"
      },
      "cell_type": "code",
      "outputs": [
        {
          "output_type": "stream",
          "name": "stdout",
          "text": [
            "Data source import complete.\n"
          ]
        }
      ],
      "execution_count": 2
    },
    {
      "cell_type": "markdown",
      "source": [
        "# Análisis y Procesamiento de Datos de Actigrafía\n",
        "\n",
        "Este notebook tiene como objetivo procesar los datos de actigrafía para preparar un modelo que permita estudiar las relaciones entre la actividad física y el uso problemático de Internet. A continuación se detallan los pasos necesarios para trabajar con estos datos.\n",
        "\n",
        "## 1. Importación de Bibliotecas\n",
        "\n",
        "Primero, importamos las bibliotecas necesarias para el análisis y procesamiento de datos.\n"
      ],
      "metadata": {
        "_uuid": "8f2839f25d086af736a60e9eeb907d3b93b6e0e5",
        "_cell_guid": "b1076dfc-b9ad-4769-8c92-a6c4dae69d19",
        "id": "KiOpVeZeHDNk"
      }
    },
    {
      "cell_type": "code",
      "source": [
        "# Librerías necesarias\n",
        "!pip install kagglehub\n",
        "!pip install optuna\n",
        "!pip install lightgbm\n",
        "import pandas as pd\n",
        "import numpy as np\n",
        "from sklearn.model_selection import train_test_split\n",
        "from sklearn.impute import SimpleImputer\n",
        "from sklearn.preprocessing import StandardScaler\n",
        "from sklearn.metrics import cohen_kappa_score, make_scorer\n",
        "from sklearn.utils.class_weight import compute_class_weight\n",
        "import optuna  # Para tuning de hiperparámetros\n",
        "import lightgbm as lgb"
      ],
      "metadata": {
        "trusted": true,
        "execution": {
          "iopub.status.busy": "2024-12-06T08:18:31.639893Z",
          "iopub.execute_input": "2024-12-06T08:18:31.640565Z",
          "iopub.status.idle": "2024-12-06T08:18:31.650584Z",
          "shell.execute_reply.started": "2024-12-06T08:18:31.640507Z",
          "shell.execute_reply": "2024-12-06T08:18:31.648452Z"
        },
        "colab": {
          "base_uri": "https://localhost:8080/"
        },
        "id": "Y51Tbv3nHDNl",
        "outputId": "57469f7b-c2a3-4f2a-ae50-2f459a3838c2"
      },
      "outputs": [
        {
          "output_type": "stream",
          "name": "stdout",
          "text": [
            "Requirement already satisfied: kagglehub in /usr/local/lib/python3.10/dist-packages (0.3.4)\n",
            "Requirement already satisfied: packaging in /usr/local/lib/python3.10/dist-packages (from kagglehub) (24.2)\n",
            "Requirement already satisfied: requests in /usr/local/lib/python3.10/dist-packages (from kagglehub) (2.32.3)\n",
            "Requirement already satisfied: tqdm in /usr/local/lib/python3.10/dist-packages (from kagglehub) (4.66.6)\n",
            "Requirement already satisfied: charset-normalizer<4,>=2 in /usr/local/lib/python3.10/dist-packages (from requests->kagglehub) (3.4.0)\n",
            "Requirement already satisfied: idna<4,>=2.5 in /usr/local/lib/python3.10/dist-packages (from requests->kagglehub) (3.10)\n",
            "Requirement already satisfied: urllib3<3,>=1.21.1 in /usr/local/lib/python3.10/dist-packages (from requests->kagglehub) (2.2.3)\n",
            "Requirement already satisfied: certifi>=2017.4.17 in /usr/local/lib/python3.10/dist-packages (from requests->kagglehub) (2024.8.30)\n",
            "Requirement already satisfied: optuna in /usr/local/lib/python3.10/dist-packages (4.1.0)\n",
            "Requirement already satisfied: alembic>=1.5.0 in /usr/local/lib/python3.10/dist-packages (from optuna) (1.14.0)\n",
            "Requirement already satisfied: colorlog in /usr/local/lib/python3.10/dist-packages (from optuna) (6.9.0)\n",
            "Requirement already satisfied: numpy in /usr/local/lib/python3.10/dist-packages (from optuna) (1.26.4)\n",
            "Requirement already satisfied: packaging>=20.0 in /usr/local/lib/python3.10/dist-packages (from optuna) (24.2)\n",
            "Requirement already satisfied: sqlalchemy>=1.4.2 in /usr/local/lib/python3.10/dist-packages (from optuna) (2.0.36)\n",
            "Requirement already satisfied: tqdm in /usr/local/lib/python3.10/dist-packages (from optuna) (4.66.6)\n",
            "Requirement already satisfied: PyYAML in /usr/local/lib/python3.10/dist-packages (from optuna) (6.0.2)\n",
            "Requirement already satisfied: Mako in /usr/local/lib/python3.10/dist-packages (from alembic>=1.5.0->optuna) (1.3.7)\n",
            "Requirement already satisfied: typing-extensions>=4 in /usr/local/lib/python3.10/dist-packages (from alembic>=1.5.0->optuna) (4.12.2)\n",
            "Requirement already satisfied: greenlet!=0.4.17 in /usr/local/lib/python3.10/dist-packages (from sqlalchemy>=1.4.2->optuna) (3.1.1)\n",
            "Requirement already satisfied: MarkupSafe>=0.9.2 in /usr/local/lib/python3.10/dist-packages (from Mako->alembic>=1.5.0->optuna) (3.0.2)\n",
            "Requirement already satisfied: lightgbm in /usr/local/lib/python3.10/dist-packages (4.5.0)\n",
            "Requirement already satisfied: numpy>=1.17.0 in /usr/local/lib/python3.10/dist-packages (from lightgbm) (1.26.4)\n",
            "Requirement already satisfied: scipy in /usr/local/lib/python3.10/dist-packages (from lightgbm) (1.13.1)\n"
          ]
        },
        {
          "output_type": "stream",
          "name": "stderr",
          "text": [
            "/usr/local/lib/python3.10/dist-packages/dask/dataframe/__init__.py:42: FutureWarning: \n",
            "Dask dataframe query planning is disabled because dask-expr is not installed.\n",
            "\n",
            "You can install it with `pip install dask[dataframe]` or `conda install dask`.\n",
            "This will raise in a future version.\n",
            "\n",
            "  warnings.warn(msg, FutureWarning)\n"
          ]
        }
      ],
      "execution_count": 3
    },
    {
      "cell_type": "code",
      "source": [
        "# Definición de la función personalizada para calcular el QWK\n",
        "def quadratic_weighted_kappa(y_true, y_pred):\n",
        "    return cohen_kappa_score(y_true, y_pred, weights=\"quadratic\")"
      ],
      "metadata": {
        "trusted": true,
        "execution": {
          "iopub.status.busy": "2024-12-06T08:26:23.664244Z",
          "iopub.execute_input": "2024-12-06T08:26:23.664737Z",
          "iopub.status.idle": "2024-12-06T08:26:23.670587Z",
          "shell.execute_reply.started": "2024-12-06T08:26:23.664702Z",
          "shell.execute_reply": "2024-12-06T08:26:23.669224Z"
        },
        "id": "beBS2Q1tHDNl"
      },
      "outputs": [],
      "execution_count": 4
    },
    {
      "cell_type": "code",
      "source": [
        "# Métrica Kappa Quadrática como scorer\n",
        "qwk_scorer = make_scorer(quadratic_weighted_kappa, greater_is_better=True)"
      ],
      "metadata": {
        "trusted": true,
        "execution": {
          "iopub.status.busy": "2024-12-06T08:26:31.169622Z",
          "iopub.execute_input": "2024-12-06T08:26:31.170068Z",
          "iopub.status.idle": "2024-12-06T08:26:31.175873Z",
          "shell.execute_reply.started": "2024-12-06T08:26:31.170033Z",
          "shell.execute_reply": "2024-12-06T08:26:31.174483Z"
        },
        "id": "FM0tJmIdHDNl"
      },
      "outputs": [],
      "execution_count": 5
    },
    {
      "cell_type": "code",
      "source": [
        "# Cargar datos de kagglehub\n",
        "train_data = pd.read_csv(child_mind_institute_problematic_internet_use_path + '/train.csv')\n",
        "test_data = pd.read_csv(child_mind_institute_problematic_internet_use_path + '/test.csv')"
      ],
      "metadata": {
        "trusted": true,
        "execution": {
          "iopub.status.busy": "2024-12-06T08:18:32.612189Z",
          "iopub.execute_input": "2024-12-06T08:18:32.612792Z",
          "iopub.status.idle": "2024-12-06T08:18:32.690156Z",
          "shell.execute_reply.started": "2024-12-06T08:18:32.612738Z",
          "shell.execute_reply": "2024-12-06T08:18:32.687739Z"
        },
        "id": "Ywys4ApJHDNl"
      },
      "outputs": [],
      "execution_count": 6
    },
    {
      "cell_type": "code",
      "source": [
        "\n",
        "# Seleccionar las mismas 53 features en train que en test\n",
        "train_features = test_data.columns.tolist()\n",
        "train_data = train_data[train_features + ['sii']] # Asegúrate de incluir la columna 'sii'\n",
        "\n",
        "# Eliminar columnas con demasiados nulos (>80%) y otras irrelevantes\n",
        "threshold = 0.8\n",
        "missing_frac = train_data.isnull().mean()\n",
        "columns_to_drop = missing_frac[missing_frac > threshold].index.tolist()\n",
        "columns_to_drop = [col for col in columns_to_drop if col in train_data.columns] # Filtra las columnas a eliminar\n",
        "\n",
        "train_data = train_data.drop(columns=columns_to_drop)\n",
        "\n",
        "# Identificar columnas comunes entre train y test (ahora con el mismo número de columnas)\n",
        "common_columns = list(set(train_data.columns).intersection(set(test_data.columns)))\n",
        "num_cols = train_data[common_columns].select_dtypes(include=['float64', 'int64']).columns.tolist()\n",
        "cat_cols = train_data[common_columns].select_dtypes(include=['object']).columns.tolist()\n",
        "\n",
        "\n",
        "# Imputación para columnas numéricas y categóricas\n",
        "for df in [train_data, test_data]:\n",
        "    num_imputer = SimpleImputer(strategy='median')\n",
        "    if len(num_cols) > 0:\n",
        "        df[num_cols] = num_imputer.fit_transform(df[num_cols])\n",
        "    cat_imputer = SimpleImputer(strategy='most_frequent')\n",
        "    if len(cat_cols) > 0:\n",
        "        df[cat_cols] = cat_imputer.fit_transform(df[cat_cols])\n",
        "\n",
        "# Estandarización\n",
        "scaler = StandardScaler()\n",
        "if len(num_cols) > 0:\n",
        "    train_data[num_cols] = scaler.fit_transform(train_data[num_cols])\n",
        "    test_data[num_cols] = scaler.transform(test_data[num_cols])\n",
        "\n",
        "# ... (resto del código sin modificaciones)"
      ],
      "metadata": {
        "id": "entDF-RdNdLN"
      },
      "execution_count": 7,
      "outputs": []
    },
    {
      "cell_type": "code",
      "source": [
        "# Separar columnas numéricas y categóricas solo de las columnas comunes\n",
        "num_cols = train_data[common_columns].select_dtypes(include=['float64', 'int64']).columns.tolist()\n",
        "cat_cols = train_data[common_columns].select_dtypes(include=['object']).columns.tolist()\n"
      ],
      "metadata": {
        "trusted": true,
        "execution": {
          "iopub.status.busy": "2024-12-06T08:18:33.698756Z",
          "iopub.execute_input": "2024-12-06T08:18:33.699164Z",
          "iopub.status.idle": "2024-12-06T08:18:33.714461Z",
          "shell.execute_reply.started": "2024-12-06T08:18:33.699128Z",
          "shell.execute_reply": "2024-12-06T08:18:33.712939Z"
        },
        "id": "dzwgJk3nHDNm"
      },
      "outputs": [],
      "execution_count": 8
    },
    {
      "cell_type": "code",
      "source": [
        "# Imputación para columnas numéricas\n",
        "num_imputer = SimpleImputer(strategy='median')\n",
        "if len(num_cols) > 0:\n",
        "    train_data[num_cols] = num_imputer.fit_transform(train_data[num_cols])\n",
        "    test_data[num_cols] = num_imputer.transform(test_data[num_cols])"
      ],
      "metadata": {
        "trusted": true,
        "execution": {
          "iopub.status.busy": "2024-12-06T08:18:34.167747Z",
          "iopub.execute_input": "2024-12-06T08:18:34.168422Z",
          "iopub.status.idle": "2024-12-06T08:18:34.224066Z",
          "shell.execute_reply.started": "2024-12-06T08:18:34.168379Z",
          "shell.execute_reply": "2024-12-06T08:18:34.222671Z"
        },
        "id": "VU-R8B3XHDNm"
      },
      "outputs": [],
      "execution_count": 9
    },
    {
      "cell_type": "code",
      "source": [
        "# Imputación para columnas categóricas\n",
        "cat_imputer = SimpleImputer(strategy='most_frequent')\n",
        "if len(cat_cols) > 0:\n",
        "    train_data[cat_cols] = cat_imputer.fit_transform(train_data[cat_cols])\n",
        "    test_data[cat_cols] = cat_imputer.transform(test_data[cat_cols])"
      ],
      "metadata": {
        "trusted": true,
        "execution": {
          "iopub.status.busy": "2024-12-06T08:18:34.550309Z",
          "iopub.execute_input": "2024-12-06T08:18:34.550715Z",
          "iopub.status.idle": "2024-12-06T08:18:34.576712Z",
          "shell.execute_reply.started": "2024-12-06T08:18:34.55066Z",
          "shell.execute_reply": "2024-12-06T08:18:34.575039Z"
        },
        "id": "10OHqZgAHDNm"
      },
      "outputs": [],
      "execution_count": 10
    },
    {
      "cell_type": "code",
      "source": [
        "# Estandarización\n",
        "scaler = StandardScaler()\n",
        "if len(num_cols) > 0:\n",
        "    train_data[num_cols] = scaler.fit_transform(train_data[num_cols])\n",
        "    test_data[num_cols] = scaler.transform(test_data[num_cols])"
      ],
      "metadata": {
        "trusted": true,
        "execution": {
          "iopub.status.busy": "2024-12-06T08:18:35.020922Z",
          "iopub.execute_input": "2024-12-06T08:18:35.021408Z",
          "iopub.status.idle": "2024-12-06T08:18:35.061707Z",
          "shell.execute_reply.started": "2024-12-06T08:18:35.021361Z",
          "shell.execute_reply": "2024-12-06T08:18:35.059581Z"
        },
        "id": "NpznyJdKHDNm"
      },
      "outputs": [],
      "execution_count": 11
    },
    {
      "cell_type": "code",
      "source": [
        "# Separación de características y etiqueta\n",
        "X = train_data.drop(columns=[\"sii\"])\n",
        "y = train_data[\"sii\"]"
      ],
      "metadata": {
        "trusted": true,
        "execution": {
          "iopub.status.busy": "2024-12-06T08:18:35.827023Z",
          "iopub.execute_input": "2024-12-06T08:18:35.827466Z",
          "iopub.status.idle": "2024-12-06T08:18:35.837837Z",
          "shell.execute_reply.started": "2024-12-06T08:18:35.827429Z",
          "shell.execute_reply": "2024-12-06T08:18:35.836714Z"
        },
        "id": "WTanFrD8HDNm"
      },
      "outputs": [],
      "execution_count": 12
    },
    {
      "cell_type": "code",
      "source": [
        "# Asegúrate de que y no tenga valores nulos\n",
        "y = y.dropna()  # Eliminar NaN, si existen\n",
        "y.reset_index(drop=True, inplace=True)  # Reiniciar índices para problemas potenciales"
      ],
      "metadata": {
        "trusted": true,
        "execution": {
          "iopub.status.busy": "2024-12-06T08:18:36.848118Z",
          "iopub.execute_input": "2024-12-06T08:18:36.848558Z",
          "iopub.status.idle": "2024-12-06T08:18:36.855218Z",
          "shell.execute_reply.started": "2024-12-06T08:18:36.848523Z",
          "shell.execute_reply": "2024-12-06T08:18:36.853949Z"
        },
        "id": "4iBPf6ANHDNn"
      },
      "outputs": [],
      "execution_count": 13
    },
    {
      "cell_type": "code",
      "source": [
        "# Manejo del desbalance\n",
        "unique_classes = np.unique(y)  # Obtener clases únicas de y"
      ],
      "metadata": {
        "trusted": true,
        "execution": {
          "iopub.status.busy": "2024-12-06T08:18:37.695807Z",
          "iopub.execute_input": "2024-12-06T08:18:37.696211Z",
          "iopub.status.idle": "2024-12-06T08:18:37.702721Z",
          "shell.execute_reply.started": "2024-12-06T08:18:37.69618Z",
          "shell.execute_reply": "2024-12-06T08:18:37.70163Z"
        },
        "id": "A84A37srHDNn"
      },
      "outputs": [],
      "execution_count": 14
    },
    {
      "cell_type": "code",
      "source": [
        "# Comprobar si unique_classes contiene todas las etiquetas esperadas\n",
        "print(\"Unique classes in y:\", unique_classes)"
      ],
      "metadata": {
        "trusted": true,
        "execution": {
          "iopub.status.busy": "2024-12-06T08:18:38.275237Z",
          "iopub.execute_input": "2024-12-06T08:18:38.275737Z",
          "iopub.status.idle": "2024-12-06T08:18:38.282812Z",
          "shell.execute_reply.started": "2024-12-06T08:18:38.2757Z",
          "shell.execute_reply": "2024-12-06T08:18:38.281326Z"
        },
        "colab": {
          "base_uri": "https://localhost:8080/"
        },
        "id": "cZYXJ_43HDNn",
        "outputId": "17fc5b61-1418-4d9d-e718-56fb0699797b"
      },
      "outputs": [
        {
          "output_type": "stream",
          "name": "stdout",
          "text": [
            "Unique classes in y: [0. 1. 2. 3.]\n"
          ]
        }
      ],
      "execution_count": 15
    },
    {
      "cell_type": "code",
      "source": [
        "# Calcular pesos de clase\n",
        "class_weights = compute_class_weight('balanced', classes=unique_classes, y=y)"
      ],
      "metadata": {
        "trusted": true,
        "execution": {
          "iopub.status.busy": "2024-12-06T08:18:39.126123Z",
          "iopub.execute_input": "2024-12-06T08:18:39.126562Z",
          "iopub.status.idle": "2024-12-06T08:18:39.136607Z",
          "shell.execute_reply.started": "2024-12-06T08:18:39.126527Z",
          "shell.execute_reply": "2024-12-06T08:18:39.134712Z"
        },
        "id": "vbdS6gI9HDNn"
      },
      "outputs": [],
      "execution_count": 16
    },
    {
      "cell_type": "code",
      "source": [
        "# Crear un diccionario de pesos usando las etiquetas\n",
        "class_weights_dict = dict(zip(unique_classes, class_weights))"
      ],
      "metadata": {
        "trusted": true,
        "execution": {
          "iopub.status.busy": "2024-12-06T08:18:39.846356Z",
          "iopub.execute_input": "2024-12-06T08:18:39.84685Z",
          "iopub.status.idle": "2024-12-06T08:18:39.852181Z",
          "shell.execute_reply.started": "2024-12-06T08:18:39.846815Z",
          "shell.execute_reply": "2024-12-06T08:18:39.850886Z"
        },
        "id": "CtNNfpcNHDNn"
      },
      "outputs": [],
      "execution_count": 17
    },
    {
      "cell_type": "code",
      "source": [
        "# Verificar los pesos de clase\n",
        "print(\"Class weights:\", class_weights_dict)"
      ],
      "metadata": {
        "trusted": true,
        "execution": {
          "iopub.status.busy": "2024-12-06T08:18:40.397024Z",
          "iopub.execute_input": "2024-12-06T08:18:40.397459Z",
          "iopub.status.idle": "2024-12-06T08:18:40.403854Z",
          "shell.execute_reply.started": "2024-12-06T08:18:40.397422Z",
          "shell.execute_reply": "2024-12-06T08:18:40.402357Z"
        },
        "colab": {
          "base_uri": "https://localhost:8080/"
        },
        "id": "kG7-YSujHDNn",
        "outputId": "f2327485-3bec-4578-ebcf-4b815df97a2d"
      },
      "outputs": [
        {
          "output_type": "stream",
          "name": "stdout",
          "text": [
            "Class weights: {0.0: 0.42910915934755334, 1.0: 0.936986301369863, 2.0: 1.8095238095238095, 3.0: 20.11764705882353}\n"
          ]
        }
      ],
      "execution_count": 18
    },
    {
      "cell_type": "code",
      "source": [
        "# Verificar si hay valores nulos en y\n",
        "if y.isnull().any():\n",
        "    print(\"Hay valores nulos en y. Se eliminarán.\")\n",
        "    # Eliminar filas de X donde y es nulo\n",
        "    valid_indices = y.dropna().index\n",
        "    X = X.loc[valid_indices]  # Filtrar X para que coincida con y sin nulos\n",
        "    y = y.dropna()  # Asegúrate de que y también esté limpio"
      ],
      "metadata": {
        "trusted": true,
        "execution": {
          "iopub.status.busy": "2024-12-06T08:18:40.979347Z",
          "iopub.execute_input": "2024-12-06T08:18:40.979753Z",
          "iopub.status.idle": "2024-12-06T08:18:40.986279Z",
          "shell.execute_reply.started": "2024-12-06T08:18:40.979721Z",
          "shell.execute_reply": "2024-12-06T08:18:40.984838Z"
        },
        "id": "H74Vz9sUHDNn"
      },
      "outputs": [],
      "execution_count": 19
    },
    {
      "cell_type": "code",
      "source": [
        "# Ahora ambos deben tener el mismo número de muestras\n",
        "print(f\"Número de muestras en X: {X.shape[0]}, Número de muestras en y: {y.shape[0]}\")"
      ],
      "metadata": {
        "trusted": true,
        "execution": {
          "iopub.status.busy": "2024-12-06T08:18:41.587216Z",
          "iopub.execute_input": "2024-12-06T08:18:41.588606Z",
          "iopub.status.idle": "2024-12-06T08:18:41.594039Z",
          "shell.execute_reply.started": "2024-12-06T08:18:41.588556Z",
          "shell.execute_reply": "2024-12-06T08:18:41.592784Z"
        },
        "colab": {
          "base_uri": "https://localhost:8080/"
        },
        "id": "itvmOVIjHDNn",
        "outputId": "e1a3484d-2741-4af5-ab8d-cbfa626625d6"
      },
      "outputs": [
        {
          "output_type": "stream",
          "name": "stdout",
          "text": [
            "Número de muestras en X: 3960, Número de muestras en y: 2736\n"
          ]
        }
      ],
      "execution_count": 20
    },
    {
      "cell_type": "code",
      "source": [
        "# Asegurarte de que 'sii' no tenga NaN y que X y y estén alineados\n",
        "y = train_data[\"sii\"].dropna()  # Asegúrate de que y esté limpio de NaN\n",
        "X = train_data.loc[y.index].drop(columns=[\"sii\"])  # Filtrar X para que coincida con y limpiado"
      ],
      "metadata": {
        "trusted": true,
        "execution": {
          "iopub.status.busy": "2024-12-06T08:18:42.155906Z",
          "iopub.execute_input": "2024-12-06T08:18:42.156325Z",
          "iopub.status.idle": "2024-12-06T08:18:42.169644Z",
          "shell.execute_reply.started": "2024-12-06T08:18:42.156289Z",
          "shell.execute_reply": "2024-12-06T08:18:42.168552Z"
        },
        "id": "135yhDlxHDNo"
      },
      "outputs": [],
      "execution_count": 21
    },
    {
      "cell_type": "code",
      "source": [
        "# Comprobar dimensiones\n",
        "print(f\"Número de muestras en X: {X.shape[0]}, Número de muestras en y: {y.shape[0]}\")"
      ],
      "metadata": {
        "trusted": true,
        "execution": {
          "iopub.status.busy": "2024-12-06T08:18:42.979521Z",
          "iopub.execute_input": "2024-12-06T08:18:42.979976Z",
          "iopub.status.idle": "2024-12-06T08:18:42.986768Z",
          "shell.execute_reply.started": "2024-12-06T08:18:42.979939Z",
          "shell.execute_reply": "2024-12-06T08:18:42.985353Z"
        },
        "colab": {
          "base_uri": "https://localhost:8080/"
        },
        "id": "loCulYvwHDNo",
        "outputId": "7a5bd9d6-9917-4402-b46e-08229569a83c"
      },
      "outputs": [
        {
          "output_type": "stream",
          "name": "stdout",
          "text": [
            "Número de muestras en X: 2736, Número de muestras en y: 2736\n"
          ]
        }
      ],
      "execution_count": 22
    },
    {
      "cell_type": "code",
      "source": [
        "# División del conjunto de datos\n",
        "X_train, X_val, y_train, y_val = train_test_split(X, y, test_size=0.2, random_state=42, stratify=y)"
      ],
      "metadata": {
        "trusted": true,
        "execution": {
          "iopub.status.busy": "2024-12-06T08:18:43.556676Z",
          "iopub.execute_input": "2024-12-06T08:18:43.557107Z",
          "iopub.status.idle": "2024-12-06T08:18:43.575067Z",
          "shell.execute_reply.started": "2024-12-06T08:18:43.557072Z",
          "shell.execute_reply": "2024-12-06T08:18:43.573234Z"
        },
        "id": "UmCclLVGHDNo"
      },
      "outputs": [],
      "execution_count": 23
    },
    {
      "cell_type": "code",
      "source": [
        "# Verificar los tamaños de los conjuntos de entrenamiento y validación\n",
        "print(\"Tamaños de los conjuntos:\")\n",
        "print(f\"X_train: {X_train.shape[0]}, X_val: {X_val.shape[0]}\")\n",
        "print(f\"y_train: {y_train.shape[0]}, y_val: {y_val.shape[0]}\")"
      ],
      "metadata": {
        "trusted": true,
        "execution": {
          "iopub.status.busy": "2024-12-06T08:18:44.244185Z",
          "iopub.execute_input": "2024-12-06T08:18:44.245534Z",
          "iopub.status.idle": "2024-12-06T08:18:44.252965Z",
          "shell.execute_reply.started": "2024-12-06T08:18:44.245486Z",
          "shell.execute_reply": "2024-12-06T08:18:44.251385Z"
        },
        "colab": {
          "base_uri": "https://localhost:8080/"
        },
        "id": "b6aDROHQHDNo",
        "outputId": "72fea1f4-af6e-428b-feb7-50f33cc99f31"
      },
      "outputs": [
        {
          "output_type": "stream",
          "name": "stdout",
          "text": [
            "Tamaños de los conjuntos:\n",
            "X_train: 2188, X_val: 548\n",
            "y_train: 2188, y_val: 548\n"
          ]
        }
      ],
      "execution_count": 24
    },
    {
      "cell_type": "code",
      "source": [
        "from sklearn.preprocessing import LabelEncoder\n",
        "\n",
        "# Get a list of object columns from X_train, excluding 'id'\n",
        "object_cols = X_train.select_dtypes(include=['object']).columns.tolist()\n",
        "\n",
        "# Check if 'id' is in the list before attempting to remove it\n",
        "if 'id' in object_cols:\n",
        "    object_cols.remove('id')  # Remove 'id' from the list of columns to encode\n",
        "\n",
        "# Create a LabelEncoder object\n",
        "label_encoder = LabelEncoder()\n",
        "\n",
        "# Apply label encoding to each object column (excluding 'id') in both training and validation sets\n",
        "for col in object_cols:\n",
        "    # Fit on the combined unique values from both train and validation sets\n",
        "    unique_values = pd.concat([X_train[col], X_val[col]]).unique()\n",
        "    label_encoder.fit(unique_values)\n",
        "\n",
        "    X_train[col] = label_encoder.transform(X_train[col])\n",
        "    X_val[col] = label_encoder.transform(X_val[col])\n",
        ""
      ],
      "metadata": {
        "id": "ZUPXD0YMJLKv"
      },
      "execution_count": 27,
      "outputs": []
    },
    {
      "cell_type": "code",
      "source": [
        "# Get a list of object columns from X_train that are also in test_data\n",
        "object_cols = X_train.select_dtypes(include=['object']).columns.tolist()\n",
        "object_cols_test = test_data.select_dtypes(include=['object']).columns.tolist()\n",
        "common_object_cols = list(set(object_cols).intersection(object_cols_test))\n",
        "\n",
        "# Create a LabelEncoder object\n",
        "label_encoder = LabelEncoder()\n",
        "\n",
        "# Apply label encoding to each common object column in both training and validation sets\n",
        "for col in common_object_cols:\n",
        "    X_train[col] = label_encoder.fit_transform(X_train[col])\n",
        "    X_val[col] = label_encoder.transform(X_val[col])\n",
        "    # Apply the same encoding to test_data if the column exists\n",
        "    if col in test_data.columns:\n",
        "        test_data[col] = label_encoder.transform(test_data[col])"
      ],
      "metadata": {
        "id": "DVcVfQQANTJq"
      },
      "execution_count": 31,
      "outputs": []
    },
    {
      "cell_type": "code",
      "source": [
        "\n",
        "# Define the objective function for Optuna\n",
        "def objective(trial):\n",
        "    params = {\n",
        "        'objective': 'multiclass',\n",
        "        'metric': 'multi_logloss',\n",
        "        'num_class': len(np.unique(y_train)), # Number of classes in your target variable\n",
        "        'boosting_type': 'gbdt',  # or 'dart', 'goss'\n",
        "        'num_leaves': trial.suggest_int('num_leaves', 20, 300),\n",
        "        'learning_rate': trial.suggest_float('learning_rate', 0.001, 0.3),\n",
        "        'feature_fraction': trial.suggest_float('feature_fraction', 0.4, 1.0),\n",
        "        'bagging_fraction': trial.suggest_float('bagging_fraction', 0.4, 1.0),\n",
        "        'bagging_freq': trial.suggest_int('bagging_freq', 1, 7),\n",
        "        'max_depth': trial.suggest_int('max_depth', 3, 12),\n",
        "        'min_data_in_leaf': trial.suggest_int('min_data_in_leaf', 20, 100),\n",
        "        'lambda_l1': trial.suggest_loguniform('lambda_l1', 1e-8, 10.0),\n",
        "        'lambda_l2': trial.suggest_loguniform('lambda_l2', 1e-8, 10.0),\n",
        "        'min_gain_to_split': trial.suggest_float('min_gain_to_split', 0, 15),\n",
        "        'verbose': -1,\n",
        "        \"seed\": 42\n",
        "    }\n",
        "\n",
        "\n",
        "    # Create and train the LightGBM model\n",
        "    model = lgb.LGBMClassifier(**params)\n",
        "\n",
        "    # Remove the 'id' column from X_train and X_val before fitting\n",
        "    X_train_no_id = X_train.drop(columns=['id'], errors='ignore')  # errors='ignore' to avoid errors if 'id' is already dropped\n",
        "    X_val_no_id = X_val.drop(columns=['id'], errors='ignore')\n",
        "\n",
        "    # Use early stopping callback to prevent overfitting and infinite loops\n",
        "    model.fit(X_train_no_id, y_train,\n",
        "              eval_set=[(X_val_no_id, y_val)],\n",
        "              callbacks=[lgb.early_stopping(stopping_rounds=100, verbose=100)]) # Use early_stopping callback\n",
        "\n",
        "    preds = model.predict(X_val_no_id)  # Predict on validation data without 'id'\n",
        "    qwk = quadratic_weighted_kappa(y_val, preds)\n",
        "    return qwk\n",
        "\n",
        "# Create an Optuna study\n",
        "study = optuna.create_study(direction='maximize')  # Maximize QWK\n",
        "study.optimize(objective, n_trials=100) # Adjust n_trials as needed\n",
        "\n",
        "print('Number of finished trials: ', len(study.trials))\n",
        "print('Best trial:')\n",
        "trial = study.best_trial\n",
        "\n",
        "print('  Value: ', trial.value)\n",
        "print('  Params: ')\n",
        "for key, value in trial.params.items():\n",
        "    print('    {}: {}'.format(key, value))"
      ],
      "metadata": {
        "trusted": true,
        "execution": {
          "iopub.status.busy": "2024-12-06T08:29:05.39872Z",
          "iopub.execute_input": "2024-12-06T08:29:05.399167Z",
          "iopub.status.idle": "2024-12-06T08:29:05.407387Z",
          "shell.execute_reply.started": "2024-12-06T08:29:05.399132Z",
          "shell.execute_reply": "2024-12-06T08:29:05.406142Z"
        },
        "colab": {
          "base_uri": "https://localhost:8080/"
        },
        "id": "lADOMnylHDNo",
        "outputId": "4b11eaff-43ac-4e73-9542-03a708554359"
      },
      "outputs": [
        {
          "output_type": "stream",
          "name": "stderr",
          "text": [
            "[I 2024-12-06 09:16:50,799] A new study created in memory with name: no-name-3bca9beb-de26-4390-8588-88f785b2e7a5\n",
            "<ipython-input-34-3b55cde02c14>:15: FutureWarning: suggest_loguniform has been deprecated in v3.0.0. This feature will be removed in v6.0.0. See https://github.com/optuna/optuna/releases/tag/v3.0.0. Use suggest_float(..., log=True) instead.\n",
            "  'lambda_l1': trial.suggest_loguniform('lambda_l1', 1e-8, 10.0),\n",
            "<ipython-input-34-3b55cde02c14>:16: FutureWarning: suggest_loguniform has been deprecated in v3.0.0. This feature will be removed in v6.0.0. See https://github.com/optuna/optuna/releases/tag/v3.0.0. Use suggest_float(..., log=True) instead.\n",
            "  'lambda_l2': trial.suggest_loguniform('lambda_l2', 1e-8, 10.0),\n"
          ]
        },
        {
          "output_type": "stream",
          "name": "stdout",
          "text": [
            "Training until validation scores don't improve for 100 rounds\n"
          ]
        },
        {
          "output_type": "stream",
          "name": "stderr",
          "text": [
            "[I 2024-12-06 09:16:51,169] Trial 0 finished with value: 0.34613615608689563 and parameters: {'num_leaves': 93, 'learning_rate': 0.04775528123833636, 'feature_fraction': 0.4464434569444363, 'bagging_fraction': 0.44090258184087755, 'bagging_freq': 1, 'max_depth': 12, 'min_data_in_leaf': 96, 'lambda_l1': 2.846704253780563, 'lambda_l2': 8.621915165771794e-07, 'min_gain_to_split': 0.19100182499770524}. Best is trial 0 with value: 0.34613615608689563.\n"
          ]
        },
        {
          "output_type": "stream",
          "name": "stdout",
          "text": [
            "Did not meet early stopping. Best iteration is:\n",
            "[74]\tvalid_0's multi_logloss: 0.860331\n",
            "Training until validation scores don't improve for 100 rounds\n"
          ]
        },
        {
          "output_type": "stream",
          "name": "stderr",
          "text": [
            "<ipython-input-34-3b55cde02c14>:15: FutureWarning: suggest_loguniform has been deprecated in v3.0.0. This feature will be removed in v6.0.0. See https://github.com/optuna/optuna/releases/tag/v3.0.0. Use suggest_float(..., log=True) instead.\n",
            "  'lambda_l1': trial.suggest_loguniform('lambda_l1', 1e-8, 10.0),\n",
            "<ipython-input-34-3b55cde02c14>:16: FutureWarning: suggest_loguniform has been deprecated in v3.0.0. This feature will be removed in v6.0.0. See https://github.com/optuna/optuna/releases/tag/v3.0.0. Use suggest_float(..., log=True) instead.\n",
            "  'lambda_l2': trial.suggest_loguniform('lambda_l2', 1e-8, 10.0),\n",
            "[I 2024-12-06 09:16:51,563] Trial 1 finished with value: 0.3809349769079975 and parameters: {'num_leaves': 136, 'learning_rate': 0.2136603622550393, 'feature_fraction': 0.988373159111789, 'bagging_fraction': 0.9141542563978255, 'bagging_freq': 1, 'max_depth': 9, 'min_data_in_leaf': 61, 'lambda_l1': 0.0001552254430356165, 'lambda_l2': 9.971816722399405, 'min_gain_to_split': 5.6421835158250815}. Best is trial 1 with value: 0.3809349769079975.\n"
          ]
        },
        {
          "output_type": "stream",
          "name": "stdout",
          "text": [
            "Did not meet early stopping. Best iteration is:\n",
            "[93]\tvalid_0's multi_logloss: 0.854866\n",
            "Training until validation scores don't improve for 100 rounds\n"
          ]
        },
        {
          "output_type": "stream",
          "name": "stderr",
          "text": [
            "<ipython-input-34-3b55cde02c14>:15: FutureWarning: suggest_loguniform has been deprecated in v3.0.0. This feature will be removed in v6.0.0. See https://github.com/optuna/optuna/releases/tag/v3.0.0. Use suggest_float(..., log=True) instead.\n",
            "  'lambda_l1': trial.suggest_loguniform('lambda_l1', 1e-8, 10.0),\n",
            "<ipython-input-34-3b55cde02c14>:16: FutureWarning: suggest_loguniform has been deprecated in v3.0.0. This feature will be removed in v6.0.0. See https://github.com/optuna/optuna/releases/tag/v3.0.0. Use suggest_float(..., log=True) instead.\n",
            "  'lambda_l2': trial.suggest_loguniform('lambda_l2', 1e-8, 10.0),\n",
            "[I 2024-12-06 09:16:51,796] Trial 2 finished with value: 0.019244618423210458 and parameters: {'num_leaves': 181, 'learning_rate': 0.09962200045245012, 'feature_fraction': 0.8721642227552477, 'bagging_fraction': 0.45375304724752585, 'bagging_freq': 7, 'max_depth': 4, 'min_data_in_leaf': 82, 'lambda_l1': 0.003856850703139575, 'lambda_l2': 1.2568162213124331e-07, 'min_gain_to_split': 13.465750693072499}. Best is trial 1 with value: 0.3809349769079975.\n"
          ]
        },
        {
          "output_type": "stream",
          "name": "stdout",
          "text": [
            "Did not meet early stopping. Best iteration is:\n",
            "[20]\tvalid_0's multi_logloss: 0.888053\n",
            "Training until validation scores don't improve for 100 rounds\n",
            "Did not meet early stopping. Best iteration is:\n",
            "[51]\tvalid_0's multi_logloss: 0.871574"
          ]
        },
        {
          "output_type": "stream",
          "name": "stderr",
          "text": [
            "<ipython-input-34-3b55cde02c14>:15: FutureWarning: suggest_loguniform has been deprecated in v3.0.0. This feature will be removed in v6.0.0. See https://github.com/optuna/optuna/releases/tag/v3.0.0. Use suggest_float(..., log=True) instead.\n",
            "  'lambda_l1': trial.suggest_loguniform('lambda_l1', 1e-8, 10.0),\n",
            "<ipython-input-34-3b55cde02c14>:16: FutureWarning: suggest_loguniform has been deprecated in v3.0.0. This feature will be removed in v6.0.0. See https://github.com/optuna/optuna/releases/tag/v3.0.0. Use suggest_float(..., log=True) instead.\n",
            "  'lambda_l2': trial.suggest_loguniform('lambda_l2', 1e-8, 10.0),\n",
            "[I 2024-12-06 09:16:52,005] Trial 3 finished with value: 0.18153671725100295 and parameters: {'num_leaves': 111, 'learning_rate': 0.0887502325858581, 'feature_fraction': 0.4215720359560017, 'bagging_fraction': 0.5543197449004786, 'bagging_freq': 6, 'max_depth': 6, 'min_data_in_leaf': 63, 'lambda_l1': 2.7096297434563856e-08, 'lambda_l2': 3.5094994647126336e-06, 'min_gain_to_split': 12.300397779252707}. Best is trial 1 with value: 0.3809349769079975.\n"
          ]
        },
        {
          "output_type": "stream",
          "name": "stdout",
          "text": [
            "\n",
            "Training until validation scores don't improve for 100 rounds\n"
          ]
        },
        {
          "output_type": "stream",
          "name": "stderr",
          "text": [
            "<ipython-input-34-3b55cde02c14>:15: FutureWarning: suggest_loguniform has been deprecated in v3.0.0. This feature will be removed in v6.0.0. See https://github.com/optuna/optuna/releases/tag/v3.0.0. Use suggest_float(..., log=True) instead.\n",
            "  'lambda_l1': trial.suggest_loguniform('lambda_l1', 1e-8, 10.0),\n",
            "<ipython-input-34-3b55cde02c14>:16: FutureWarning: suggest_loguniform has been deprecated in v3.0.0. This feature will be removed in v6.0.0. See https://github.com/optuna/optuna/releases/tag/v3.0.0. Use suggest_float(..., log=True) instead.\n",
            "  'lambda_l2': trial.suggest_loguniform('lambda_l2', 1e-8, 10.0),\n",
            "[I 2024-12-06 09:16:52,260] Trial 4 finished with value: 0.3334729814650891 and parameters: {'num_leaves': 119, 'learning_rate': 0.08816568400466868, 'feature_fraction': 0.48955564642920324, 'bagging_fraction': 0.6678582432222471, 'bagging_freq': 1, 'max_depth': 8, 'min_data_in_leaf': 63, 'lambda_l1': 3.4843617921161003e-07, 'lambda_l2': 0.0020492268873269085, 'min_gain_to_split': 9.664986374231077}. Best is trial 1 with value: 0.3809349769079975.\n"
          ]
        },
        {
          "output_type": "stream",
          "name": "stdout",
          "text": [
            "Did not meet early stopping. Best iteration is:\n",
            "[93]\tvalid_0's multi_logloss: 0.854366\n",
            "Training until validation scores don't improve for 100 rounds\n"
          ]
        },
        {
          "output_type": "stream",
          "name": "stderr",
          "text": [
            "<ipython-input-34-3b55cde02c14>:15: FutureWarning: suggest_loguniform has been deprecated in v3.0.0. This feature will be removed in v6.0.0. See https://github.com/optuna/optuna/releases/tag/v3.0.0. Use suggest_float(..., log=True) instead.\n",
            "  'lambda_l1': trial.suggest_loguniform('lambda_l1', 1e-8, 10.0),\n",
            "<ipython-input-34-3b55cde02c14>:16: FutureWarning: suggest_loguniform has been deprecated in v3.0.0. This feature will be removed in v6.0.0. See https://github.com/optuna/optuna/releases/tag/v3.0.0. Use suggest_float(..., log=True) instead.\n",
            "  'lambda_l2': trial.suggest_loguniform('lambda_l2', 1e-8, 10.0),\n",
            "[I 2024-12-06 09:16:52,583] Trial 5 finished with value: 0.3432179756181776 and parameters: {'num_leaves': 214, 'learning_rate': 0.17546351740721813, 'feature_fraction': 0.5437854417899085, 'bagging_fraction': 0.8474355136812164, 'bagging_freq': 7, 'max_depth': 3, 'min_data_in_leaf': 59, 'lambda_l1': 1.8851168939550037e-06, 'lambda_l2': 0.00012671909650883198, 'min_gain_to_split': 3.6943150223713332}. Best is trial 1 with value: 0.3809349769079975.\n"
          ]
        },
        {
          "output_type": "stream",
          "name": "stdout",
          "text": [
            "Did not meet early stopping. Best iteration is:\n",
            "[26]\tvalid_0's multi_logloss: 0.841285\n",
            "Training until validation scores don't improve for 100 rounds\n"
          ]
        },
        {
          "output_type": "stream",
          "name": "stderr",
          "text": [
            "<ipython-input-34-3b55cde02c14>:15: FutureWarning: suggest_loguniform has been deprecated in v3.0.0. This feature will be removed in v6.0.0. See https://github.com/optuna/optuna/releases/tag/v3.0.0. Use suggest_float(..., log=True) instead.\n",
            "  'lambda_l1': trial.suggest_loguniform('lambda_l1', 1e-8, 10.0),\n",
            "<ipython-input-34-3b55cde02c14>:16: FutureWarning: suggest_loguniform has been deprecated in v3.0.0. This feature will be removed in v6.0.0. See https://github.com/optuna/optuna/releases/tag/v3.0.0. Use suggest_float(..., log=True) instead.\n",
            "  'lambda_l2': trial.suggest_loguniform('lambda_l2', 1e-8, 10.0),\n",
            "[I 2024-12-06 09:16:52,836] Trial 6 finished with value: 0.3018825955958182 and parameters: {'num_leaves': 99, 'learning_rate': 0.20112691666463045, 'feature_fraction': 0.8844995874445897, 'bagging_fraction': 0.6987913653314322, 'bagging_freq': 2, 'max_depth': 8, 'min_data_in_leaf': 23, 'lambda_l1': 0.34319289339999276, 'lambda_l2': 1.5493334839629915e-06, 'min_gain_to_split': 10.433222347938687}. Best is trial 1 with value: 0.3809349769079975.\n"
          ]
        },
        {
          "output_type": "stream",
          "name": "stdout",
          "text": [
            "Did not meet early stopping. Best iteration is:\n",
            "[15]\tvalid_0's multi_logloss: 0.865077\n",
            "Training until validation scores don't improve for 100 rounds\n",
            "Did not meet early stopping. Best iteration is:\n",
            "[8]\tvalid_0's multi_logloss: 0.88549\n"
          ]
        },
        {
          "output_type": "stream",
          "name": "stderr",
          "text": [
            "<ipython-input-34-3b55cde02c14>:15: FutureWarning: suggest_loguniform has been deprecated in v3.0.0. This feature will be removed in v6.0.0. See https://github.com/optuna/optuna/releases/tag/v3.0.0. Use suggest_float(..., log=True) instead.\n",
            "  'lambda_l1': trial.suggest_loguniform('lambda_l1', 1e-8, 10.0),\n",
            "<ipython-input-34-3b55cde02c14>:16: FutureWarning: suggest_loguniform has been deprecated in v3.0.0. This feature will be removed in v6.0.0. See https://github.com/optuna/optuna/releases/tag/v3.0.0. Use suggest_float(..., log=True) instead.\n",
            "  'lambda_l2': trial.suggest_loguniform('lambda_l2', 1e-8, 10.0),\n",
            "[I 2024-12-06 09:16:53,042] Trial 7 finished with value: 0.26549903068386926 and parameters: {'num_leaves': 124, 'learning_rate': 0.24337512379611842, 'feature_fraction': 0.8120440909325789, 'bagging_fraction': 0.5292540810769155, 'bagging_freq': 5, 'max_depth': 11, 'min_data_in_leaf': 96, 'lambda_l1': 1.4387847629059892e-07, 'lambda_l2': 9.119152474865427e-08, 'min_gain_to_split': 12.647496128345448}. Best is trial 1 with value: 0.3809349769079975.\n",
            "<ipython-input-34-3b55cde02c14>:15: FutureWarning: suggest_loguniform has been deprecated in v3.0.0. This feature will be removed in v6.0.0. See https://github.com/optuna/optuna/releases/tag/v3.0.0. Use suggest_float(..., log=True) instead.\n",
            "  'lambda_l1': trial.suggest_loguniform('lambda_l1', 1e-8, 10.0),\n",
            "<ipython-input-34-3b55cde02c14>:16: FutureWarning: suggest_loguniform has been deprecated in v3.0.0. This feature will be removed in v6.0.0. See https://github.com/optuna/optuna/releases/tag/v3.0.0. Use suggest_float(..., log=True) instead.\n",
            "  'lambda_l2': trial.suggest_loguniform('lambda_l2', 1e-8, 10.0),\n",
            "[I 2024-12-06 09:16:53,253] Trial 8 finished with value: 0.07356678296076147 and parameters: {'num_leaves': 116, 'learning_rate': 0.24106186073089314, 'feature_fraction': 0.6276447393340076, 'bagging_fraction': 0.5849235098816691, 'bagging_freq': 3, 'max_depth': 5, 'min_data_in_leaf': 40, 'lambda_l1': 2.154799881962035e-08, 'lambda_l2': 0.49029497993519183, 'min_gain_to_split': 14.263417039712277}. Best is trial 1 with value: 0.3809349769079975.\n"
          ]
        },
        {
          "output_type": "stream",
          "name": "stdout",
          "text": [
            "Training until validation scores don't improve for 100 rounds\n",
            "Did not meet early stopping. Best iteration is:\n",
            "[10]\tvalid_0's multi_logloss: 0.88133\n"
          ]
        },
        {
          "output_type": "stream",
          "name": "stderr",
          "text": [
            "<ipython-input-34-3b55cde02c14>:15: FutureWarning: suggest_loguniform has been deprecated in v3.0.0. This feature will be removed in v6.0.0. See https://github.com/optuna/optuna/releases/tag/v3.0.0. Use suggest_float(..., log=True) instead.\n",
            "  'lambda_l1': trial.suggest_loguniform('lambda_l1', 1e-8, 10.0),\n",
            "<ipython-input-34-3b55cde02c14>:16: FutureWarning: suggest_loguniform has been deprecated in v3.0.0. This feature will be removed in v6.0.0. See https://github.com/optuna/optuna/releases/tag/v3.0.0. Use suggest_float(..., log=True) instead.\n",
            "  'lambda_l2': trial.suggest_loguniform('lambda_l2', 1e-8, 10.0),\n"
          ]
        },
        {
          "output_type": "stream",
          "name": "stdout",
          "text": [
            "Training until validation scores don't improve for 100 rounds\n"
          ]
        },
        {
          "output_type": "stream",
          "name": "stderr",
          "text": [
            "[I 2024-12-06 09:16:53,554] Trial 9 finished with value: 0.2906346345231716 and parameters: {'num_leaves': 249, 'learning_rate': 0.0772463922899155, 'feature_fraction': 0.5199727587400804, 'bagging_fraction': 0.901112185805837, 'bagging_freq': 7, 'max_depth': 3, 'min_data_in_leaf': 64, 'lambda_l1': 0.1909997059058898, 'lambda_l2': 0.004440962662212427, 'min_gain_to_split': 8.431954093639268}. Best is trial 1 with value: 0.3809349769079975.\n"
          ]
        },
        {
          "output_type": "stream",
          "name": "stdout",
          "text": [
            "Did not meet early stopping. Best iteration is:\n",
            "[38]\tvalid_0's multi_logloss: 0.862506\n",
            "Training until validation scores don't improve for 100 rounds\n"
          ]
        },
        {
          "output_type": "stream",
          "name": "stderr",
          "text": [
            "<ipython-input-34-3b55cde02c14>:15: FutureWarning: suggest_loguniform has been deprecated in v3.0.0. This feature will be removed in v6.0.0. See https://github.com/optuna/optuna/releases/tag/v3.0.0. Use suggest_float(..., log=True) instead.\n",
            "  'lambda_l1': trial.suggest_loguniform('lambda_l1', 1e-8, 10.0),\n",
            "<ipython-input-34-3b55cde02c14>:16: FutureWarning: suggest_loguniform has been deprecated in v3.0.0. This feature will be removed in v6.0.0. See https://github.com/optuna/optuna/releases/tag/v3.0.0. Use suggest_float(..., log=True) instead.\n",
            "  'lambda_l2': trial.suggest_loguniform('lambda_l2', 1e-8, 10.0),\n",
            "[I 2024-12-06 09:16:53,975] Trial 10 finished with value: 0.33994387765067413 and parameters: {'num_leaves': 35, 'learning_rate': 0.29306617883503905, 'feature_fraction': 0.985438649926329, 'bagging_fraction': 0.98607242587865, 'bagging_freq': 4, 'max_depth': 10, 'min_data_in_leaf': 45, 'lambda_l1': 6.723837827778665e-05, 'lambda_l2': 3.4502672796032905, 'min_gain_to_split': 4.147529046686691}. Best is trial 1 with value: 0.3809349769079975.\n"
          ]
        },
        {
          "output_type": "stream",
          "name": "stdout",
          "text": [
            "Did not meet early stopping. Best iteration is:\n",
            "[12]\tvalid_0's multi_logloss: 0.85461\n",
            "Training until validation scores don't improve for 100 rounds\n"
          ]
        },
        {
          "output_type": "stream",
          "name": "stderr",
          "text": [
            "<ipython-input-34-3b55cde02c14>:15: FutureWarning: suggest_loguniform has been deprecated in v3.0.0. This feature will be removed in v6.0.0. See https://github.com/optuna/optuna/releases/tag/v3.0.0. Use suggest_float(..., log=True) instead.\n",
            "  'lambda_l1': trial.suggest_loguniform('lambda_l1', 1e-8, 10.0),\n",
            "<ipython-input-34-3b55cde02c14>:16: FutureWarning: suggest_loguniform has been deprecated in v3.0.0. This feature will be removed in v6.0.0. See https://github.com/optuna/optuna/releases/tag/v3.0.0. Use suggest_float(..., log=True) instead.\n",
            "  'lambda_l2': trial.suggest_loguniform('lambda_l2', 1e-8, 10.0),\n",
            "[I 2024-12-06 09:16:54,677] Trial 11 finished with value: 0.3447638765134441 and parameters: {'num_leaves': 35, 'learning_rate': 0.1347706324199972, 'feature_fraction': 0.7082871043461327, 'bagging_fraction': 0.8050338727688837, 'bagging_freq': 1, 'max_depth': 12, 'min_data_in_leaf': 98, 'lambda_l1': 0.0007924041654070681, 'lambda_l2': 0.089143791343303, 'min_gain_to_split': 0.5811432677334334}. Best is trial 1 with value: 0.3809349769079975.\n"
          ]
        },
        {
          "output_type": "stream",
          "name": "stdout",
          "text": [
            "Did not meet early stopping. Best iteration is:\n",
            "[18]\tvalid_0's multi_logloss: 0.856038\n"
          ]
        },
        {
          "output_type": "stream",
          "name": "stderr",
          "text": [
            "<ipython-input-34-3b55cde02c14>:15: FutureWarning: suggest_loguniform has been deprecated in v3.0.0. This feature will be removed in v6.0.0. See https://github.com/optuna/optuna/releases/tag/v3.0.0. Use suggest_float(..., log=True) instead.\n",
            "  'lambda_l1': trial.suggest_loguniform('lambda_l1', 1e-8, 10.0),\n",
            "<ipython-input-34-3b55cde02c14>:16: FutureWarning: suggest_loguniform has been deprecated in v3.0.0. This feature will be removed in v6.0.0. See https://github.com/optuna/optuna/releases/tag/v3.0.0. Use suggest_float(..., log=True) instead.\n",
            "  'lambda_l2': trial.suggest_loguniform('lambda_l2', 1e-8, 10.0),\n"
          ]
        },
        {
          "output_type": "stream",
          "name": "stdout",
          "text": [
            "Training until validation scores don't improve for 100 rounds\n"
          ]
        },
        {
          "output_type": "stream",
          "name": "stderr",
          "text": [
            "[I 2024-12-06 09:16:55,511] Trial 12 finished with value: 0.0 and parameters: {'num_leaves': 295, 'learning_rate': 0.0038901118043892235, 'feature_fraction': 0.7353772451818497, 'bagging_fraction': 0.42057280536850766, 'bagging_freq': 2, 'max_depth': 10, 'min_data_in_leaf': 83, 'lambda_l1': 5.010199313202088, 'lambda_l2': 9.508806995878422e-05, 'min_gain_to_split': 0.05448662464777776}. Best is trial 1 with value: 0.3809349769079975.\n"
          ]
        },
        {
          "output_type": "stream",
          "name": "stdout",
          "text": [
            "Did not meet early stopping. Best iteration is:\n",
            "[100]\tvalid_0's multi_logloss: 0.94038\n"
          ]
        },
        {
          "output_type": "stream",
          "name": "stderr",
          "text": [
            "<ipython-input-34-3b55cde02c14>:15: FutureWarning: suggest_loguniform has been deprecated in v3.0.0. This feature will be removed in v6.0.0. See https://github.com/optuna/optuna/releases/tag/v3.0.0. Use suggest_float(..., log=True) instead.\n",
            "  'lambda_l1': trial.suggest_loguniform('lambda_l1', 1e-8, 10.0),\n",
            "<ipython-input-34-3b55cde02c14>:16: FutureWarning: suggest_loguniform has been deprecated in v3.0.0. This feature will be removed in v6.0.0. See https://github.com/optuna/optuna/releases/tag/v3.0.0. Use suggest_float(..., log=True) instead.\n",
            "  'lambda_l2': trial.suggest_loguniform('lambda_l2', 1e-8, 10.0),\n"
          ]
        },
        {
          "output_type": "stream",
          "name": "stdout",
          "text": [
            "Training until validation scores don't improve for 100 rounds\n"
          ]
        },
        {
          "output_type": "stream",
          "name": "stderr",
          "text": [
            "[I 2024-12-06 09:16:56,324] Trial 13 finished with value: 0.07583272256338369 and parameters: {'num_leaves': 71, 'learning_rate': 0.011070868929868416, 'feature_fraction': 0.987963474301, 'bagging_fraction': 0.7741525095817401, 'bagging_freq': 2, 'max_depth': 9, 'min_data_in_leaf': 81, 'lambda_l1': 2.5958880578954993e-05, 'lambda_l2': 1.0550095534179406e-08, 'min_gain_to_split': 5.131652576448031}. Best is trial 1 with value: 0.3809349769079975.\n"
          ]
        },
        {
          "output_type": "stream",
          "name": "stdout",
          "text": [
            "Did not meet early stopping. Best iteration is:\n",
            "[100]\tvalid_0's multi_logloss: 0.874308\n"
          ]
        },
        {
          "output_type": "stream",
          "name": "stderr",
          "text": [
            "<ipython-input-34-3b55cde02c14>:15: FutureWarning: suggest_loguniform has been deprecated in v3.0.0. This feature will be removed in v6.0.0. See https://github.com/optuna/optuna/releases/tag/v3.0.0. Use suggest_float(..., log=True) instead.\n",
            "  'lambda_l1': trial.suggest_loguniform('lambda_l1', 1e-8, 10.0),\n",
            "<ipython-input-34-3b55cde02c14>:16: FutureWarning: suggest_loguniform has been deprecated in v3.0.0. This feature will be removed in v6.0.0. See https://github.com/optuna/optuna/releases/tag/v3.0.0. Use suggest_float(..., log=True) instead.\n",
            "  'lambda_l2': trial.suggest_loguniform('lambda_l2', 1e-8, 10.0),\n"
          ]
        },
        {
          "output_type": "stream",
          "name": "stdout",
          "text": [
            "Training until validation scores don't improve for 100 rounds\n"
          ]
        },
        {
          "output_type": "stream",
          "name": "stderr",
          "text": [
            "[I 2024-12-06 09:16:57,106] Trial 14 finished with value: 0.3384703273983596 and parameters: {'num_leaves': 166, 'learning_rate': 0.039257719372075825, 'feature_fraction': 0.6535867302539777, 'bagging_fraction': 0.946250675742262, 'bagging_freq': 3, 'max_depth': 12, 'min_data_in_leaf': 22, 'lambda_l1': 0.008954435181617974, 'lambda_l2': 7.531104364523359e-06, 'min_gain_to_split': 6.4133992100836394}. Best is trial 1 with value: 0.3809349769079975.\n"
          ]
        },
        {
          "output_type": "stream",
          "name": "stdout",
          "text": [
            "Did not meet early stopping. Best iteration is:\n",
            "[80]\tvalid_0's multi_logloss: 0.852951\n"
          ]
        },
        {
          "output_type": "stream",
          "name": "stderr",
          "text": [
            "<ipython-input-34-3b55cde02c14>:15: FutureWarning: suggest_loguniform has been deprecated in v3.0.0. This feature will be removed in v6.0.0. See https://github.com/optuna/optuna/releases/tag/v3.0.0. Use suggest_float(..., log=True) instead.\n",
            "  'lambda_l1': trial.suggest_loguniform('lambda_l1', 1e-8, 10.0),\n",
            "<ipython-input-34-3b55cde02c14>:16: FutureWarning: suggest_loguniform has been deprecated in v3.0.0. This feature will be removed in v6.0.0. See https://github.com/optuna/optuna/releases/tag/v3.0.0. Use suggest_float(..., log=True) instead.\n",
            "  'lambda_l2': trial.suggest_loguniform('lambda_l2', 1e-8, 10.0),\n"
          ]
        },
        {
          "output_type": "stream",
          "name": "stdout",
          "text": [
            "Training until validation scores don't improve for 100 rounds\n"
          ]
        },
        {
          "output_type": "stream",
          "name": "stderr",
          "text": [
            "[I 2024-12-06 09:16:57,813] Trial 15 finished with value: 0.3391906633196209 and parameters: {'num_leaves': 76, 'learning_rate': 0.1379335939422477, 'feature_fraction': 0.7887543347368555, 'bagging_fraction': 0.6357459139052662, 'bagging_freq': 1, 'max_depth': 7, 'min_data_in_leaf': 44, 'lambda_l1': 0.0808641278208213, 'lambda_l2': 7.871165093381033, 'min_gain_to_split': 2.1914924727157117}. Best is trial 1 with value: 0.3809349769079975.\n"
          ]
        },
        {
          "output_type": "stream",
          "name": "stdout",
          "text": [
            "Did not meet early stopping. Best iteration is:\n",
            "[26]\tvalid_0's multi_logloss: 0.849343\n"
          ]
        },
        {
          "output_type": "stream",
          "name": "stderr",
          "text": [
            "<ipython-input-34-3b55cde02c14>:15: FutureWarning: suggest_loguniform has been deprecated in v3.0.0. This feature will be removed in v6.0.0. See https://github.com/optuna/optuna/releases/tag/v3.0.0. Use suggest_float(..., log=True) instead.\n",
            "  'lambda_l1': trial.suggest_loguniform('lambda_l1', 1e-8, 10.0),\n",
            "<ipython-input-34-3b55cde02c14>:16: FutureWarning: suggest_loguniform has been deprecated in v3.0.0. This feature will be removed in v6.0.0. See https://github.com/optuna/optuna/releases/tag/v3.0.0. Use suggest_float(..., log=True) instead.\n",
            "  'lambda_l2': trial.suggest_loguniform('lambda_l2', 1e-8, 10.0),\n",
            "[I 2024-12-06 09:16:58,155] Trial 16 finished with value: 0.23453052209716474 and parameters: {'num_leaves': 195, 'learning_rate': 0.20727686956720648, 'feature_fraction': 0.43807254838556253, 'bagging_fraction': 0.758250064340329, 'bagging_freq': 3, 'max_depth': 10, 'min_data_in_leaf': 75, 'lambda_l1': 7.45219481314089, 'lambda_l2': 0.030239239956064475, 'min_gain_to_split': 6.886282450800255}. Best is trial 1 with value: 0.3809349769079975.\n"
          ]
        },
        {
          "output_type": "stream",
          "name": "stdout",
          "text": [
            "Training until validation scores don't improve for 100 rounds\n",
            "Did not meet early stopping. Best iteration is:\n",
            "[30]\tvalid_0's multi_logloss: 0.876106\n"
          ]
        },
        {
          "output_type": "stream",
          "name": "stderr",
          "text": [
            "<ipython-input-34-3b55cde02c14>:15: FutureWarning: suggest_loguniform has been deprecated in v3.0.0. This feature will be removed in v6.0.0. See https://github.com/optuna/optuna/releases/tag/v3.0.0. Use suggest_float(..., log=True) instead.\n",
            "  'lambda_l1': trial.suggest_loguniform('lambda_l1', 1e-8, 10.0),\n",
            "<ipython-input-34-3b55cde02c14>:16: FutureWarning: suggest_loguniform has been deprecated in v3.0.0. This feature will be removed in v6.0.0. See https://github.com/optuna/optuna/releases/tag/v3.0.0. Use suggest_float(..., log=True) instead.\n",
            "  'lambda_l2': trial.suggest_loguniform('lambda_l2', 1e-8, 10.0),\n"
          ]
        },
        {
          "output_type": "stream",
          "name": "stdout",
          "text": [
            "Training until validation scores don't improve for 100 rounds\n"
          ]
        },
        {
          "output_type": "stream",
          "name": "stderr",
          "text": [
            "[I 2024-12-06 09:16:58,560] Trial 17 finished with value: 0.36950157540873807 and parameters: {'num_leaves': 146, 'learning_rate': 0.28843753145048734, 'feature_fraction': 0.6226547337803017, 'bagging_fraction': 0.498072330236163, 'bagging_freq': 4, 'max_depth': 11, 'min_data_in_leaf': 35, 'lambda_l1': 1.3768667488174526e-05, 'lambda_l2': 2.2335485415528965e-05, 'min_gain_to_split': 1.8156497547436825}. Best is trial 1 with value: 0.3809349769079975.\n"
          ]
        },
        {
          "output_type": "stream",
          "name": "stdout",
          "text": [
            "Did not meet early stopping. Best iteration is:\n",
            "[7]\tvalid_0's multi_logloss: 0.854527\n",
            "Training until validation scores don't improve for 100 rounds\n"
          ]
        },
        {
          "output_type": "stream",
          "name": "stderr",
          "text": [
            "<ipython-input-34-3b55cde02c14>:15: FutureWarning: suggest_loguniform has been deprecated in v3.0.0. This feature will be removed in v6.0.0. See https://github.com/optuna/optuna/releases/tag/v3.0.0. Use suggest_float(..., log=True) instead.\n",
            "  'lambda_l1': trial.suggest_loguniform('lambda_l1', 1e-8, 10.0),\n",
            "<ipython-input-34-3b55cde02c14>:16: FutureWarning: suggest_loguniform has been deprecated in v3.0.0. This feature will be removed in v6.0.0. See https://github.com/optuna/optuna/releases/tag/v3.0.0. Use suggest_float(..., log=True) instead.\n",
            "  'lambda_l2': trial.suggest_loguniform('lambda_l2', 1e-8, 10.0),\n",
            "[I 2024-12-06 09:16:58,793] Trial 18 finished with value: 0.34200349301397204 and parameters: {'num_leaves': 142, 'learning_rate': 0.2983469558667791, 'feature_fraction': 0.5819897413327205, 'bagging_fraction': 0.5060832653895992, 'bagging_freq': 5, 'max_depth': 9, 'min_data_in_leaf': 33, 'lambda_l1': 1.5059880438867875e-05, 'lambda_l2': 3.577538120931692e-05, 'min_gain_to_split': 2.2810471624518955}. Best is trial 1 with value: 0.3809349769079975.\n",
            "<ipython-input-34-3b55cde02c14>:15: FutureWarning: suggest_loguniform has been deprecated in v3.0.0. This feature will be removed in v6.0.0. See https://github.com/optuna/optuna/releases/tag/v3.0.0. Use suggest_float(..., log=True) instead.\n",
            "  'lambda_l1': trial.suggest_loguniform('lambda_l1', 1e-8, 10.0),\n",
            "<ipython-input-34-3b55cde02c14>:16: FutureWarning: suggest_loguniform has been deprecated in v3.0.0. This feature will be removed in v6.0.0. See https://github.com/optuna/optuna/releases/tag/v3.0.0. Use suggest_float(..., log=True) instead.\n",
            "  'lambda_l2': trial.suggest_loguniform('lambda_l2', 1e-8, 10.0),\n",
            "[I 2024-12-06 09:16:58,987] Trial 19 finished with value: 0.3292099246776292 and parameters: {'num_leaves': 217, 'learning_rate': 0.25892153017542835, 'feature_fraction': 0.9090951103652113, 'bagging_fraction': 0.8713332508548007, 'bagging_freq': 4, 'max_depth': 7, 'min_data_in_leaf': 53, 'lambda_l1': 2.954645848222637e-06, 'lambda_l2': 0.0016734156113463812, 'min_gain_to_split': 5.4191347432134025}. Best is trial 1 with value: 0.3809349769079975.\n"
          ]
        },
        {
          "output_type": "stream",
          "name": "stdout",
          "text": [
            "Did not meet early stopping. Best iteration is:\n",
            "[8]\tvalid_0's multi_logloss: 0.852109\n",
            "Training until validation scores don't improve for 100 rounds\n",
            "Did not meet early stopping. Best iteration is:\n",
            "[10]\tvalid_0's multi_logloss: 0.850663\n"
          ]
        },
        {
          "output_type": "stream",
          "name": "stderr",
          "text": [
            "<ipython-input-34-3b55cde02c14>:15: FutureWarning: suggest_loguniform has been deprecated in v3.0.0. This feature will be removed in v6.0.0. See https://github.com/optuna/optuna/releases/tag/v3.0.0. Use suggest_float(..., log=True) instead.\n",
            "  'lambda_l1': trial.suggest_loguniform('lambda_l1', 1e-8, 10.0),\n",
            "<ipython-input-34-3b55cde02c14>:16: FutureWarning: suggest_loguniform has been deprecated in v3.0.0. This feature will be removed in v6.0.0. See https://github.com/optuna/optuna/releases/tag/v3.0.0. Use suggest_float(..., log=True) instead.\n",
            "  'lambda_l2': trial.suggest_loguniform('lambda_l2', 1e-8, 10.0),\n",
            "[I 2024-12-06 09:16:59,188] Trial 20 finished with value: 0.3870358793316908 and parameters: {'num_leaves': 150, 'learning_rate': 0.25748086501566475, 'feature_fraction': 0.6511975323635215, 'bagging_fraction': 0.610961910374682, 'bagging_freq': 5, 'max_depth': 11, 'min_data_in_leaf': 33, 'lambda_l1': 0.0005390564909313685, 'lambda_l2': 0.025051093179129406, 'min_gain_to_split': 2.3871367298047788}. Best is trial 20 with value: 0.3870358793316908.\n",
            "<ipython-input-34-3b55cde02c14>:15: FutureWarning: suggest_loguniform has been deprecated in v3.0.0. This feature will be removed in v6.0.0. See https://github.com/optuna/optuna/releases/tag/v3.0.0. Use suggest_float(..., log=True) instead.\n",
            "  'lambda_l1': trial.suggest_loguniform('lambda_l1', 1e-8, 10.0),\n",
            "<ipython-input-34-3b55cde02c14>:16: FutureWarning: suggest_loguniform has been deprecated in v3.0.0. This feature will be removed in v6.0.0. See https://github.com/optuna/optuna/releases/tag/v3.0.0. Use suggest_float(..., log=True) instead.\n",
            "  'lambda_l2': trial.suggest_loguniform('lambda_l2', 1e-8, 10.0),\n"
          ]
        },
        {
          "output_type": "stream",
          "name": "stdout",
          "text": [
            "Training until validation scores don't improve for 100 rounds\n",
            "Did not meet early stopping. Best iteration is:\n",
            "[13]\tvalid_0's multi_logloss: 0.843581\n",
            "Training until validation scores don't improve for 100 rounds\n"
          ]
        },
        {
          "output_type": "stream",
          "name": "stderr",
          "text": [
            "[I 2024-12-06 09:16:59,380] Trial 21 finished with value: 0.4217382046818051 and parameters: {'num_leaves': 144, 'learning_rate': 0.2709039168564914, 'feature_fraction': 0.6486807789586047, 'bagging_fraction': 0.6181595966717942, 'bagging_freq': 5, 'max_depth': 11, 'min_data_in_leaf': 33, 'lambda_l1': 0.00032610181431157165, 'lambda_l2': 0.7173146075461415, 'min_gain_to_split': 2.3636424189473586}. Best is trial 21 with value: 0.4217382046818051.\n",
            "<ipython-input-34-3b55cde02c14>:15: FutureWarning: suggest_loguniform has been deprecated in v3.0.0. This feature will be removed in v6.0.0. See https://github.com/optuna/optuna/releases/tag/v3.0.0. Use suggest_float(..., log=True) instead.\n",
            "  'lambda_l1': trial.suggest_loguniform('lambda_l1', 1e-8, 10.0),\n",
            "<ipython-input-34-3b55cde02c14>:16: FutureWarning: suggest_loguniform has been deprecated in v3.0.0. This feature will be removed in v6.0.0. See https://github.com/optuna/optuna/releases/tag/v3.0.0. Use suggest_float(..., log=True) instead.\n",
            "  'lambda_l2': trial.suggest_loguniform('lambda_l2', 1e-8, 10.0),\n"
          ]
        },
        {
          "output_type": "stream",
          "name": "stdout",
          "text": [
            "Did not meet early stopping. Best iteration is:\n",
            "[13]\tvalid_0's multi_logloss: 0.847195\n",
            "Training until validation scores don't improve for 100 rounds\n",
            "Did not meet early stopping. Best iteration is:\n",
            "[20]\tvalid_0's multi_logloss: 0.84683\n"
          ]
        },
        {
          "output_type": "stream",
          "name": "stderr",
          "text": [
            "[I 2024-12-06 09:16:59,579] Trial 22 finished with value: 0.38573856209150326 and parameters: {'num_leaves': 156, 'learning_rate': 0.21441983109091287, 'feature_fraction': 0.7567351521577305, 'bagging_fraction': 0.6244663358202861, 'bagging_freq': 5, 'max_depth': 11, 'min_data_in_leaf': 29, 'lambda_l1': 0.00021845678201519867, 'lambda_l2': 0.6356847607988813, 'min_gain_to_split': 3.399421528983882}. Best is trial 21 with value: 0.4217382046818051.\n",
            "<ipython-input-34-3b55cde02c14>:15: FutureWarning: suggest_loguniform has been deprecated in v3.0.0. This feature will be removed in v6.0.0. See https://github.com/optuna/optuna/releases/tag/v3.0.0. Use suggest_float(..., log=True) instead.\n",
            "  'lambda_l1': trial.suggest_loguniform('lambda_l1', 1e-8, 10.0),\n",
            "<ipython-input-34-3b55cde02c14>:16: FutureWarning: suggest_loguniform has been deprecated in v3.0.0. This feature will be removed in v6.0.0. See https://github.com/optuna/optuna/releases/tag/v3.0.0. Use suggest_float(..., log=True) instead.\n",
            "  'lambda_l2': trial.suggest_loguniform('lambda_l2', 1e-8, 10.0),\n",
            "[I 2024-12-06 09:16:59,779] Trial 23 finished with value: 0.3723097062333962 and parameters: {'num_leaves': 167, 'learning_rate': 0.2648806595833215, 'feature_fraction': 0.7536506813940034, 'bagging_fraction': 0.6274729024926635, 'bagging_freq': 5, 'max_depth': 11, 'min_data_in_leaf': 29, 'lambda_l1': 0.0014961419495280776, 'lambda_l2': 0.28609438924682035, 'min_gain_to_split': 3.4163572243173235}. Best is trial 21 with value: 0.4217382046818051.\n",
            "<ipython-input-34-3b55cde02c14>:15: FutureWarning: suggest_loguniform has been deprecated in v3.0.0. This feature will be removed in v6.0.0. See https://github.com/optuna/optuna/releases/tag/v3.0.0. Use suggest_float(..., log=True) instead.\n",
            "  'lambda_l1': trial.suggest_loguniform('lambda_l1', 1e-8, 10.0),\n",
            "<ipython-input-34-3b55cde02c14>:16: FutureWarning: suggest_loguniform has been deprecated in v3.0.0. This feature will be removed in v6.0.0. See https://github.com/optuna/optuna/releases/tag/v3.0.0. Use suggest_float(..., log=True) instead.\n",
            "  'lambda_l2': trial.suggest_loguniform('lambda_l2', 1e-8, 10.0),\n"
          ]
        },
        {
          "output_type": "stream",
          "name": "stdout",
          "text": [
            "Training until validation scores don't improve for 100 rounds\n",
            "Did not meet early stopping. Best iteration is:\n",
            "[9]\tvalid_0's multi_logloss: 0.852772\n",
            "Training until validation scores don't improve for 100 rounds\n"
          ]
        },
        {
          "output_type": "stream",
          "name": "stderr",
          "text": [
            "[I 2024-12-06 09:17:00,019] Trial 24 finished with value: 0.3343857930821176 and parameters: {'num_leaves': 197, 'learning_rate': 0.17904128512390227, 'feature_fraction': 0.6774488396962337, 'bagging_fraction': 0.6060755791728792, 'bagging_freq': 6, 'max_depth': 11, 'min_data_in_leaf': 28, 'lambda_l1': 0.01289946424021251, 'lambda_l2': 0.022630956785250827, 'min_gain_to_split': 1.413156343450389}. Best is trial 21 with value: 0.4217382046818051.\n",
            "<ipython-input-34-3b55cde02c14>:15: FutureWarning: suggest_loguniform has been deprecated in v3.0.0. This feature will be removed in v6.0.0. See https://github.com/optuna/optuna/releases/tag/v3.0.0. Use suggest_float(..., log=True) instead.\n",
            "  'lambda_l1': trial.suggest_loguniform('lambda_l1', 1e-8, 10.0),\n",
            "<ipython-input-34-3b55cde02c14>:16: FutureWarning: suggest_loguniform has been deprecated in v3.0.0. This feature will be removed in v6.0.0. See https://github.com/optuna/optuna/releases/tag/v3.0.0. Use suggest_float(..., log=True) instead.\n",
            "  'lambda_l2': trial.suggest_loguniform('lambda_l2', 1e-8, 10.0),\n",
            "[I 2024-12-06 09:17:00,207] Trial 25 finished with value: 0.3712801407697216 and parameters: {'num_leaves': 237, 'learning_rate': 0.2299372892956842, 'feature_fraction': 0.5868097510962891, 'bagging_fraction': 0.7122522331328848, 'bagging_freq': 6, 'max_depth': 10, 'min_data_in_leaf': 48, 'lambda_l1': 0.0003566288858643973, 'lambda_l2': 0.9147930561704657, 'min_gain_to_split': 3.0446885543137014}. Best is trial 21 with value: 0.4217382046818051.\n"
          ]
        },
        {
          "output_type": "stream",
          "name": "stdout",
          "text": [
            "Did not meet early stopping. Best iteration is:\n",
            "[10]\tvalid_0's multi_logloss: 0.844324\n",
            "Training until validation scores don't improve for 100 rounds\n",
            "Did not meet early stopping. Best iteration is:\n",
            "[17]\tvalid_0's multi_logloss: 0.839843\n"
          ]
        },
        {
          "output_type": "stream",
          "name": "stderr",
          "text": [
            "<ipython-input-34-3b55cde02c14>:15: FutureWarning: suggest_loguniform has been deprecated in v3.0.0. This feature will be removed in v6.0.0. See https://github.com/optuna/optuna/releases/tag/v3.0.0. Use suggest_float(..., log=True) instead.\n",
            "  'lambda_l1': trial.suggest_loguniform('lambda_l1', 1e-8, 10.0),\n",
            "<ipython-input-34-3b55cde02c14>:16: FutureWarning: suggest_loguniform has been deprecated in v3.0.0. This feature will be removed in v6.0.0. See https://github.com/optuna/optuna/releases/tag/v3.0.0. Use suggest_float(..., log=True) instead.\n",
            "  'lambda_l2': trial.suggest_loguniform('lambda_l2', 1e-8, 10.0),\n",
            "[I 2024-12-06 09:17:00,381] Trial 26 finished with value: 0.3688566725011875 and parameters: {'num_leaves': 169, 'learning_rate': 0.26531702319417594, 'feature_fraction': 0.7928949594798095, 'bagging_fraction': 0.5735393832320501, 'bagging_freq': 5, 'max_depth': 12, 'min_data_in_leaf': 38, 'lambda_l1': 0.020345691773330482, 'lambda_l2': 0.08503912570683737, 'min_gain_to_split': 4.5468719760325484}. Best is trial 21 with value: 0.4217382046818051.\n",
            "<ipython-input-34-3b55cde02c14>:15: FutureWarning: suggest_loguniform has been deprecated in v3.0.0. This feature will be removed in v6.0.0. See https://github.com/optuna/optuna/releases/tag/v3.0.0. Use suggest_float(..., log=True) instead.\n",
            "  'lambda_l1': trial.suggest_loguniform('lambda_l1', 1e-8, 10.0),\n",
            "<ipython-input-34-3b55cde02c14>:16: FutureWarning: suggest_loguniform has been deprecated in v3.0.0. This feature will be removed in v6.0.0. See https://github.com/optuna/optuna/releases/tag/v3.0.0. Use suggest_float(..., log=True) instead.\n",
            "  'lambda_l2': trial.suggest_loguniform('lambda_l2', 1e-8, 10.0),\n"
          ]
        },
        {
          "output_type": "stream",
          "name": "stdout",
          "text": [
            "Training until validation scores don't improve for 100 rounds\n",
            "Did not meet early stopping. Best iteration is:\n",
            "[12]\tvalid_0's multi_logloss: 0.854181\n",
            "Training until validation scores don't improve for 100 rounds\n"
          ]
        },
        {
          "output_type": "stream",
          "name": "stderr",
          "text": [
            "[I 2024-12-06 09:17:00,653] Trial 27 finished with value: 0.2752916526552678 and parameters: {'num_leaves': 158, 'learning_rate': 0.17542712651480513, 'feature_fraction': 0.697553928832091, 'bagging_fraction': 0.6899246968252319, 'bagging_freq': 6, 'max_depth': 11, 'min_data_in_leaf': 29, 'lambda_l1': 0.00012209954598339182, 'lambda_l2': 0.0182075917945054, 'min_gain_to_split': 1.2101373043858676}. Best is trial 21 with value: 0.4217382046818051.\n"
          ]
        },
        {
          "output_type": "stream",
          "name": "stdout",
          "text": [
            "Did not meet early stopping. Best iteration is:\n",
            "[9]\tvalid_0's multi_logloss: 0.865685\n",
            "Training until validation scores don't improve for 100 rounds\n",
            "Did not meet early stopping. Best iteration is:\n",
            "[10]\tvalid_0's multi_logloss: 0.865245\n"
          ]
        },
        {
          "output_type": "stream",
          "name": "stderr",
          "text": [
            "<ipython-input-34-3b55cde02c14>:15: FutureWarning: suggest_loguniform has been deprecated in v3.0.0. This feature will be removed in v6.0.0. See https://github.com/optuna/optuna/releases/tag/v3.0.0. Use suggest_float(..., log=True) instead.\n",
            "  'lambda_l1': trial.suggest_loguniform('lambda_l1', 1e-8, 10.0),\n",
            "<ipython-input-34-3b55cde02c14>:16: FutureWarning: suggest_loguniform has been deprecated in v3.0.0. This feature will be removed in v6.0.0. See https://github.com/optuna/optuna/releases/tag/v3.0.0. Use suggest_float(..., log=True) instead.\n",
            "  'lambda_l2': trial.suggest_loguniform('lambda_l2', 1e-8, 10.0),\n",
            "[I 2024-12-06 09:17:00,846] Trial 28 finished with value: 0.2586900586426424 and parameters: {'num_leaves': 75, 'learning_rate': 0.22138675450417833, 'feature_fraction': 0.7476197297485049, 'bagging_fraction': 0.6550014799386615, 'bagging_freq': 4, 'max_depth': 9, 'min_data_in_leaf': 21, 'lambda_l1': 0.0010470357800939501, 'lambda_l2': 1.3819907486565646, 'min_gain_to_split': 7.745406088313552}. Best is trial 21 with value: 0.4217382046818051.\n",
            "<ipython-input-34-3b55cde02c14>:15: FutureWarning: suggest_loguniform has been deprecated in v3.0.0. This feature will be removed in v6.0.0. See https://github.com/optuna/optuna/releases/tag/v3.0.0. Use suggest_float(..., log=True) instead.\n",
            "  'lambda_l1': trial.suggest_loguniform('lambda_l1', 1e-8, 10.0),\n",
            "<ipython-input-34-3b55cde02c14>:16: FutureWarning: suggest_loguniform has been deprecated in v3.0.0. This feature will be removed in v6.0.0. See https://github.com/optuna/optuna/releases/tag/v3.0.0. Use suggest_float(..., log=True) instead.\n",
            "  'lambda_l2': trial.suggest_loguniform('lambda_l2', 1e-8, 10.0),\n",
            "[I 2024-12-06 09:17:01,036] Trial 29 finished with value: 0.3805563112959437 and parameters: {'num_leaves': 95, 'learning_rate': 0.27232506301772397, 'feature_fraction': 0.8363225390389054, 'bagging_fraction': 0.5397559781131904, 'bagging_freq': 5, 'max_depth': 12, 'min_data_in_leaf': 51, 'lambda_l1': 2.7982807200398486e-06, 'lambda_l2': 0.18200016072711267, 'min_gain_to_split': 2.733720715760392}. Best is trial 21 with value: 0.4217382046818051.\n",
            "<ipython-input-34-3b55cde02c14>:15: FutureWarning: suggest_loguniform has been deprecated in v3.0.0. This feature will be removed in v6.0.0. See https://github.com/optuna/optuna/releases/tag/v3.0.0. Use suggest_float(..., log=True) instead.\n",
            "  'lambda_l1': trial.suggest_loguniform('lambda_l1', 1e-8, 10.0),\n",
            "<ipython-input-34-3b55cde02c14>:16: FutureWarning: suggest_loguniform has been deprecated in v3.0.0. This feature will be removed in v6.0.0. See https://github.com/optuna/optuna/releases/tag/v3.0.0. Use suggest_float(..., log=True) instead.\n",
            "  'lambda_l2': trial.suggest_loguniform('lambda_l2', 1e-8, 10.0),\n"
          ]
        },
        {
          "output_type": "stream",
          "name": "stdout",
          "text": [
            "Training until validation scores don't improve for 100 rounds\n",
            "Did not meet early stopping. Best iteration is:\n",
            "[9]\tvalid_0's multi_logloss: 0.840376\n",
            "Training until validation scores don't improve for 100 rounds\n"
          ]
        },
        {
          "output_type": "stream",
          "name": "stderr",
          "text": [
            "[I 2024-12-06 09:17:01,303] Trial 30 finished with value: 0.3402903402324009 and parameters: {'num_leaves': 190, 'learning_rate': 0.24607931057638466, 'feature_fraction': 0.5764859011185767, 'bagging_fraction': 0.7325336543615567, 'bagging_freq': 6, 'max_depth': 10, 'min_data_in_leaf': 41, 'lambda_l1': 0.003901656337398432, 'lambda_l2': 0.007029413115366578, 'min_gain_to_split': 0.8763287473975745}. Best is trial 21 with value: 0.4217382046818051.\n",
            "<ipython-input-34-3b55cde02c14>:15: FutureWarning: suggest_loguniform has been deprecated in v3.0.0. This feature will be removed in v6.0.0. See https://github.com/optuna/optuna/releases/tag/v3.0.0. Use suggest_float(..., log=True) instead.\n",
            "  'lambda_l1': trial.suggest_loguniform('lambda_l1', 1e-8, 10.0),\n",
            "<ipython-input-34-3b55cde02c14>:16: FutureWarning: suggest_loguniform has been deprecated in v3.0.0. This feature will be removed in v6.0.0. See https://github.com/optuna/optuna/releases/tag/v3.0.0. Use suggest_float(..., log=True) instead.\n",
            "  'lambda_l2': trial.suggest_loguniform('lambda_l2', 1e-8, 10.0),\n",
            "[I 2024-12-06 09:17:01,483] Trial 31 finished with value: 0.34360866542297974 and parameters: {'num_leaves': 131, 'learning_rate': 0.21494058190311555, 'feature_fraction': 0.944579311799492, 'bagging_fraction': 0.6182994196211513, 'bagging_freq': 5, 'max_depth': 9, 'min_data_in_leaf': 56, 'lambda_l1': 0.00011595979258256081, 'lambda_l2': 9.444677732292133, 'min_gain_to_split': 5.521827670673649}. Best is trial 21 with value: 0.4217382046818051.\n"
          ]
        },
        {
          "output_type": "stream",
          "name": "stdout",
          "text": [
            "Did not meet early stopping. Best iteration is:\n",
            "[7]\tvalid_0's multi_logloss: 0.873248\n",
            "Training until validation scores don't improve for 100 rounds\n",
            "Did not meet early stopping. Best iteration is:\n",
            "[14]\tvalid_0's multi_logloss: 0.865277\n"
          ]
        },
        {
          "output_type": "stream",
          "name": "stderr",
          "text": [
            "<ipython-input-34-3b55cde02c14>:15: FutureWarning: suggest_loguniform has been deprecated in v3.0.0. This feature will be removed in v6.0.0. See https://github.com/optuna/optuna/releases/tag/v3.0.0. Use suggest_float(..., log=True) instead.\n",
            "  'lambda_l1': trial.suggest_loguniform('lambda_l1', 1e-8, 10.0),\n",
            "<ipython-input-34-3b55cde02c14>:16: FutureWarning: suggest_loguniform has been deprecated in v3.0.0. This feature will be removed in v6.0.0. See https://github.com/optuna/optuna/releases/tag/v3.0.0. Use suggest_float(..., log=True) instead.\n",
            "  'lambda_l2': trial.suggest_loguniform('lambda_l2', 1e-8, 10.0),\n",
            "[I 2024-12-06 09:17:01,667] Trial 32 finished with value: 0.23982501257896793 and parameters: {'num_leaves': 145, 'learning_rate': 0.2002354742931786, 'feature_fraction': 0.6369079028656219, 'bagging_fraction': 0.4898790015740604, 'bagging_freq': 4, 'max_depth': 11, 'min_data_in_leaf': 70, 'lambda_l1': 0.00020293393511827915, 'lambda_l2': 1.800356343391354, 'min_gain_to_split': 6.244814650204958}. Best is trial 21 with value: 0.4217382046818051.\n",
            "<ipython-input-34-3b55cde02c14>:15: FutureWarning: suggest_loguniform has been deprecated in v3.0.0. This feature will be removed in v6.0.0. See https://github.com/optuna/optuna/releases/tag/v3.0.0. Use suggest_float(..., log=True) instead.\n",
            "  'lambda_l1': trial.suggest_loguniform('lambda_l1', 1e-8, 10.0),\n",
            "<ipython-input-34-3b55cde02c14>:16: FutureWarning: suggest_loguniform has been deprecated in v3.0.0. This feature will be removed in v6.0.0. See https://github.com/optuna/optuna/releases/tag/v3.0.0. Use suggest_float(..., log=True) instead.\n",
            "  'lambda_l2': trial.suggest_loguniform('lambda_l2', 1e-8, 10.0),\n"
          ]
        },
        {
          "output_type": "stream",
          "name": "stdout",
          "text": [
            "Training until validation scores don't improve for 100 rounds\n",
            "Did not meet early stopping. Best iteration is:\n",
            "[13]\tvalid_0's multi_logloss: 0.863577\n",
            "Training until validation scores don't improve for 100 rounds\n"
          ]
        },
        {
          "output_type": "stream",
          "name": "stderr",
          "text": [
            "[I 2024-12-06 09:17:01,870] Trial 33 finished with value: 0.3376924069283468 and parameters: {'num_leaves': 140, 'learning_rate': 0.15630648953652693, 'feature_fraction': 0.847118025019955, 'bagging_fraction': 0.6657750644827338, 'bagging_freq': 5, 'max_depth': 8, 'min_data_in_leaf': 34, 'lambda_l1': 0.0005480441468407597, 'lambda_l2': 3.2324130074378603, 'min_gain_to_split': 4.652919867116504}. Best is trial 21 with value: 0.4217382046818051.\n",
            "<ipython-input-34-3b55cde02c14>:15: FutureWarning: suggest_loguniform has been deprecated in v3.0.0. This feature will be removed in v6.0.0. See https://github.com/optuna/optuna/releases/tag/v3.0.0. Use suggest_float(..., log=True) instead.\n",
            "  'lambda_l1': trial.suggest_loguniform('lambda_l1', 1e-8, 10.0),\n",
            "<ipython-input-34-3b55cde02c14>:16: FutureWarning: suggest_loguniform has been deprecated in v3.0.0. This feature will be removed in v6.0.0. See https://github.com/optuna/optuna/releases/tag/v3.0.0. Use suggest_float(..., log=True) instead.\n",
            "  'lambda_l2': trial.suggest_loguniform('lambda_l2', 1e-8, 10.0),\n",
            "[I 2024-12-06 09:17:02,047] Trial 34 finished with value: 0.2948764487774522 and parameters: {'num_leaves': 182, 'learning_rate': 0.2787453156767839, 'feature_fraction': 0.48626502648886794, 'bagging_fraction': 0.5937917434473085, 'bagging_freq': 6, 'max_depth': 12, 'min_data_in_leaf': 26, 'lambda_l1': 4.03155509683679e-05, 'lambda_l2': 0.49009587615229744, 'min_gain_to_split': 3.6557234081782317}. Best is trial 21 with value: 0.4217382046818051.\n"
          ]
        },
        {
          "output_type": "stream",
          "name": "stdout",
          "text": [
            "Did not meet early stopping. Best iteration is:\n",
            "[19]\tvalid_0's multi_logloss: 0.852062\n",
            "Training until validation scores don't improve for 100 rounds\n",
            "Did not meet early stopping. Best iteration is:\n",
            "[15]\tvalid_0's multi_logloss: 0.855106\n"
          ]
        },
        {
          "output_type": "stream",
          "name": "stderr",
          "text": [
            "<ipython-input-34-3b55cde02c14>:15: FutureWarning: suggest_loguniform has been deprecated in v3.0.0. This feature will be removed in v6.0.0. See https://github.com/optuna/optuna/releases/tag/v3.0.0. Use suggest_float(..., log=True) instead.\n",
            "  'lambda_l1': trial.suggest_loguniform('lambda_l1', 1e-8, 10.0),\n",
            "<ipython-input-34-3b55cde02c14>:16: FutureWarning: suggest_loguniform has been deprecated in v3.0.0. This feature will be removed in v6.0.0. See https://github.com/optuna/optuna/releases/tag/v3.0.0. Use suggest_float(..., log=True) instead.\n",
            "  'lambda_l2': trial.suggest_loguniform('lambda_l2', 1e-8, 10.0),\n",
            "[I 2024-12-06 09:17:02,250] Trial 35 finished with value: 0.3763835837106281 and parameters: {'num_leaves': 108, 'learning_rate': 0.2325624458154637, 'feature_fraction': 0.9265709487334369, 'bagging_fraction': 0.5604224002765268, 'bagging_freq': 5, 'max_depth': 10, 'min_data_in_leaf': 68, 'lambda_l1': 0.001389144950585697, 'lambda_l2': 0.000928573912854849, 'min_gain_to_split': 2.815871181593103}. Best is trial 21 with value: 0.4217382046818051.\n"
          ]
        },
        {
          "output_type": "stream",
          "name": "stdout",
          "text": [
            "Training until validation scores don't improve for 100 rounds\n",
            "Did not meet early stopping. Best iteration is:\n",
            "[23]\tvalid_0's multi_logloss: 0.830551\n"
          ]
        },
        {
          "output_type": "stream",
          "name": "stderr",
          "text": [
            "<ipython-input-34-3b55cde02c14>:15: FutureWarning: suggest_loguniform has been deprecated in v3.0.0. This feature will be removed in v6.0.0. See https://github.com/optuna/optuna/releases/tag/v3.0.0. Use suggest_float(..., log=True) instead.\n",
            "  'lambda_l1': trial.suggest_loguniform('lambda_l1', 1e-8, 10.0),\n",
            "<ipython-input-34-3b55cde02c14>:16: FutureWarning: suggest_loguniform has been deprecated in v3.0.0. This feature will be removed in v6.0.0. See https://github.com/optuna/optuna/releases/tag/v3.0.0. Use suggest_float(..., log=True) instead.\n",
            "  'lambda_l2': trial.suggest_loguniform('lambda_l2', 1e-8, 10.0),\n",
            "[I 2024-12-06 09:17:02,429] Trial 36 finished with value: 0.3831864098974689 and parameters: {'num_leaves': 156, 'learning_rate': 0.18797473029599132, 'feature_fraction': 0.6712797572563209, 'bagging_fraction': 0.45980189401235005, 'bagging_freq': 4, 'max_depth': 9, 'min_data_in_leaf': 57, 'lambda_l1': 9.702727502014822e-06, 'lambda_l2': 0.09729038876714953, 'min_gain_to_split': 4.159550819187819}. Best is trial 21 with value: 0.4217382046818051.\n",
            "<ipython-input-34-3b55cde02c14>:15: FutureWarning: suggest_loguniform has been deprecated in v3.0.0. This feature will be removed in v6.0.0. See https://github.com/optuna/optuna/releases/tag/v3.0.0. Use suggest_float(..., log=True) instead.\n",
            "  'lambda_l1': trial.suggest_loguniform('lambda_l1', 1e-8, 10.0),\n",
            "<ipython-input-34-3b55cde02c14>:16: FutureWarning: suggest_loguniform has been deprecated in v3.0.0. This feature will be removed in v6.0.0. See https://github.com/optuna/optuna/releases/tag/v3.0.0. Use suggest_float(..., log=True) instead.\n",
            "  'lambda_l2': trial.suggest_loguniform('lambda_l2', 1e-8, 10.0),\n"
          ]
        },
        {
          "output_type": "stream",
          "name": "stdout",
          "text": [
            "Training until validation scores don't improve for 100 rounds\n",
            "Did not meet early stopping. Best iteration is:\n",
            "[26]\tvalid_0's multi_logloss: 0.848398\n",
            "Training until validation scores don't improve for 100 rounds\n"
          ]
        },
        {
          "output_type": "stream",
          "name": "stderr",
          "text": [
            "[I 2024-12-06 09:17:02,675] Trial 37 finished with value: 0.35128480333354384 and parameters: {'num_leaves': 155, 'learning_rate': 0.2560404874025736, 'feature_fraction': 0.6587593795729629, 'bagging_fraction': 0.4533349152763062, 'bagging_freq': 3, 'max_depth': 6, 'min_data_in_leaf': 34, 'lambda_l1': 8.65679364275593e-06, 'lambda_l2': 0.06491865847006775, 'min_gain_to_split': 1.7754948073911714}. Best is trial 21 with value: 0.4217382046818051.\n",
            "<ipython-input-34-3b55cde02c14>:15: FutureWarning: suggest_loguniform has been deprecated in v3.0.0. This feature will be removed in v6.0.0. See https://github.com/optuna/optuna/releases/tag/v3.0.0. Use suggest_float(..., log=True) instead.\n",
            "  'lambda_l1': trial.suggest_loguniform('lambda_l1', 1e-8, 10.0),\n",
            "<ipython-input-34-3b55cde02c14>:16: FutureWarning: suggest_loguniform has been deprecated in v3.0.0. This feature will be removed in v6.0.0. See https://github.com/optuna/optuna/releases/tag/v3.0.0. Use suggest_float(..., log=True) instead.\n",
            "  'lambda_l2': trial.suggest_loguniform('lambda_l2', 1e-8, 10.0),\n",
            "[I 2024-12-06 09:17:02,865] Trial 38 finished with value: 0.37105669671383645 and parameters: {'num_leaves': 211, 'learning_rate': 0.1896177744352064, 'feature_fraction': 0.7169486356010671, 'bagging_fraction': 0.41328145221989443, 'bagging_freq': 4, 'max_depth': 9, 'min_data_in_leaf': 46, 'lambda_l1': 3.6650797652807235e-07, 'lambda_l2': 0.00864103009698523, 'min_gain_to_split': 4.0519218798021255}. Best is trial 21 with value: 0.4217382046818051.\n"
          ]
        },
        {
          "output_type": "stream",
          "name": "stdout",
          "text": [
            "Did not meet early stopping. Best iteration is:\n",
            "[11]\tvalid_0's multi_logloss: 0.846923\n",
            "Training until validation scores don't improve for 100 rounds\n",
            "Did not meet early stopping. Best iteration is:\n",
            "[27]\tvalid_0's multi_logloss: 0.848211\n"
          ]
        },
        {
          "output_type": "stream",
          "name": "stderr",
          "text": [
            "<ipython-input-34-3b55cde02c14>:15: FutureWarning: suggest_loguniform has been deprecated in v3.0.0. This feature will be removed in v6.0.0. See https://github.com/optuna/optuna/releases/tag/v3.0.0. Use suggest_float(..., log=True) instead.\n",
            "  'lambda_l1': trial.suggest_loguniform('lambda_l1', 1e-8, 10.0),\n",
            "<ipython-input-34-3b55cde02c14>:16: FutureWarning: suggest_loguniform has been deprecated in v3.0.0. This feature will be removed in v6.0.0. See https://github.com/optuna/optuna/releases/tag/v3.0.0. Use suggest_float(..., log=True) instead.\n",
            "  'lambda_l2': trial.suggest_loguniform('lambda_l2', 1e-8, 10.0),\n",
            "[I 2024-12-06 09:17:03,078] Trial 39 finished with value: 0.4109707317932725 and parameters: {'num_leaves': 182, 'learning_rate': 0.15965962209524617, 'feature_fraction': 0.7720283934811835, 'bagging_fraction': 0.46752773258234603, 'bagging_freq': 4, 'max_depth': 11, 'min_data_in_leaf': 38, 'lambda_l1': 5.427724369823656e-06, 'lambda_l2': 0.17875116014610087, 'min_gain_to_split': 2.4851317974363045}. Best is trial 21 with value: 0.4217382046818051.\n"
          ]
        },
        {
          "output_type": "stream",
          "name": "stdout",
          "text": [
            "Training until validation scores don't improve for 100 rounds\n",
            "Did not meet early stopping. Best iteration is:\n",
            "[25]\tvalid_0's multi_logloss: 0.842727\n"
          ]
        },
        {
          "output_type": "stream",
          "name": "stderr",
          "text": [
            "<ipython-input-34-3b55cde02c14>:15: FutureWarning: suggest_loguniform has been deprecated in v3.0.0. This feature will be removed in v6.0.0. See https://github.com/optuna/optuna/releases/tag/v3.0.0. Use suggest_float(..., log=True) instead.\n",
            "  'lambda_l1': trial.suggest_loguniform('lambda_l1', 1e-8, 10.0),\n",
            "<ipython-input-34-3b55cde02c14>:16: FutureWarning: suggest_loguniform has been deprecated in v3.0.0. This feature will be removed in v6.0.0. See https://github.com/optuna/optuna/releases/tag/v3.0.0. Use suggest_float(..., log=True) instead.\n",
            "  'lambda_l2': trial.suggest_loguniform('lambda_l2', 1e-8, 10.0),\n",
            "[I 2024-12-06 09:17:03,252] Trial 40 finished with value: 0.13032814675351845 and parameters: {'num_leaves': 238, 'learning_rate': 0.1165123119274627, 'feature_fraction': 0.7678459188631344, 'bagging_fraction': 0.5474502532242868, 'bagging_freq': 6, 'max_depth': 11, 'min_data_in_leaf': 37, 'lambda_l1': 9.395208525474967e-07, 'lambda_l2': 0.7886146711885174, 'min_gain_to_split': 9.665456561678099}. Best is trial 21 with value: 0.4217382046818051.\n",
            "<ipython-input-34-3b55cde02c14>:15: FutureWarning: suggest_loguniform has been deprecated in v3.0.0. This feature will be removed in v6.0.0. See https://github.com/optuna/optuna/releases/tag/v3.0.0. Use suggest_float(..., log=True) instead.\n",
            "  'lambda_l1': trial.suggest_loguniform('lambda_l1', 1e-8, 10.0),\n",
            "<ipython-input-34-3b55cde02c14>:16: FutureWarning: suggest_loguniform has been deprecated in v3.0.0. This feature will be removed in v6.0.0. See https://github.com/optuna/optuna/releases/tag/v3.0.0. Use suggest_float(..., log=True) instead.\n",
            "  'lambda_l2': trial.suggest_loguniform('lambda_l2', 1e-8, 10.0),\n"
          ]
        },
        {
          "output_type": "stream",
          "name": "stdout",
          "text": [
            "Training until validation scores don't improve for 100 rounds\n",
            "Did not meet early stopping. Best iteration is:\n",
            "[19]\tvalid_0's multi_logloss: 0.871895\n",
            "Training until validation scores don't improve for 100 rounds\n"
          ]
        },
        {
          "output_type": "stream",
          "name": "stderr",
          "text": [
            "[I 2024-12-06 09:17:03,474] Trial 41 finished with value: 0.4126189192953559 and parameters: {'num_leaves': 178, 'learning_rate': 0.1652712181548423, 'feature_fraction': 0.6811745614353428, 'bagging_fraction': 0.4736299889600073, 'bagging_freq': 4, 'max_depth': 11, 'min_data_in_leaf': 30, 'lambda_l1': 9.740532025992763e-06, 'lambda_l2': 0.15979779232131233, 'min_gain_to_split': 2.5344175840641228}. Best is trial 21 with value: 0.4217382046818051.\n"
          ]
        },
        {
          "output_type": "stream",
          "name": "stdout",
          "text": [
            "Did not meet early stopping. Best iteration is:\n",
            "[25]\tvalid_0's multi_logloss: 0.844822\n",
            "Training until validation scores don't improve for 100 rounds\n"
          ]
        },
        {
          "output_type": "stream",
          "name": "stderr",
          "text": [
            "<ipython-input-34-3b55cde02c14>:15: FutureWarning: suggest_loguniform has been deprecated in v3.0.0. This feature will be removed in v6.0.0. See https://github.com/optuna/optuna/releases/tag/v3.0.0. Use suggest_float(..., log=True) instead.\n",
            "  'lambda_l1': trial.suggest_loguniform('lambda_l1', 1e-8, 10.0),\n",
            "<ipython-input-34-3b55cde02c14>:16: FutureWarning: suggest_loguniform has been deprecated in v3.0.0. This feature will be removed in v6.0.0. See https://github.com/optuna/optuna/releases/tag/v3.0.0. Use suggest_float(..., log=True) instead.\n",
            "  'lambda_l2': trial.suggest_loguniform('lambda_l2', 1e-8, 10.0),\n",
            "[I 2024-12-06 09:17:03,699] Trial 42 finished with value: 0.3842659029427391 and parameters: {'num_leaves': 181, 'learning_rate': 0.16176912685310887, 'feature_fraction': 0.6949656127408244, 'bagging_fraction': 0.47606357550631806, 'bagging_freq': 4, 'max_depth': 12, 'min_data_in_leaf': 25, 'lambda_l1': 9.018503604675083e-08, 'lambda_l2': 0.2047500698735029, 'min_gain_to_split': 2.538672626113067}. Best is trial 21 with value: 0.4217382046818051.\n"
          ]
        },
        {
          "output_type": "stream",
          "name": "stdout",
          "text": [
            "Did not meet early stopping. Best iteration is:\n",
            "[25]\tvalid_0's multi_logloss: 0.841161\n",
            "Training until validation scores don't improve for 100 rounds\n"
          ]
        },
        {
          "output_type": "stream",
          "name": "stderr",
          "text": [
            "<ipython-input-34-3b55cde02c14>:15: FutureWarning: suggest_loguniform has been deprecated in v3.0.0. This feature will be removed in v6.0.0. See https://github.com/optuna/optuna/releases/tag/v3.0.0. Use suggest_float(..., log=True) instead.\n",
            "  'lambda_l1': trial.suggest_loguniform('lambda_l1', 1e-8, 10.0),\n",
            "<ipython-input-34-3b55cde02c14>:16: FutureWarning: suggest_loguniform has been deprecated in v3.0.0. This feature will be removed in v6.0.0. See https://github.com/optuna/optuna/releases/tag/v3.0.0. Use suggest_float(..., log=True) instead.\n",
            "  'lambda_l2': trial.suggest_loguniform('lambda_l2', 1e-8, 10.0),\n",
            "[I 2024-12-06 09:17:04,087] Trial 43 finished with value: 0.29723517265561095 and parameters: {'num_leaves': 125, 'learning_rate': 0.13759223149145466, 'feature_fraction': 0.607677713948611, 'bagging_fraction': 0.5145447063809854, 'bagging_freq': 5, 'max_depth': 11, 'min_data_in_leaf': 31, 'lambda_l1': 7.325863992468408e-05, 'lambda_l2': 0.0004902818982123918, 'min_gain_to_split': 0.6477801881221283}. Best is trial 21 with value: 0.4217382046818051.\n"
          ]
        },
        {
          "output_type": "stream",
          "name": "stdout",
          "text": [
            "Did not meet early stopping. Best iteration is:\n",
            "[16]\tvalid_0's multi_logloss: 0.870428\n",
            "Training until validation scores don't improve for 100 rounds\n"
          ]
        },
        {
          "output_type": "stream",
          "name": "stderr",
          "text": [
            "<ipython-input-34-3b55cde02c14>:15: FutureWarning: suggest_loguniform has been deprecated in v3.0.0. This feature will be removed in v6.0.0. See https://github.com/optuna/optuna/releases/tag/v3.0.0. Use suggest_float(..., log=True) instead.\n",
            "  'lambda_l1': trial.suggest_loguniform('lambda_l1', 1e-8, 10.0),\n",
            "<ipython-input-34-3b55cde02c14>:16: FutureWarning: suggest_loguniform has been deprecated in v3.0.0. This feature will be removed in v6.0.0. See https://github.com/optuna/optuna/releases/tag/v3.0.0. Use suggest_float(..., log=True) instead.\n",
            "  'lambda_l2': trial.suggest_loguniform('lambda_l2', 1e-8, 10.0),\n",
            "[I 2024-12-06 09:17:04,309] Trial 44 finished with value: 0.3168002051150568 and parameters: {'num_leaves': 180, 'learning_rate': 0.11410368039822874, 'feature_fraction': 0.726111053479719, 'bagging_fraction': 0.4289240768554972, 'bagging_freq': 3, 'max_depth': 10, 'min_data_in_leaf': 41, 'lambda_l1': 4.248915360196753e-06, 'lambda_l2': 0.04461230248836638, 'min_gain_to_split': 3.1820324286334976}. Best is trial 21 with value: 0.4217382046818051.\n"
          ]
        },
        {
          "output_type": "stream",
          "name": "stdout",
          "text": [
            "Did not meet early stopping. Best iteration is:\n",
            "[42]\tvalid_0's multi_logloss: 0.844213\n",
            "Training until validation scores don't improve for 100 rounds\n"
          ]
        },
        {
          "output_type": "stream",
          "name": "stderr",
          "text": [
            "<ipython-input-34-3b55cde02c14>:15: FutureWarning: suggest_loguniform has been deprecated in v3.0.0. This feature will be removed in v6.0.0. See https://github.com/optuna/optuna/releases/tag/v3.0.0. Use suggest_float(..., log=True) instead.\n",
            "  'lambda_l1': trial.suggest_loguniform('lambda_l1', 1e-8, 10.0),\n",
            "<ipython-input-34-3b55cde02c14>:16: FutureWarning: suggest_loguniform has been deprecated in v3.0.0. This feature will be removed in v6.0.0. See https://github.com/optuna/optuna/releases/tag/v3.0.0. Use suggest_float(..., log=True) instead.\n",
            "  'lambda_l2': trial.suggest_loguniform('lambda_l2', 1e-8, 10.0),\n",
            "[I 2024-12-06 09:17:05,087] Trial 45 finished with value: 0.24612260825280918 and parameters: {'num_leaves': 210, 'learning_rate': 0.1617381119290937, 'feature_fraction': 0.7822671652793107, 'bagging_fraction': 0.5770973285621612, 'bagging_freq': 5, 'max_depth': 12, 'min_data_in_leaf': 25, 'lambda_l1': 0.003109577700989109, 'lambda_l2': 0.25177856399437665, 'min_gain_to_split': 0.04509855093158244}. Best is trial 21 with value: 0.4217382046818051.\n"
          ]
        },
        {
          "output_type": "stream",
          "name": "stdout",
          "text": [
            "Did not meet early stopping. Best iteration is:\n",
            "[9]\tvalid_0's multi_logloss: 0.865851\n",
            "Training until validation scores don't improve for 100 rounds\n"
          ]
        },
        {
          "output_type": "stream",
          "name": "stderr",
          "text": [
            "<ipython-input-34-3b55cde02c14>:15: FutureWarning: suggest_loguniform has been deprecated in v3.0.0. This feature will be removed in v6.0.0. See https://github.com/optuna/optuna/releases/tag/v3.0.0. Use suggest_float(..., log=True) instead.\n",
            "  'lambda_l1': trial.suggest_loguniform('lambda_l1', 1e-8, 10.0),\n",
            "<ipython-input-34-3b55cde02c14>:16: FutureWarning: suggest_loguniform has been deprecated in v3.0.0. This feature will be removed in v6.0.0. See https://github.com/optuna/optuna/releases/tag/v3.0.0. Use suggest_float(..., log=True) instead.\n",
            "  'lambda_l2': trial.suggest_loguniform('lambda_l2', 1e-8, 10.0),\n",
            "[I 2024-12-06 09:17:05,306] Trial 46 finished with value: 0.3383732712223494 and parameters: {'num_leaves': 112, 'learning_rate': 0.2517963828075058, 'feature_fraction': 0.5465426668009605, 'bagging_fraction': 0.4010632002659872, 'bagging_freq': 4, 'max_depth': 10, 'min_data_in_leaf': 20, 'lambda_l1': 9.006514983688056e-07, 'lambda_l2': 3.7119988134630715, 'min_gain_to_split': 1.7946470998372055}. Best is trial 21 with value: 0.4217382046818051.\n"
          ]
        },
        {
          "output_type": "stream",
          "name": "stdout",
          "text": [
            "Did not meet early stopping. Best iteration is:\n",
            "[9]\tvalid_0's multi_logloss: 0.854898\n",
            "Training until validation scores don't improve for 100 rounds\n"
          ]
        },
        {
          "output_type": "stream",
          "name": "stderr",
          "text": [
            "<ipython-input-34-3b55cde02c14>:15: FutureWarning: suggest_loguniform has been deprecated in v3.0.0. This feature will be removed in v6.0.0. See https://github.com/optuna/optuna/releases/tag/v3.0.0. Use suggest_float(..., log=True) instead.\n",
            "  'lambda_l1': trial.suggest_loguniform('lambda_l1', 1e-8, 10.0),\n",
            "<ipython-input-34-3b55cde02c14>:16: FutureWarning: suggest_loguniform has been deprecated in v3.0.0. This feature will be removed in v6.0.0. See https://github.com/optuna/optuna/releases/tag/v3.0.0. Use suggest_float(..., log=True) instead.\n",
            "  'lambda_l2': trial.suggest_loguniform('lambda_l2', 1e-8, 10.0),\n",
            "[I 2024-12-06 09:17:05,567] Trial 47 finished with value: 0.4004778331728366 and parameters: {'num_leaves': 169, 'learning_rate': 0.22824457510094312, 'feature_fraction': 0.8510949544470829, 'bagging_fraction': 0.6428813008218927, 'bagging_freq': 7, 'max_depth': 4, 'min_data_in_leaf': 31, 'lambda_l1': 0.0002733421832444803, 'lambda_l2': 0.012605092556778661, 'min_gain_to_split': 1.167015433081475}. Best is trial 21 with value: 0.4217382046818051.\n",
            "<ipython-input-34-3b55cde02c14>:15: FutureWarning: suggest_loguniform has been deprecated in v3.0.0. This feature will be removed in v6.0.0. See https://github.com/optuna/optuna/releases/tag/v3.0.0. Use suggest_float(..., log=True) instead.\n",
            "  'lambda_l1': trial.suggest_loguniform('lambda_l1', 1e-8, 10.0),\n",
            "<ipython-input-34-3b55cde02c14>:16: FutureWarning: suggest_loguniform has been deprecated in v3.0.0. This feature will be removed in v6.0.0. See https://github.com/optuna/optuna/releases/tag/v3.0.0. Use suggest_float(..., log=True) instead.\n",
            "  'lambda_l2': trial.suggest_loguniform('lambda_l2', 1e-8, 10.0),\n",
            "[I 2024-12-06 09:17:05,749] Trial 48 finished with value: 0.21763529320300523 and parameters: {'num_leaves': 227, 'learning_rate': 0.23089679594032755, 'feature_fraction': 0.8290180851477744, 'bagging_fraction': 0.6862347769415313, 'bagging_freq': 7, 'max_depth': 4, 'min_data_in_leaf': 39, 'lambda_l1': 1.550539584580675, 'lambda_l2': 0.010650675614437102, 'min_gain_to_split': 11.779405012163469}. Best is trial 21 with value: 0.4217382046818051.\n"
          ]
        },
        {
          "output_type": "stream",
          "name": "stdout",
          "text": [
            "Did not meet early stopping. Best iteration is:\n",
            "[12]\tvalid_0's multi_logloss: 0.849434\n",
            "Training until validation scores don't improve for 100 rounds\n",
            "Did not meet early stopping. Best iteration is:\n",
            "[11]\tvalid_0's multi_logloss: 0.881233\n"
          ]
        },
        {
          "output_type": "stream",
          "name": "stderr",
          "text": [
            "<ipython-input-34-3b55cde02c14>:15: FutureWarning: suggest_loguniform has been deprecated in v3.0.0. This feature will be removed in v6.0.0. See https://github.com/optuna/optuna/releases/tag/v3.0.0. Use suggest_float(..., log=True) instead.\n",
            "  'lambda_l1': trial.suggest_loguniform('lambda_l1', 1e-8, 10.0),\n",
            "<ipython-input-34-3b55cde02c14>:16: FutureWarning: suggest_loguniform has been deprecated in v3.0.0. This feature will be removed in v6.0.0. See https://github.com/optuna/optuna/releases/tag/v3.0.0. Use suggest_float(..., log=True) instead.\n",
            "  'lambda_l2': trial.suggest_loguniform('lambda_l2', 1e-8, 10.0),\n"
          ]
        },
        {
          "output_type": "stream",
          "name": "stdout",
          "text": [
            "Training until validation scores don't improve for 100 rounds\n"
          ]
        },
        {
          "output_type": "stream",
          "name": "stderr",
          "text": [
            "[I 2024-12-06 09:17:06,157] Trial 49 finished with value: 0.3214313426273182 and parameters: {'num_leaves': 260, 'learning_rate': 0.06396977266902476, 'feature_fraction': 0.8120984661126536, 'bagging_fraction': 0.5242572304466503, 'bagging_freq': 7, 'max_depth': 5, 'min_data_in_leaf': 31, 'lambda_l1': 5.0995885577321804e-05, 'lambda_l2': 0.005069559131535347, 'min_gain_to_split': 0.8915032807526064}. Best is trial 21 with value: 0.4217382046818051.\n"
          ]
        },
        {
          "output_type": "stream",
          "name": "stdout",
          "text": [
            "Did not meet early stopping. Best iteration is:\n",
            "[45]\tvalid_0's multi_logloss: 0.84825\n",
            "Training until validation scores don't improve for 100 rounds\n"
          ]
        },
        {
          "output_type": "stream",
          "name": "stderr",
          "text": [
            "<ipython-input-34-3b55cde02c14>:15: FutureWarning: suggest_loguniform has been deprecated in v3.0.0. This feature will be removed in v6.0.0. See https://github.com/optuna/optuna/releases/tag/v3.0.0. Use suggest_float(..., log=True) instead.\n",
            "  'lambda_l1': trial.suggest_loguniform('lambda_l1', 1e-8, 10.0),\n",
            "<ipython-input-34-3b55cde02c14>:16: FutureWarning: suggest_loguniform has been deprecated in v3.0.0. This feature will be removed in v6.0.0. See https://github.com/optuna/optuna/releases/tag/v3.0.0. Use suggest_float(..., log=True) instead.\n",
            "  'lambda_l2': trial.suggest_loguniform('lambda_l2', 1e-8, 10.0),\n",
            "[I 2024-12-06 09:17:06,417] Trial 50 finished with value: 0.4083909530684091 and parameters: {'num_leaves': 204, 'learning_rate': 0.28415229102150646, 'feature_fraction': 0.8697984583361343, 'bagging_fraction': 0.6564957569365424, 'bagging_freq': 3, 'max_depth': 3, 'min_data_in_leaf': 43, 'lambda_l1': 0.029580763596052006, 'lambda_l2': 0.00014680477138213387, 'min_gain_to_split': 1.3880013824235817}. Best is trial 21 with value: 0.4217382046818051.\n"
          ]
        },
        {
          "output_type": "stream",
          "name": "stdout",
          "text": [
            "Did not meet early stopping. Best iteration is:\n",
            "[6]\tvalid_0's multi_logloss: 0.859763\n",
            "Training until validation scores don't improve for 100 rounds\n"
          ]
        },
        {
          "output_type": "stream",
          "name": "stderr",
          "text": [
            "<ipython-input-34-3b55cde02c14>:15: FutureWarning: suggest_loguniform has been deprecated in v3.0.0. This feature will be removed in v6.0.0. See https://github.com/optuna/optuna/releases/tag/v3.0.0. Use suggest_float(..., log=True) instead.\n",
            "  'lambda_l1': trial.suggest_loguniform('lambda_l1', 1e-8, 10.0),\n",
            "<ipython-input-34-3b55cde02c14>:16: FutureWarning: suggest_loguniform has been deprecated in v3.0.0. This feature will be removed in v6.0.0. See https://github.com/optuna/optuna/releases/tag/v3.0.0. Use suggest_float(..., log=True) instead.\n",
            "  'lambda_l2': trial.suggest_loguniform('lambda_l2', 1e-8, 10.0),\n",
            "[I 2024-12-06 09:17:06,651] Trial 51 finished with value: 0.358040097027421 and parameters: {'num_leaves': 204, 'learning_rate': 0.2811225718935473, 'feature_fraction': 0.6366022354457952, 'bagging_fraction': 0.6424752137141788, 'bagging_freq': 3, 'max_depth': 3, 'min_data_in_leaf': 36, 'lambda_l1': 0.12203234359349802, 'lambda_l2': 0.00015510523186344834, 'min_gain_to_split': 1.9018970020628954}. Best is trial 21 with value: 0.4217382046818051.\n"
          ]
        },
        {
          "output_type": "stream",
          "name": "stdout",
          "text": [
            "Did not meet early stopping. Best iteration is:\n",
            "[10]\tvalid_0's multi_logloss: 0.853377\n",
            "Training until validation scores don't improve for 100 rounds\n"
          ]
        },
        {
          "output_type": "stream",
          "name": "stderr",
          "text": [
            "<ipython-input-34-3b55cde02c14>:15: FutureWarning: suggest_loguniform has been deprecated in v3.0.0. This feature will be removed in v6.0.0. See https://github.com/optuna/optuna/releases/tag/v3.0.0. Use suggest_float(..., log=True) instead.\n",
            "  'lambda_l1': trial.suggest_loguniform('lambda_l1', 1e-8, 10.0),\n",
            "<ipython-input-34-3b55cde02c14>:16: FutureWarning: suggest_loguniform has been deprecated in v3.0.0. This feature will be removed in v6.0.0. See https://github.com/optuna/optuna/releases/tag/v3.0.0. Use suggest_float(..., log=True) instead.\n",
            "  'lambda_l2': trial.suggest_loguniform('lambda_l2', 1e-8, 10.0),\n",
            "[I 2024-12-06 09:17:06,943] Trial 52 finished with value: 0.3102751129786727 and parameters: {'num_leaves': 176, 'learning_rate': 0.2854705987396182, 'feature_fraction': 0.8747073881229815, 'bagging_fraction': 0.7315359904085792, 'bagging_freq': 3, 'max_depth': 4, 'min_data_in_leaf': 42, 'lambda_l1': 0.03464364313839122, 'lambda_l2': 0.003356702377892407, 'min_gain_to_split': 1.2415925158042105}. Best is trial 21 with value: 0.4217382046818051.\n"
          ]
        },
        {
          "output_type": "stream",
          "name": "stdout",
          "text": [
            "Did not meet early stopping. Best iteration is:\n",
            "[6]\tvalid_0's multi_logloss: 0.864278\n",
            "Training until validation scores don't improve for 100 rounds\n"
          ]
        },
        {
          "output_type": "stream",
          "name": "stderr",
          "text": [
            "<ipython-input-34-3b55cde02c14>:15: FutureWarning: suggest_loguniform has been deprecated in v3.0.0. This feature will be removed in v6.0.0. See https://github.com/optuna/optuna/releases/tag/v3.0.0. Use suggest_float(..., log=True) instead.\n",
            "  'lambda_l1': trial.suggest_loguniform('lambda_l1', 1e-8, 10.0),\n",
            "<ipython-input-34-3b55cde02c14>:16: FutureWarning: suggest_loguniform has been deprecated in v3.0.0. This feature will be removed in v6.0.0. See https://github.com/optuna/optuna/releases/tag/v3.0.0. Use suggest_float(..., log=True) instead.\n",
            "  'lambda_l2': trial.suggest_loguniform('lambda_l2', 1e-8, 10.0),\n",
            "[I 2024-12-06 09:17:07,265] Trial 53 finished with value: 0.3491467484926787 and parameters: {'num_leaves': 191, 'learning_rate': 0.298932230128654, 'feature_fraction': 0.8998893827994783, 'bagging_fraction': 0.7964883789878144, 'bagging_freq': 2, 'max_depth': 3, 'min_data_in_leaf': 48, 'lambda_l1': 1.67974661642198, 'lambda_l2': 0.0003825853982164641, 'min_gain_to_split': 0.33975931594620157}. Best is trial 21 with value: 0.4217382046818051.\n"
          ]
        },
        {
          "output_type": "stream",
          "name": "stdout",
          "text": [
            "Did not meet early stopping. Best iteration is:\n",
            "[7]\tvalid_0's multi_logloss: 0.845784\n",
            "Training until validation scores don't improve for 100 rounds\n"
          ]
        },
        {
          "output_type": "stream",
          "name": "stderr",
          "text": [
            "<ipython-input-34-3b55cde02c14>:15: FutureWarning: suggest_loguniform has been deprecated in v3.0.0. This feature will be removed in v6.0.0. See https://github.com/optuna/optuna/releases/tag/v3.0.0. Use suggest_float(..., log=True) instead.\n",
            "  'lambda_l1': trial.suggest_loguniform('lambda_l1', 1e-8, 10.0),\n",
            "<ipython-input-34-3b55cde02c14>:16: FutureWarning: suggest_loguniform has been deprecated in v3.0.0. This feature will be removed in v6.0.0. See https://github.com/optuna/optuna/releases/tag/v3.0.0. Use suggest_float(..., log=True) instead.\n",
            "  'lambda_l2': trial.suggest_loguniform('lambda_l2', 1e-8, 10.0),\n",
            "[I 2024-12-06 09:17:07,487] Trial 54 finished with value: 0.3657248249730245 and parameters: {'num_leaves': 132, 'learning_rate': 0.24358537102668865, 'feature_fraction': 0.8582977804386, 'bagging_fraction': 0.6716181324870992, 'bagging_freq': 4, 'max_depth': 4, 'min_data_in_leaf': 31, 'lambda_l1': 0.005071030774705112, 'lambda_l2': 9.713632032005092e-07, 'min_gain_to_split': 2.4679202013558355}. Best is trial 21 with value: 0.4217382046818051.\n"
          ]
        },
        {
          "output_type": "stream",
          "name": "stdout",
          "text": [
            "Did not meet early stopping. Best iteration is:\n",
            "[11]\tvalid_0's multi_logloss: 0.849125\n",
            "Training until validation scores don't improve for 100 rounds\n"
          ]
        },
        {
          "output_type": "stream",
          "name": "stderr",
          "text": [
            "<ipython-input-34-3b55cde02c14>:15: FutureWarning: suggest_loguniform has been deprecated in v3.0.0. This feature will be removed in v6.0.0. See https://github.com/optuna/optuna/releases/tag/v3.0.0. Use suggest_float(..., log=True) instead.\n",
            "  'lambda_l1': trial.suggest_loguniform('lambda_l1', 1e-8, 10.0),\n",
            "<ipython-input-34-3b55cde02c14>:16: FutureWarning: suggest_loguniform has been deprecated in v3.0.0. This feature will be removed in v6.0.0. See https://github.com/optuna/optuna/releases/tag/v3.0.0. Use suggest_float(..., log=True) instead.\n",
            "  'lambda_l2': trial.suggest_loguniform('lambda_l2', 1e-8, 10.0),\n",
            "[I 2024-12-06 09:17:07,791] Trial 55 finished with value: 0.37823347904345594 and parameters: {'num_leaves': 264, 'learning_rate': 0.14698306744877562, 'feature_fraction': 0.6907403848095224, 'bagging_fraction': 0.5972796595464566, 'bagging_freq': 2, 'max_depth': 5, 'min_data_in_leaf': 44, 'lambda_l1': 2.4451057319521942e-05, 'lambda_l2': 2.529997488847926e-05, 'min_gain_to_split': 1.5215520296735463}. Best is trial 21 with value: 0.4217382046818051.\n"
          ]
        },
        {
          "output_type": "stream",
          "name": "stdout",
          "text": [
            "Did not meet early stopping. Best iteration is:\n",
            "[17]\tvalid_0's multi_logloss: 0.851292\n",
            "Training until validation scores don't improve for 100 rounds\n"
          ]
        },
        {
          "output_type": "stream",
          "name": "stderr",
          "text": [
            "<ipython-input-34-3b55cde02c14>:15: FutureWarning: suggest_loguniform has been deprecated in v3.0.0. This feature will be removed in v6.0.0. See https://github.com/optuna/optuna/releases/tag/v3.0.0. Use suggest_float(..., log=True) instead.\n",
            "  'lambda_l1': trial.suggest_loguniform('lambda_l1', 1e-8, 10.0),\n",
            "<ipython-input-34-3b55cde02c14>:16: FutureWarning: suggest_loguniform has been deprecated in v3.0.0. This feature will be removed in v6.0.0. See https://github.com/optuna/optuna/releases/tag/v3.0.0. Use suggest_float(..., log=True) instead.\n",
            "  'lambda_l2': trial.suggest_loguniform('lambda_l2', 1e-8, 10.0),\n",
            "[I 2024-12-06 09:17:08,117] Trial 56 finished with value: 0.36704560149536225 and parameters: {'num_leaves': 173, 'learning_rate': 0.2740136841205225, 'feature_fraction': 0.9503953168225885, 'bagging_fraction': 0.47493960216321435, 'bagging_freq': 3, 'max_depth': 3, 'min_data_in_leaf': 33, 'lambda_l1': 6.314921024317043e-06, 'lambda_l2': 0.017052738432465967, 'min_gain_to_split': 2.279506258204022}. Best is trial 21 with value: 0.4217382046818051.\n"
          ]
        },
        {
          "output_type": "stream",
          "name": "stdout",
          "text": [
            "Did not meet early stopping. Best iteration is:\n",
            "[19]\tvalid_0's multi_logloss: 0.854418\n",
            "Training until validation scores don't improve for 100 rounds\n"
          ]
        },
        {
          "output_type": "stream",
          "name": "stderr",
          "text": [
            "<ipython-input-34-3b55cde02c14>:15: FutureWarning: suggest_loguniform has been deprecated in v3.0.0. This feature will be removed in v6.0.0. See https://github.com/optuna/optuna/releases/tag/v3.0.0. Use suggest_float(..., log=True) instead.\n",
            "  'lambda_l1': trial.suggest_loguniform('lambda_l1', 1e-8, 10.0),\n",
            "<ipython-input-34-3b55cde02c14>:16: FutureWarning: suggest_loguniform has been deprecated in v3.0.0. This feature will be removed in v6.0.0. See https://github.com/optuna/optuna/releases/tag/v3.0.0. Use suggest_float(..., log=True) instead.\n",
            "  'lambda_l2': trial.suggest_loguniform('lambda_l2', 1e-8, 10.0),\n",
            "[I 2024-12-06 09:17:08,656] Trial 57 finished with value: 0.3264887862711271 and parameters: {'num_leaves': 201, 'learning_rate': 0.11631552136665829, 'feature_fraction': 0.8204255039342766, 'bagging_fraction': 0.7082245653296663, 'bagging_freq': 7, 'max_depth': 6, 'min_data_in_leaf': 91, 'lambda_l1': 0.0004782159700755421, 'lambda_l2': 0.0017073594910812652, 'min_gain_to_split': 0.7445927424271614}. Best is trial 21 with value: 0.4217382046818051.\n"
          ]
        },
        {
          "output_type": "stream",
          "name": "stdout",
          "text": [
            "Did not meet early stopping. Best iteration is:\n",
            "[22]\tvalid_0's multi_logloss: 0.851914\n",
            "Training until validation scores don't improve for 100 rounds\n"
          ]
        },
        {
          "output_type": "stream",
          "name": "stderr",
          "text": [
            "<ipython-input-34-3b55cde02c14>:15: FutureWarning: suggest_loguniform has been deprecated in v3.0.0. This feature will be removed in v6.0.0. See https://github.com/optuna/optuna/releases/tag/v3.0.0. Use suggest_float(..., log=True) instead.\n",
            "  'lambda_l1': trial.suggest_loguniform('lambda_l1', 1e-8, 10.0),\n",
            "<ipython-input-34-3b55cde02c14>:16: FutureWarning: suggest_loguniform has been deprecated in v3.0.0. This feature will be removed in v6.0.0. See https://github.com/optuna/optuna/releases/tag/v3.0.0. Use suggest_float(..., log=True) instead.\n",
            "  'lambda_l2': trial.suggest_loguniform('lambda_l2', 1e-8, 10.0),\n",
            "[I 2024-12-06 09:17:08,946] Trial 58 finished with value: 0.37152437998242316 and parameters: {'num_leaves': 219, 'learning_rate': 0.19971365594483145, 'feature_fraction': 0.6069537596445831, 'bagging_fraction': 0.570575232163472, 'bagging_freq': 3, 'max_depth': 8, 'min_data_in_leaf': 24, 'lambda_l1': 0.03786481579728124, 'lambda_l2': 7.060723535403984e-06, 'min_gain_to_split': 4.75654951168659}. Best is trial 21 with value: 0.4217382046818051.\n"
          ]
        },
        {
          "output_type": "stream",
          "name": "stdout",
          "text": [
            "Did not meet early stopping. Best iteration is:\n",
            "[43]\tvalid_0's multi_logloss: 0.842203\n",
            "Training until validation scores don't improve for 100 rounds\n"
          ]
        },
        {
          "output_type": "stream",
          "name": "stderr",
          "text": [
            "<ipython-input-34-3b55cde02c14>:15: FutureWarning: suggest_loguniform has been deprecated in v3.0.0. This feature will be removed in v6.0.0. See https://github.com/optuna/optuna/releases/tag/v3.0.0. Use suggest_float(..., log=True) instead.\n",
            "  'lambda_l1': trial.suggest_loguniform('lambda_l1', 1e-8, 10.0),\n",
            "<ipython-input-34-3b55cde02c14>:16: FutureWarning: suggest_loguniform has been deprecated in v3.0.0. This feature will be removed in v6.0.0. See https://github.com/optuna/optuna/releases/tag/v3.0.0. Use suggest_float(..., log=True) instead.\n",
            "  'lambda_l2': trial.suggest_loguniform('lambda_l2', 1e-8, 10.0),\n",
            "[I 2024-12-06 09:17:09,248] Trial 59 finished with value: 0.39808752584424534 and parameters: {'num_leaves': 151, 'learning_rate': 0.2711577784737392, 'feature_fraction': 0.7291555892863671, 'bagging_fraction': 0.6533724496521267, 'bagging_freq': 4, 'max_depth': 5, 'min_data_in_leaf': 38, 'lambda_l1': 2.344995186179162e-05, 'lambda_l2': 0.031233607657876396, 'min_gain_to_split': 3.6513733027552284}. Best is trial 21 with value: 0.4217382046818051.\n"
          ]
        },
        {
          "output_type": "stream",
          "name": "stdout",
          "text": [
            "Did not meet early stopping. Best iteration is:\n",
            "[11]\tvalid_0's multi_logloss: 0.853912\n",
            "Training until validation scores don't improve for 100 rounds\n"
          ]
        },
        {
          "output_type": "stream",
          "name": "stderr",
          "text": [
            "<ipython-input-34-3b55cde02c14>:15: FutureWarning: suggest_loguniform has been deprecated in v3.0.0. This feature will be removed in v6.0.0. See https://github.com/optuna/optuna/releases/tag/v3.0.0. Use suggest_float(..., log=True) instead.\n",
            "  'lambda_l1': trial.suggest_loguniform('lambda_l1', 1e-8, 10.0),\n",
            "<ipython-input-34-3b55cde02c14>:16: FutureWarning: suggest_loguniform has been deprecated in v3.0.0. This feature will be removed in v6.0.0. See https://github.com/optuna/optuna/releases/tag/v3.0.0. Use suggest_float(..., log=True) instead.\n",
            "  'lambda_l2': trial.suggest_loguniform('lambda_l2', 1e-8, 10.0),\n",
            "[I 2024-12-06 09:17:09,597] Trial 60 finished with value: 0.36394075180482943 and parameters: {'num_leaves': 189, 'learning_rate': 0.26727084542868335, 'feature_fraction': 0.7982687444570027, 'bagging_fraction': 0.6447129423820112, 'bagging_freq': 4, 'max_depth': 5, 'min_data_in_leaf': 38, 'lambda_l1': 1.00196342138257e-06, 'lambda_l2': 9.52579984360099e-05, 'min_gain_to_split': 3.877076078577188}. Best is trial 21 with value: 0.4217382046818051.\n"
          ]
        },
        {
          "output_type": "stream",
          "name": "stdout",
          "text": [
            "Did not meet early stopping. Best iteration is:\n",
            "[19]\tvalid_0's multi_logloss: 0.858\n",
            "Training until validation scores don't improve for 100 rounds\n"
          ]
        },
        {
          "output_type": "stream",
          "name": "stderr",
          "text": [
            "<ipython-input-34-3b55cde02c14>:15: FutureWarning: suggest_loguniform has been deprecated in v3.0.0. This feature will be removed in v6.0.0. See https://github.com/optuna/optuna/releases/tag/v3.0.0. Use suggest_float(..., log=True) instead.\n",
            "  'lambda_l1': trial.suggest_loguniform('lambda_l1', 1e-8, 10.0),\n",
            "<ipython-input-34-3b55cde02c14>:16: FutureWarning: suggest_loguniform has been deprecated in v3.0.0. This feature will be removed in v6.0.0. See https://github.com/optuna/optuna/releases/tag/v3.0.0. Use suggest_float(..., log=True) instead.\n",
            "  'lambda_l2': trial.suggest_loguniform('lambda_l2', 1e-8, 10.0),\n",
            "[I 2024-12-06 09:17:09,893] Trial 61 finished with value: 0.35087391766182763 and parameters: {'num_leaves': 149, 'learning_rate': 0.25785236911312753, 'feature_fraction': 0.660023284677346, 'bagging_fraction': 0.6135036278423442, 'bagging_freq': 4, 'max_depth': 4, 'min_data_in_leaf': 36, 'lambda_l1': 0.4462438630176605, 'lambda_l2': 0.04173178583358863, 'min_gain_to_split': 3.0517109204632007}. Best is trial 21 with value: 0.4217382046818051.\n"
          ]
        },
        {
          "output_type": "stream",
          "name": "stdout",
          "text": [
            "Did not meet early stopping. Best iteration is:\n",
            "[14]\tvalid_0's multi_logloss: 0.845474\n",
            "Training until validation scores don't improve for 100 rounds\n"
          ]
        },
        {
          "output_type": "stream",
          "name": "stderr",
          "text": [
            "<ipython-input-34-3b55cde02c14>:15: FutureWarning: suggest_loguniform has been deprecated in v3.0.0. This feature will be removed in v6.0.0. See https://github.com/optuna/optuna/releases/tag/v3.0.0. Use suggest_float(..., log=True) instead.\n",
            "  'lambda_l1': trial.suggest_loguniform('lambda_l1', 1e-8, 10.0),\n",
            "<ipython-input-34-3b55cde02c14>:16: FutureWarning: suggest_loguniform has been deprecated in v3.0.0. This feature will be removed in v6.0.0. See https://github.com/optuna/optuna/releases/tag/v3.0.0. Use suggest_float(..., log=True) instead.\n",
            "  'lambda_l2': trial.suggest_loguniform('lambda_l2', 1e-8, 10.0),\n",
            "[I 2024-12-06 09:17:10,259] Trial 62 finished with value: 0.3458456867413602 and parameters: {'num_leaves': 162, 'learning_rate': 0.2340442818433125, 'feature_fraction': 0.7335001438195783, 'bagging_fraction': 0.6743008780406419, 'bagging_freq': 4, 'max_depth': 3, 'min_data_in_leaf': 27, 'lambda_l1': 3.62648671773225e-05, 'lambda_l2': 0.10794141085469558, 'min_gain_to_split': 2.194154173308132}. Best is trial 21 with value: 0.4217382046818051.\n"
          ]
        },
        {
          "output_type": "stream",
          "name": "stdout",
          "text": [
            "Did not meet early stopping. Best iteration is:\n",
            "[13]\tvalid_0's multi_logloss: 0.850228\n",
            "Training until validation scores don't improve for 100 rounds\n"
          ]
        },
        {
          "output_type": "stream",
          "name": "stderr",
          "text": [
            "<ipython-input-34-3b55cde02c14>:15: FutureWarning: suggest_loguniform has been deprecated in v3.0.0. This feature will be removed in v6.0.0. See https://github.com/optuna/optuna/releases/tag/v3.0.0. Use suggest_float(..., log=True) instead.\n",
            "  'lambda_l1': trial.suggest_loguniform('lambda_l1', 1e-8, 10.0),\n",
            "<ipython-input-34-3b55cde02c14>:16: FutureWarning: suggest_loguniform has been deprecated in v3.0.0. This feature will be removed in v6.0.0. See https://github.com/optuna/optuna/releases/tag/v3.0.0. Use suggest_float(..., log=True) instead.\n",
            "  'lambda_l2': trial.suggest_loguniform('lambda_l2', 1e-8, 10.0),\n",
            "[I 2024-12-06 09:17:10,678] Trial 63 finished with value: 0.3675420049792947 and parameters: {'num_leaves': 168, 'learning_rate': 0.2952037138688213, 'feature_fraction': 0.7682299825253807, 'bagging_fraction': 0.7313798142145593, 'bagging_freq': 3, 'max_depth': 5, 'min_data_in_leaf': 43, 'lambda_l1': 1.8150816155895312e-05, 'lambda_l2': 0.4760839652058385, 'min_gain_to_split': 1.173407958882158}. Best is trial 21 with value: 0.4217382046818051.\n"
          ]
        },
        {
          "output_type": "stream",
          "name": "stdout",
          "text": [
            "Did not meet early stopping. Best iteration is:\n",
            "[7]\tvalid_0's multi_logloss: 0.863149\n",
            "Training until validation scores don't improve for 100 rounds\n"
          ]
        },
        {
          "output_type": "stream",
          "name": "stderr",
          "text": [
            "<ipython-input-34-3b55cde02c14>:15: FutureWarning: suggest_loguniform has been deprecated in v3.0.0. This feature will be removed in v6.0.0. See https://github.com/optuna/optuna/releases/tag/v3.0.0. Use suggest_float(..., log=True) instead.\n",
            "  'lambda_l1': trial.suggest_loguniform('lambda_l1', 1e-8, 10.0),\n",
            "<ipython-input-34-3b55cde02c14>:16: FutureWarning: suggest_loguniform has been deprecated in v3.0.0. This feature will be removed in v6.0.0. See https://github.com/optuna/optuna/releases/tag/v3.0.0. Use suggest_float(..., log=True) instead.\n",
            "  'lambda_l2': trial.suggest_loguniform('lambda_l2', 1e-8, 10.0),\n",
            "[I 2024-12-06 09:17:10,956] Trial 64 finished with value: 0.353390311967386 and parameters: {'num_leaves': 119, 'learning_rate': 0.2862405901469182, 'feature_fraction': 0.7115621343031021, 'bagging_fraction': 0.7585169722065559, 'bagging_freq': 4, 'max_depth': 4, 'min_data_in_leaf': 31, 'lambda_l1': 9.028660260596356e-05, 'lambda_l2': 0.14410250903840469, 'min_gain_to_split': 3.4036694548163506}. Best is trial 21 with value: 0.4217382046818051.\n"
          ]
        },
        {
          "output_type": "stream",
          "name": "stdout",
          "text": [
            "Did not meet early stopping. Best iteration is:\n",
            "[10]\tvalid_0's multi_logloss: 0.854788\n",
            "Training until validation scores don't improve for 100 rounds\n"
          ]
        },
        {
          "output_type": "stream",
          "name": "stderr",
          "text": [
            "<ipython-input-34-3b55cde02c14>:15: FutureWarning: suggest_loguniform has been deprecated in v3.0.0. This feature will be removed in v6.0.0. See https://github.com/optuna/optuna/releases/tag/v3.0.0. Use suggest_float(..., log=True) instead.\n",
            "  'lambda_l1': trial.suggest_loguniform('lambda_l1', 1e-8, 10.0),\n",
            "<ipython-input-34-3b55cde02c14>:16: FutureWarning: suggest_loguniform has been deprecated in v3.0.0. This feature will be removed in v6.0.0. See https://github.com/optuna/optuna/releases/tag/v3.0.0. Use suggest_float(..., log=True) instead.\n",
            "  'lambda_l2': trial.suggest_loguniform('lambda_l2', 1e-8, 10.0),\n",
            "[I 2024-12-06 09:17:11,192] Trial 65 finished with value: 0.39693471903652 and parameters: {'num_leaves': 135, 'learning_rate': 0.2671928102599926, 'feature_fraction': 0.8905637937032417, 'bagging_fraction': 0.6572386751604465, 'bagging_freq': 5, 'max_depth': 7, 'min_data_in_leaf': 50, 'lambda_l1': 0.00032524985054196325, 'lambda_l2': 0.012066812040503987, 'min_gain_to_split': 2.027621296886}. Best is trial 21 with value: 0.4217382046818051.\n",
            "<ipython-input-34-3b55cde02c14>:15: FutureWarning: suggest_loguniform has been deprecated in v3.0.0. This feature will be removed in v6.0.0. See https://github.com/optuna/optuna/releases/tag/v3.0.0. Use suggest_float(..., log=True) instead.\n",
            "  'lambda_l1': trial.suggest_loguniform('lambda_l1', 1e-8, 10.0),\n",
            "<ipython-input-34-3b55cde02c14>:16: FutureWarning: suggest_loguniform has been deprecated in v3.0.0. This feature will be removed in v6.0.0. See https://github.com/optuna/optuna/releases/tag/v3.0.0. Use suggest_float(..., log=True) instead.\n",
            "  'lambda_l2': trial.suggest_loguniform('lambda_l2', 1e-8, 10.0),\n",
            "[I 2024-12-06 09:17:11,365] Trial 66 finished with value: 0.2510836993116997 and parameters: {'num_leaves': 86, 'learning_rate': 0.27036999843404325, 'feature_fraction': 0.8945201317526705, 'bagging_fraction': 0.6508275322905559, 'bagging_freq': 3, 'max_depth': 7, 'min_data_in_leaf': 49, 'lambda_l1': 1.9014723580928084e-07, 'lambda_l2': 0.002594608257087577, 'min_gain_to_split': 14.480707285858012}. Best is trial 21 with value: 0.4217382046818051.\n"
          ]
        },
        {
          "output_type": "stream",
          "name": "stdout",
          "text": [
            "Did not meet early stopping. Best iteration is:\n",
            "[10]\tvalid_0's multi_logloss: 0.858981\n",
            "Training until validation scores don't improve for 100 rounds\n",
            "Did not meet early stopping. Best iteration is:\n",
            "[7]\tvalid_0's multi_logloss: 0.88819\n"
          ]
        },
        {
          "output_type": "stream",
          "name": "stderr",
          "text": [
            "<ipython-input-34-3b55cde02c14>:15: FutureWarning: suggest_loguniform has been deprecated in v3.0.0. This feature will be removed in v6.0.0. See https://github.com/optuna/optuna/releases/tag/v3.0.0. Use suggest_float(..., log=True) instead.\n",
            "  'lambda_l1': trial.suggest_loguniform('lambda_l1', 1e-8, 10.0),\n",
            "<ipython-input-34-3b55cde02c14>:16: FutureWarning: suggest_loguniform has been deprecated in v3.0.0. This feature will be removed in v6.0.0. See https://github.com/optuna/optuna/releases/tag/v3.0.0. Use suggest_float(..., log=True) instead.\n",
            "  'lambda_l2': trial.suggest_loguniform('lambda_l2', 1e-8, 10.0),\n"
          ]
        },
        {
          "output_type": "stream",
          "name": "stdout",
          "text": [
            "Training until validation scores don't improve for 100 rounds\n"
          ]
        },
        {
          "output_type": "stream",
          "name": "stderr",
          "text": [
            "[I 2024-12-06 09:17:11,674] Trial 67 finished with value: 0.32246362628042025 and parameters: {'num_leaves': 139, 'learning_rate': 0.1277045562825285, 'feature_fraction': 0.8630772485353184, 'bagging_fraction': 0.7001665292648978, 'bagging_freq': 2, 'max_depth': 6, 'min_data_in_leaf': 52, 'lambda_l1': 0.000233243646170403, 'lambda_l2': 0.00020315047938246626, 'min_gain_to_split': 1.6619166835107602}. Best is trial 21 with value: 0.4217382046818051.\n"
          ]
        },
        {
          "output_type": "stream",
          "name": "stdout",
          "text": [
            "Did not meet early stopping. Best iteration is:\n",
            "[17]\tvalid_0's multi_logloss: 0.852899\n",
            "Training until validation scores don't improve for 100 rounds\n"
          ]
        },
        {
          "output_type": "stream",
          "name": "stderr",
          "text": [
            "<ipython-input-34-3b55cde02c14>:15: FutureWarning: suggest_loguniform has been deprecated in v3.0.0. This feature will be removed in v6.0.0. See https://github.com/optuna/optuna/releases/tag/v3.0.0. Use suggest_float(..., log=True) instead.\n",
            "  'lambda_l1': trial.suggest_loguniform('lambda_l1', 1e-8, 10.0),\n",
            "<ipython-input-34-3b55cde02c14>:16: FutureWarning: suggest_loguniform has been deprecated in v3.0.0. This feature will be removed in v6.0.0. See https://github.com/optuna/optuna/releases/tag/v3.0.0. Use suggest_float(..., log=True) instead.\n",
            "  'lambda_l2': trial.suggest_loguniform('lambda_l2', 1e-8, 10.0),\n",
            "[I 2024-12-06 09:17:12,075] Trial 68 finished with value: 0.33438779529908924 and parameters: {'num_leaves': 107, 'learning_rate': 0.24757382867961505, 'feature_fraction': 0.966599305541845, 'bagging_fraction': 0.6279665418125103, 'bagging_freq': 6, 'max_depth': 6, 'min_data_in_leaf': 46, 'lambda_l1': 0.0018515285681237985, 'lambda_l2': 1.6701888666201494e-07, 'min_gain_to_split': 0.4362707864246165}. Best is trial 21 with value: 0.4217382046818051.\n"
          ]
        },
        {
          "output_type": "stream",
          "name": "stdout",
          "text": [
            "Did not meet early stopping. Best iteration is:\n",
            "[7]\tvalid_0's multi_logloss: 0.854543\n",
            "Training until validation scores don't improve for 100 rounds\n"
          ]
        },
        {
          "output_type": "stream",
          "name": "stderr",
          "text": [
            "<ipython-input-34-3b55cde02c14>:15: FutureWarning: suggest_loguniform has been deprecated in v3.0.0. This feature will be removed in v6.0.0. See https://github.com/optuna/optuna/releases/tag/v3.0.0. Use suggest_float(..., log=True) instead.\n",
            "  'lambda_l1': trial.suggest_loguniform('lambda_l1', 1e-8, 10.0),\n",
            "<ipython-input-34-3b55cde02c14>:16: FutureWarning: suggest_loguniform has been deprecated in v3.0.0. This feature will be removed in v6.0.0. See https://github.com/optuna/optuna/releases/tag/v3.0.0. Use suggest_float(..., log=True) instead.\n",
            "  'lambda_l2': trial.suggest_loguniform('lambda_l2', 1e-8, 10.0),\n",
            "[I 2024-12-06 09:17:12,334] Trial 69 finished with value: 0.3804119010288155 and parameters: {'num_leaves': 55, 'learning_rate': 0.10081925298352656, 'feature_fraction': 0.9162785527206696, 'bagging_fraction': 0.7172044462741028, 'bagging_freq': 4, 'max_depth': 4, 'min_data_in_leaf': 54, 'lambda_l1': 3.858278444082481e-06, 'lambda_l2': 0.0010018022015974971, 'min_gain_to_split': 2.658238460366315}. Best is trial 21 with value: 0.4217382046818051.\n"
          ]
        },
        {
          "output_type": "stream",
          "name": "stdout",
          "text": [
            "Did not meet early stopping. Best iteration is:\n",
            "[30]\tvalid_0's multi_logloss: 0.84284\n",
            "Training until validation scores don't improve for 100 rounds\n"
          ]
        },
        {
          "output_type": "stream",
          "name": "stderr",
          "text": [
            "<ipython-input-34-3b55cde02c14>:15: FutureWarning: suggest_loguniform has been deprecated in v3.0.0. This feature will be removed in v6.0.0. See https://github.com/optuna/optuna/releases/tag/v3.0.0. Use suggest_float(..., log=True) instead.\n",
            "  'lambda_l1': trial.suggest_loguniform('lambda_l1', 1e-8, 10.0),\n",
            "<ipython-input-34-3b55cde02c14>:16: FutureWarning: suggest_loguniform has been deprecated in v3.0.0. This feature will be removed in v6.0.0. See https://github.com/optuna/optuna/releases/tag/v3.0.0. Use suggest_float(..., log=True) instead.\n",
            "  'lambda_l2': trial.suggest_loguniform('lambda_l2', 1e-8, 10.0),\n",
            "[I 2024-12-06 09:17:12,558] Trial 70 finished with value: 0.3634116591696731 and parameters: {'num_leaves': 163, 'learning_rate': 0.17318773015276465, 'feature_fraction': 0.8794422852957122, 'bagging_fraction': 0.8382193196094542, 'bagging_freq': 5, 'max_depth': 7, 'min_data_in_leaf': 40, 'lambda_l1': 0.00015148934252337456, 'lambda_l2': 0.01532445284449328, 'min_gain_to_split': 6.153630649419978}. Best is trial 21 with value: 0.4217382046818051.\n"
          ]
        },
        {
          "output_type": "stream",
          "name": "stdout",
          "text": [
            "Did not meet early stopping. Best iteration is:\n",
            "[17]\tvalid_0's multi_logloss: 0.851413\n",
            "Training until validation scores don't improve for 100 rounds\n"
          ]
        },
        {
          "output_type": "stream",
          "name": "stderr",
          "text": [
            "<ipython-input-34-3b55cde02c14>:15: FutureWarning: suggest_loguniform has been deprecated in v3.0.0. This feature will be removed in v6.0.0. See https://github.com/optuna/optuna/releases/tag/v3.0.0. Use suggest_float(..., log=True) instead.\n",
            "  'lambda_l1': trial.suggest_loguniform('lambda_l1', 1e-8, 10.0),\n",
            "<ipython-input-34-3b55cde02c14>:16: FutureWarning: suggest_loguniform has been deprecated in v3.0.0. This feature will be removed in v6.0.0. See https://github.com/optuna/optuna/releases/tag/v3.0.0. Use suggest_float(..., log=True) instead.\n",
            "  'lambda_l2': trial.suggest_loguniform('lambda_l2', 1e-8, 10.0),\n",
            "[I 2024-12-06 09:17:12,782] Trial 71 finished with value: 0.3182094466253007 and parameters: {'num_leaves': 153, 'learning_rate': 0.2768382290368472, 'feature_fraction': 0.6850011917537552, 'bagging_fraction': 0.6043719389273956, 'bagging_freq': 5, 'max_depth': 11, 'min_data_in_leaf': 35, 'lambda_l1': 0.000826105555025979, 'lambda_l2': 0.04906902877240447, 'min_gain_to_split': 2.0313951923825946}. Best is trial 21 with value: 0.4217382046818051.\n"
          ]
        },
        {
          "output_type": "stream",
          "name": "stdout",
          "text": [
            "Did not meet early stopping. Best iteration is:\n",
            "[8]\tvalid_0's multi_logloss: 0.850732\n",
            "Training until validation scores don't improve for 100 rounds\n"
          ]
        },
        {
          "output_type": "stream",
          "name": "stderr",
          "text": [
            "<ipython-input-34-3b55cde02c14>:15: FutureWarning: suggest_loguniform has been deprecated in v3.0.0. This feature will be removed in v6.0.0. See https://github.com/optuna/optuna/releases/tag/v3.0.0. Use suggest_float(..., log=True) instead.\n",
            "  'lambda_l1': trial.suggest_loguniform('lambda_l1', 1e-8, 10.0),\n",
            "<ipython-input-34-3b55cde02c14>:16: FutureWarning: suggest_loguniform has been deprecated in v3.0.0. This feature will be removed in v6.0.0. See https://github.com/optuna/optuna/releases/tag/v3.0.0. Use suggest_float(..., log=True) instead.\n",
            "  'lambda_l2': trial.suggest_loguniform('lambda_l2', 1e-8, 10.0),\n",
            "[I 2024-12-06 09:17:13,055] Trial 72 finished with value: 0.3914193507561855 and parameters: {'num_leaves': 125, 'learning_rate': 0.256714301906352, 'feature_fraction': 0.8419577485366262, 'bagging_fraction': 0.6628640184564885, 'bagging_freq': 5, 'max_depth': 3, 'min_data_in_leaf': 39, 'lambda_l1': 0.0003349574833148012, 'lambda_l2': 0.02563554100163144, 'min_gain_to_split': 1.076152325053626}. Best is trial 21 with value: 0.4217382046818051.\n"
          ]
        },
        {
          "output_type": "stream",
          "name": "stdout",
          "text": [
            "Did not meet early stopping. Best iteration is:\n",
            "[10]\tvalid_0's multi_logloss: 0.847042\n",
            "Training until validation scores don't improve for 100 rounds\n"
          ]
        },
        {
          "output_type": "stream",
          "name": "stderr",
          "text": [
            "<ipython-input-34-3b55cde02c14>:15: FutureWarning: suggest_loguniform has been deprecated in v3.0.0. This feature will be removed in v6.0.0. See https://github.com/optuna/optuna/releases/tag/v3.0.0. Use suggest_float(..., log=True) instead.\n",
            "  'lambda_l1': trial.suggest_loguniform('lambda_l1', 1e-8, 10.0),\n",
            "<ipython-input-34-3b55cde02c14>:16: FutureWarning: suggest_loguniform has been deprecated in v3.0.0. This feature will be removed in v6.0.0. See https://github.com/optuna/optuna/releases/tag/v3.0.0. Use suggest_float(..., log=True) instead.\n",
            "  'lambda_l2': trial.suggest_loguniform('lambda_l2', 1e-8, 10.0),\n",
            "[I 2024-12-06 09:17:13,327] Trial 73 finished with value: 0.35975026371954966 and parameters: {'num_leaves': 128, 'learning_rate': 0.2651402172436054, 'feature_fraction': 0.8542760599598849, 'bagging_fraction': 0.6681094075487393, 'bagging_freq': 6, 'max_depth': 3, 'min_data_in_leaf': 38, 'lambda_l1': 0.00027880654662069287, 'lambda_l2': 5.127886715275557e-05, 'min_gain_to_split': 1.1796225123893571}. Best is trial 21 with value: 0.4217382046818051.\n"
          ]
        },
        {
          "output_type": "stream",
          "name": "stdout",
          "text": [
            "Did not meet early stopping. Best iteration is:\n",
            "[10]\tvalid_0's multi_logloss: 0.851815\n",
            "Training until validation scores don't improve for 100 rounds\n",
            "Did not meet early stopping. Best iteration is:\n",
            "[16]\tvalid_0's multi_logloss: 0.846763\n"
          ]
        },
        {
          "output_type": "stream",
          "name": "stderr",
          "text": [
            "<ipython-input-34-3b55cde02c14>:15: FutureWarning: suggest_loguniform has been deprecated in v3.0.0. This feature will be removed in v6.0.0. See https://github.com/optuna/optuna/releases/tag/v3.0.0. Use suggest_float(..., log=True) instead.\n",
            "  'lambda_l1': trial.suggest_loguniform('lambda_l1', 1e-8, 10.0),\n",
            "<ipython-input-34-3b55cde02c14>:16: FutureWarning: suggest_loguniform has been deprecated in v3.0.0. This feature will be removed in v6.0.0. See https://github.com/optuna/optuna/releases/tag/v3.0.0. Use suggest_float(..., log=True) instead.\n",
            "  'lambda_l2': trial.suggest_loguniform('lambda_l2', 1e-8, 10.0),\n",
            "[I 2024-12-06 09:17:13,522] Trial 74 finished with value: 0.40281188605108054 and parameters: {'num_leaves': 136, 'learning_rate': 0.22354143807551774, 'feature_fraction': 0.8409019837824137, 'bagging_fraction': 0.6883983998882557, 'bagging_freq': 5, 'max_depth': 3, 'min_data_in_leaf': 45, 'lambda_l1': 0.0023235446214852147, 'lambda_l2': 0.028038399076711892, 'min_gain_to_split': 2.9857587697945394}. Best is trial 21 with value: 0.4217382046818051.\n",
            "<ipython-input-34-3b55cde02c14>:15: FutureWarning: suggest_loguniform has been deprecated in v3.0.0. This feature will be removed in v6.0.0. See https://github.com/optuna/optuna/releases/tag/v3.0.0. Use suggest_float(..., log=True) instead.\n",
            "  'lambda_l1': trial.suggest_loguniform('lambda_l1', 1e-8, 10.0),\n",
            "<ipython-input-34-3b55cde02c14>:16: FutureWarning: suggest_loguniform has been deprecated in v3.0.0. This feature will be removed in v6.0.0. See https://github.com/optuna/optuna/releases/tag/v3.0.0. Use suggest_float(..., log=True) instead.\n",
            "  'lambda_l2': trial.suggest_loguniform('lambda_l2', 1e-8, 10.0),\n",
            "[I 2024-12-06 09:17:13,736] Trial 75 finished with value: 0.37342419962945217 and parameters: {'num_leaves': 137, 'learning_rate': 0.2213081428725025, 'feature_fraction': 0.8007682123293317, 'bagging_fraction': 0.6796293097464744, 'bagging_freq': 4, 'max_depth': 3, 'min_data_in_leaf': 50, 'lambda_l1': 0.0059720103935150945, 'lambda_l2': 0.3781480147600978, 'min_gain_to_split': 2.9490152312863094}. Best is trial 21 with value: 0.4217382046818051.\n",
            "<ipython-input-34-3b55cde02c14>:15: FutureWarning: suggest_loguniform has been deprecated in v3.0.0. This feature will be removed in v6.0.0. See https://github.com/optuna/optuna/releases/tag/v3.0.0. Use suggest_float(..., log=True) instead.\n",
            "  'lambda_l1': trial.suggest_loguniform('lambda_l1', 1e-8, 10.0),\n"
          ]
        },
        {
          "output_type": "stream",
          "name": "stdout",
          "text": [
            "Training until validation scores don't improve for 100 rounds\n",
            "Did not meet early stopping. Best iteration is:\n",
            "[12]\tvalid_0's multi_logloss: 0.842569\n",
            "Training until validation scores don't improve for 100 rounds\n"
          ]
        },
        {
          "output_type": "stream",
          "name": "stderr",
          "text": [
            "<ipython-input-34-3b55cde02c14>:16: FutureWarning: suggest_loguniform has been deprecated in v3.0.0. This feature will be removed in v6.0.0. See https://github.com/optuna/optuna/releases/tag/v3.0.0. Use suggest_float(..., log=True) instead.\n",
            "  'lambda_l2': trial.suggest_loguniform('lambda_l2', 1e-8, 10.0),\n",
            "[I 2024-12-06 09:17:13,917] Trial 76 finished with value: 0.3633730659320856 and parameters: {'num_leaves': 183, 'learning_rate': 0.23937539467352684, 'feature_fraction': 0.9238653526986198, 'bagging_fraction': 0.4375188222072287, 'bagging_freq': 5, 'max_depth': 4, 'min_data_in_leaf': 60, 'lambda_l1': 0.0021351436773004782, 'lambda_l2': 2.014116912845232, 'min_gain_to_split': 4.315741195452166}. Best is trial 21 with value: 0.4217382046818051.\n",
            "<ipython-input-34-3b55cde02c14>:15: FutureWarning: suggest_loguniform has been deprecated in v3.0.0. This feature will be removed in v6.0.0. See https://github.com/optuna/optuna/releases/tag/v3.0.0. Use suggest_float(..., log=True) instead.\n",
            "  'lambda_l1': trial.suggest_loguniform('lambda_l1', 1e-8, 10.0),\n",
            "<ipython-input-34-3b55cde02c14>:16: FutureWarning: suggest_loguniform has been deprecated in v3.0.0. This feature will be removed in v6.0.0. See https://github.com/optuna/optuna/releases/tag/v3.0.0. Use suggest_float(..., log=True) instead.\n",
            "  'lambda_l2': trial.suggest_loguniform('lambda_l2', 1e-8, 10.0),\n"
          ]
        },
        {
          "output_type": "stream",
          "name": "stdout",
          "text": [
            "Did not meet early stopping. Best iteration is:\n",
            "[16]\tvalid_0's multi_logloss: 0.845993\n",
            "Training until validation scores don't improve for 100 rounds\n"
          ]
        },
        {
          "output_type": "stream",
          "name": "stderr",
          "text": [
            "[I 2024-12-06 09:17:14,121] Trial 77 finished with value: 0.3605179359041132 and parameters: {'num_leaves': 144, 'learning_rate': 0.22315266432469288, 'feature_fraction': 0.8884138483632907, 'bagging_fraction': 0.6368668495926849, 'bagging_freq': 6, 'max_depth': 5, 'min_data_in_leaf': 47, 'lambda_l1': 0.008465754609826471, 'lambda_l2': 1.0743227218346891, 'min_gain_to_split': 3.5362324346064553}. Best is trial 21 with value: 0.4217382046818051.\n"
          ]
        },
        {
          "output_type": "stream",
          "name": "stdout",
          "text": [
            "Did not meet early stopping. Best iteration is:\n",
            "[14]\tvalid_0's multi_logloss: 0.850657\n",
            "Training until validation scores don't improve for 100 rounds\n"
          ]
        },
        {
          "output_type": "stream",
          "name": "stderr",
          "text": [
            "<ipython-input-34-3b55cde02c14>:15: FutureWarning: suggest_loguniform has been deprecated in v3.0.0. This feature will be removed in v6.0.0. See https://github.com/optuna/optuna/releases/tag/v3.0.0. Use suggest_float(..., log=True) instead.\n",
            "  'lambda_l1': trial.suggest_loguniform('lambda_l1', 1e-8, 10.0),\n",
            "<ipython-input-34-3b55cde02c14>:16: FutureWarning: suggest_loguniform has been deprecated in v3.0.0. This feature will be removed in v6.0.0. See https://github.com/optuna/optuna/releases/tag/v3.0.0. Use suggest_float(..., log=True) instead.\n",
            "  'lambda_l2': trial.suggest_loguniform('lambda_l2', 1e-8, 10.0),\n",
            "[I 2024-12-06 09:17:14,331] Trial 78 finished with value: 0.278615025769236 and parameters: {'num_leaves': 161, 'learning_rate': 0.18353123032262902, 'feature_fraction': 0.775480736846534, 'bagging_fraction': 0.7557443973930584, 'bagging_freq': 5, 'max_depth': 4, 'min_data_in_leaf': 42, 'lambda_l1': 1.3393570778565515e-05, 'lambda_l2': 0.07948337526028222, 'min_gain_to_split': 7.7338748200658385}. Best is trial 21 with value: 0.4217382046818051.\n",
            "<ipython-input-34-3b55cde02c14>:15: FutureWarning: suggest_loguniform has been deprecated in v3.0.0. This feature will be removed in v6.0.0. See https://github.com/optuna/optuna/releases/tag/v3.0.0. Use suggest_float(..., log=True) instead.\n",
            "  'lambda_l1': trial.suggest_loguniform('lambda_l1', 1e-8, 10.0),\n",
            "<ipython-input-34-3b55cde02c14>:16: FutureWarning: suggest_loguniform has been deprecated in v3.0.0. This feature will be removed in v6.0.0. See https://github.com/optuna/optuna/releases/tag/v3.0.0. Use suggest_float(..., log=True) instead.\n",
            "  'lambda_l2': trial.suggest_loguniform('lambda_l2', 1e-8, 10.0),\n",
            "[I 2024-12-06 09:17:14,509] Trial 79 finished with value: 0.35292907984901856 and parameters: {'num_leaves': 102, 'learning_rate': 0.2884426041941832, 'feature_fraction': 0.7407106328605849, 'bagging_fraction': 0.584832327790538, 'bagging_freq': 4, 'max_depth': 8, 'min_data_in_leaf': 44, 'lambda_l1': 2.2074472215936713e-06, 'lambda_l2': 0.005366780565142632, 'min_gain_to_split': 5.267104242460579}. Best is trial 21 with value: 0.4217382046818051.\n"
          ]
        },
        {
          "output_type": "stream",
          "name": "stdout",
          "text": [
            "Did not meet early stopping. Best iteration is:\n",
            "[13]\tvalid_0's multi_logloss: 0.858082\n",
            "Training until validation scores don't improve for 100 rounds\n",
            "Did not meet early stopping. Best iteration is:\n",
            "[12]\tvalid_0's multi_logloss: 0.846462\n"
          ]
        },
        {
          "output_type": "stream",
          "name": "stderr",
          "text": [
            "<ipython-input-34-3b55cde02c14>:15: FutureWarning: suggest_loguniform has been deprecated in v3.0.0. This feature will be removed in v6.0.0. See https://github.com/optuna/optuna/releases/tag/v3.0.0. Use suggest_float(..., log=True) instead.\n",
            "  'lambda_l1': trial.suggest_loguniform('lambda_l1', 1e-8, 10.0),\n",
            "<ipython-input-34-3b55cde02c14>:16: FutureWarning: suggest_loguniform has been deprecated in v3.0.0. This feature will be removed in v6.0.0. See https://github.com/optuna/optuna/releases/tag/v3.0.0. Use suggest_float(..., log=True) instead.\n",
            "  'lambda_l2': trial.suggest_loguniform('lambda_l2', 1e-8, 10.0),\n",
            "[I 2024-12-06 09:17:14,752] Trial 80 finished with value: 0.3311997299455347 and parameters: {'num_leaves': 170, 'learning_rate': 0.16988053425804472, 'feature_fraction': 0.40262639027307423, 'bagging_fraction': 0.9871162144420513, 'bagging_freq': 4, 'max_depth': 3, 'min_data_in_leaf': 55, 'lambda_l1': 0.020540837199108257, 'lambda_l2': 0.012136037559851215, 'min_gain_to_split': 1.5822074494976603}. Best is trial 21 with value: 0.4217382046818051.\n"
          ]
        },
        {
          "output_type": "stream",
          "name": "stdout",
          "text": [
            "Training until validation scores don't improve for 100 rounds\n",
            "Did not meet early stopping. Best iteration is:\n",
            "[30]\tvalid_0's multi_logloss: 0.840329\n"
          ]
        },
        {
          "output_type": "stream",
          "name": "stderr",
          "text": [
            "<ipython-input-34-3b55cde02c14>:15: FutureWarning: suggest_loguniform has been deprecated in v3.0.0. This feature will be removed in v6.0.0. See https://github.com/optuna/optuna/releases/tag/v3.0.0. Use suggest_float(..., log=True) instead.\n",
            "  'lambda_l1': trial.suggest_loguniform('lambda_l1', 1e-8, 10.0),\n",
            "<ipython-input-34-3b55cde02c14>:16: FutureWarning: suggest_loguniform has been deprecated in v3.0.0. This feature will be removed in v6.0.0. See https://github.com/optuna/optuna/releases/tag/v3.0.0. Use suggest_float(..., log=True) instead.\n",
            "  'lambda_l2': trial.suggest_loguniform('lambda_l2', 1e-8, 10.0),\n",
            "[I 2024-12-06 09:17:14,954] Trial 81 finished with value: 0.422696767077108 and parameters: {'num_leaves': 120, 'learning_rate': 0.2531247006068644, 'feature_fraction': 0.8336887782351493, 'bagging_fraction': 0.6592303410535697, 'bagging_freq': 5, 'max_depth': 3, 'min_data_in_leaf': 40, 'lambda_l1': 0.00047498990968974344, 'lambda_l2': 0.031012277084805022, 'min_gain_to_split': 2.6082670201662994}. Best is trial 81 with value: 0.422696767077108.\n",
            "<ipython-input-34-3b55cde02c14>:15: FutureWarning: suggest_loguniform has been deprecated in v3.0.0. This feature will be removed in v6.0.0. See https://github.com/optuna/optuna/releases/tag/v3.0.0. Use suggest_float(..., log=True) instead.\n",
            "  'lambda_l1': trial.suggest_loguniform('lambda_l1', 1e-8, 10.0),\n"
          ]
        },
        {
          "output_type": "stream",
          "name": "stdout",
          "text": [
            "Training until validation scores don't improve for 100 rounds\n",
            "Did not meet early stopping. Best iteration is:\n",
            "[12]\tvalid_0's multi_logloss: 0.846938\n"
          ]
        },
        {
          "output_type": "stream",
          "name": "stderr",
          "text": [
            "<ipython-input-34-3b55cde02c14>:16: FutureWarning: suggest_loguniform has been deprecated in v3.0.0. This feature will be removed in v6.0.0. See https://github.com/optuna/optuna/releases/tag/v3.0.0. Use suggest_float(..., log=True) instead.\n",
            "  'lambda_l2': trial.suggest_loguniform('lambda_l2', 1e-8, 10.0),\n",
            "[I 2024-12-06 09:17:15,167] Trial 82 finished with value: 0.3969531877974406 and parameters: {'num_leaves': 116, 'learning_rate': 0.2087020502497335, 'feature_fraction': 0.8268036139075512, 'bagging_fraction': 0.6932550958869601, 'bagging_freq': 5, 'max_depth': 3, 'min_data_in_leaf': 33, 'lambda_l1': 0.0007994363187084074, 'lambda_l2': 0.15991993707997096, 'min_gain_to_split': 2.9055987681894724}. Best is trial 81 with value: 0.422696767077108.\n"
          ]
        },
        {
          "output_type": "stream",
          "name": "stdout",
          "text": [
            "Training until validation scores don't improve for 100 rounds\n",
            "Did not meet early stopping. Best iteration is:\n",
            "[14]\tvalid_0's multi_logloss: 0.843509\n"
          ]
        },
        {
          "output_type": "stream",
          "name": "stderr",
          "text": [
            "<ipython-input-34-3b55cde02c14>:15: FutureWarning: suggest_loguniform has been deprecated in v3.0.0. This feature will be removed in v6.0.0. See https://github.com/optuna/optuna/releases/tag/v3.0.0. Use suggest_float(..., log=True) instead.\n",
            "  'lambda_l1': trial.suggest_loguniform('lambda_l1', 1e-8, 10.0),\n",
            "<ipython-input-34-3b55cde02c14>:16: FutureWarning: suggest_loguniform has been deprecated in v3.0.0. This feature will be removed in v6.0.0. See https://github.com/optuna/optuna/releases/tag/v3.0.0. Use suggest_float(..., log=True) instead.\n",
            "  'lambda_l2': trial.suggest_loguniform('lambda_l2', 1e-8, 10.0),\n",
            "[I 2024-12-06 09:17:15,392] Trial 83 finished with value: 0.3657979909994713 and parameters: {'num_leaves': 115, 'learning_rate': 0.2122047307351259, 'feature_fraction': 0.8291531098349926, 'bagging_fraction': 0.7001710167768852, 'bagging_freq': 5, 'max_depth': 3, 'min_data_in_leaf': 29, 'lambda_l1': 0.0007379028380226675, 'lambda_l2': 0.13447515915888972, 'min_gain_to_split': 2.706782924606412}. Best is trial 81 with value: 0.422696767077108.\n"
          ]
        },
        {
          "output_type": "stream",
          "name": "stdout",
          "text": [
            "Training until validation scores don't improve for 100 rounds\n",
            "Did not meet early stopping. Best iteration is:\n",
            "[13]\tvalid_0's multi_logloss: 0.844484\n",
            "Training until validation scores don't improve for 100 rounds\n"
          ]
        },
        {
          "output_type": "stream",
          "name": "stderr",
          "text": [
            "<ipython-input-34-3b55cde02c14>:15: FutureWarning: suggest_loguniform has been deprecated in v3.0.0. This feature will be removed in v6.0.0. See https://github.com/optuna/optuna/releases/tag/v3.0.0. Use suggest_float(..., log=True) instead.\n",
            "  'lambda_l1': trial.suggest_loguniform('lambda_l1', 1e-8, 10.0),\n",
            "<ipython-input-34-3b55cde02c14>:16: FutureWarning: suggest_loguniform has been deprecated in v3.0.0. This feature will be removed in v6.0.0. See https://github.com/optuna/optuna/releases/tag/v3.0.0. Use suggest_float(..., log=True) instead.\n",
            "  'lambda_l2': trial.suggest_loguniform('lambda_l2', 1e-8, 10.0),\n",
            "[I 2024-12-06 09:17:15,624] Trial 84 finished with value: 0.3802891230186404 and parameters: {'num_leaves': 120, 'learning_rate': 0.19400115274721572, 'feature_fraction': 0.8667677412179571, 'bagging_fraction': 0.7187088881427968, 'bagging_freq': 1, 'max_depth': 3, 'min_data_in_leaf': 33, 'lambda_l1': 0.0026121608804336, 'lambda_l2': 0.27285036641218535, 'min_gain_to_split': 3.200330402232077}. Best is trial 81 with value: 0.422696767077108.\n"
          ]
        },
        {
          "output_type": "stream",
          "name": "stdout",
          "text": [
            "Did not meet early stopping. Best iteration is:\n",
            "[18]\tvalid_0's multi_logloss: 0.837623\n",
            "Training until validation scores don't improve for 100 rounds\n"
          ]
        },
        {
          "output_type": "stream",
          "name": "stderr",
          "text": [
            "<ipython-input-34-3b55cde02c14>:15: FutureWarning: suggest_loguniform has been deprecated in v3.0.0. This feature will be removed in v6.0.0. See https://github.com/optuna/optuna/releases/tag/v3.0.0. Use suggest_float(..., log=True) instead.\n",
            "  'lambda_l1': trial.suggest_loguniform('lambda_l1', 1e-8, 10.0),\n",
            "<ipython-input-34-3b55cde02c14>:16: FutureWarning: suggest_loguniform has been deprecated in v3.0.0. This feature will be removed in v6.0.0. See https://github.com/optuna/optuna/releases/tag/v3.0.0. Use suggest_float(..., log=True) instead.\n",
            "  'lambda_l2': trial.suggest_loguniform('lambda_l2', 1e-8, 10.0),\n",
            "[I 2024-12-06 09:17:15,833] Trial 85 finished with value: 0.38651186485449585 and parameters: {'num_leaves': 93, 'learning_rate': 0.23793424757240653, 'feature_fraction': 0.811327752728888, 'bagging_fraction': 0.6878485868778024, 'bagging_freq': 7, 'max_depth': 3, 'min_data_in_leaf': 22, 'lambda_l1': 0.0012036497255720404, 'lambda_l2': 0.03234012751867573, 'min_gain_to_split': 2.449687362595907}. Best is trial 81 with value: 0.422696767077108.\n",
            "<ipython-input-34-3b55cde02c14>:15: FutureWarning: suggest_loguniform has been deprecated in v3.0.0. This feature will be removed in v6.0.0. See https://github.com/optuna/optuna/releases/tag/v3.0.0. Use suggest_float(..., log=True) instead.\n",
            "  'lambda_l1': trial.suggest_loguniform('lambda_l1', 1e-8, 10.0),\n",
            "<ipython-input-34-3b55cde02c14>:16: FutureWarning: suggest_loguniform has been deprecated in v3.0.0. This feature will be removed in v6.0.0. See https://github.com/optuna/optuna/releases/tag/v3.0.0. Use suggest_float(..., log=True) instead.\n",
            "  'lambda_l2': trial.suggest_loguniform('lambda_l2', 1e-8, 10.0),\n",
            "[I 2024-12-06 09:17:16,017] Trial 86 finished with value: 0.35440730283465294 and parameters: {'num_leaves': 149, 'learning_rate': 0.20787515422760316, 'feature_fraction': 0.8121963889050606, 'bagging_fraction': 0.6258238930644247, 'bagging_freq': 6, 'max_depth': 4, 'min_data_in_leaf': 27, 'lambda_l1': 4.6557285982683174e-05, 'lambda_l2': 0.06494319766147501, 'min_gain_to_split': 8.314856005901383}. Best is trial 81 with value: 0.422696767077108.\n"
          ]
        },
        {
          "output_type": "stream",
          "name": "stdout",
          "text": [
            "Did not meet early stopping. Best iteration is:\n",
            "[16]\tvalid_0's multi_logloss: 0.852232\n",
            "Training until validation scores don't improve for 100 rounds\n",
            "Did not meet early stopping. Best iteration is:\n",
            "[11]\tvalid_0's multi_logloss: 0.867104\n"
          ]
        },
        {
          "output_type": "stream",
          "name": "stderr",
          "text": [
            "<ipython-input-34-3b55cde02c14>:15: FutureWarning: suggest_loguniform has been deprecated in v3.0.0. This feature will be removed in v6.0.0. See https://github.com/optuna/optuna/releases/tag/v3.0.0. Use suggest_float(..., log=True) instead.\n",
            "  'lambda_l1': trial.suggest_loguniform('lambda_l1', 1e-8, 10.0),\n",
            "<ipython-input-34-3b55cde02c14>:16: FutureWarning: suggest_loguniform has been deprecated in v3.0.0. This feature will be removed in v6.0.0. See https://github.com/optuna/optuna/releases/tag/v3.0.0. Use suggest_float(..., log=True) instead.\n",
            "  'lambda_l2': trial.suggest_loguniform('lambda_l2', 1e-8, 10.0),\n",
            "[I 2024-12-06 09:17:16,233] Trial 87 finished with value: 0.3355973744076448 and parameters: {'num_leaves': 87, 'learning_rate': 0.14752893041541415, 'feature_fraction': 0.8463097088463681, 'bagging_fraction': 0.7431431408911574, 'bagging_freq': 5, 'max_depth': 3, 'min_data_in_leaf': 36, 'lambda_l1': 0.00010979213842296314, 'lambda_l2': 0.7623166535260611, 'min_gain_to_split': 3.6975828847510375}. Best is trial 81 with value: 0.422696767077108.\n"
          ]
        },
        {
          "output_type": "stream",
          "name": "stdout",
          "text": [
            "Training until validation scores don't improve for 100 rounds\n",
            "Did not meet early stopping. Best iteration is:\n",
            "[34]\tvalid_0's multi_logloss: 0.849682\n"
          ]
        },
        {
          "output_type": "stream",
          "name": "stderr",
          "text": [
            "<ipython-input-34-3b55cde02c14>:15: FutureWarning: suggest_loguniform has been deprecated in v3.0.0. This feature will be removed in v6.0.0. See https://github.com/optuna/optuna/releases/tag/v3.0.0. Use suggest_float(..., log=True) instead.\n",
            "  'lambda_l1': trial.suggest_loguniform('lambda_l1', 1e-8, 10.0),\n",
            "<ipython-input-34-3b55cde02c14>:16: FutureWarning: suggest_loguniform has been deprecated in v3.0.0. This feature will be removed in v6.0.0. See https://github.com/optuna/optuna/releases/tag/v3.0.0. Use suggest_float(..., log=True) instead.\n",
            "  'lambda_l2': trial.suggest_loguniform('lambda_l2', 1e-8, 10.0),\n",
            "[I 2024-12-06 09:17:16,423] Trial 88 finished with value: 0.3532694214876033 and parameters: {'num_leaves': 197, 'learning_rate': 0.2229450908240359, 'feature_fraction': 0.792988105741995, 'bagging_fraction': 0.5369072533824717, 'bagging_freq': 5, 'max_depth': 4, 'min_data_in_leaf': 30, 'lambda_l1': 5.5772739558919134e-06, 'lambda_l2': 0.16921285816266082, 'min_gain_to_split': 4.900806755224929}. Best is trial 81 with value: 0.422696767077108.\n",
            "<ipython-input-34-3b55cde02c14>:15: FutureWarning: suggest_loguniform has been deprecated in v3.0.0. This feature will be removed in v6.0.0. See https://github.com/optuna/optuna/releases/tag/v3.0.0. Use suggest_float(..., log=True) instead.\n",
            "  'lambda_l1': trial.suggest_loguniform('lambda_l1', 1e-8, 10.0),\n",
            "<ipython-input-34-3b55cde02c14>:16: FutureWarning: suggest_loguniform has been deprecated in v3.0.0. This feature will be removed in v6.0.0. See https://github.com/optuna/optuna/releases/tag/v3.0.0. Use suggest_float(..., log=True) instead.\n",
            "  'lambda_l2': trial.suggest_loguniform('lambda_l2', 1e-8, 10.0),\n"
          ]
        },
        {
          "output_type": "stream",
          "name": "stdout",
          "text": [
            "Training until validation scores don't improve for 100 rounds\n",
            "Did not meet early stopping. Best iteration is:\n",
            "[11]\tvalid_0's multi_logloss: 0.846102\n",
            "Training until validation scores don't improve for 100 rounds\n"
          ]
        },
        {
          "output_type": "stream",
          "name": "stderr",
          "text": [
            "[I 2024-12-06 09:17:16,666] Trial 89 finished with value: 0.3819931694251679 and parameters: {'num_leaves': 186, 'learning_rate': 0.2486213215377571, 'feature_fraction': 0.7617232995161622, 'bagging_fraction': 0.9368637267454969, 'bagging_freq': 4, 'max_depth': 4, 'min_data_in_leaf': 34, 'lambda_l1': 2.7149967809931555e-05, 'lambda_l2': 0.37355271581458044, 'min_gain_to_split': 4.273932967010963}. Best is trial 81 with value: 0.422696767077108.\n",
            "<ipython-input-34-3b55cde02c14>:15: FutureWarning: suggest_loguniform has been deprecated in v3.0.0. This feature will be removed in v6.0.0. See https://github.com/optuna/optuna/releases/tag/v3.0.0. Use suggest_float(..., log=True) instead.\n",
            "  'lambda_l1': trial.suggest_loguniform('lambda_l1', 1e-8, 10.0),\n",
            "<ipython-input-34-3b55cde02c14>:16: FutureWarning: suggest_loguniform has been deprecated in v3.0.0. This feature will be removed in v6.0.0. See https://github.com/optuna/optuna/releases/tag/v3.0.0. Use suggest_float(..., log=True) instead.\n",
            "  'lambda_l2': trial.suggest_loguniform('lambda_l2', 1e-8, 10.0),\n",
            "[I 2024-12-06 09:17:16,853] Trial 90 finished with value: 0.36540142747165283 and parameters: {'num_leaves': 224, 'learning_rate': 0.253925177774519, 'feature_fraction': 0.7492422142295156, 'bagging_fraction': 0.5568255413017726, 'bagging_freq': 6, 'max_depth': 3, 'min_data_in_leaf': 40, 'lambda_l1': 0.0005485507954101987, 'lambda_l2': 3.7194856599090405, 'min_gain_to_split': 2.9434031007187063}. Best is trial 81 with value: 0.422696767077108.\n"
          ]
        },
        {
          "output_type": "stream",
          "name": "stdout",
          "text": [
            "Did not meet early stopping. Best iteration is:\n",
            "[14]\tvalid_0's multi_logloss: 0.844268\n",
            "Training until validation scores don't improve for 100 rounds\n",
            "Did not meet early stopping. Best iteration is:\n",
            "[13]\tvalid_0's multi_logloss: 0.847889\n"
          ]
        },
        {
          "output_type": "stream",
          "name": "stderr",
          "text": [
            "<ipython-input-34-3b55cde02c14>:15: FutureWarning: suggest_loguniform has been deprecated in v3.0.0. This feature will be removed in v6.0.0. See https://github.com/optuna/optuna/releases/tag/v3.0.0. Use suggest_float(..., log=True) instead.\n",
            "  'lambda_l1': trial.suggest_loguniform('lambda_l1', 1e-8, 10.0),\n",
            "<ipython-input-34-3b55cde02c14>:16: FutureWarning: suggest_loguniform has been deprecated in v3.0.0. This feature will be removed in v6.0.0. See https://github.com/optuna/optuna/releases/tag/v3.0.0. Use suggest_float(..., log=True) instead.\n",
            "  'lambda_l2': trial.suggest_loguniform('lambda_l2', 1e-8, 10.0),\n",
            "[I 2024-12-06 09:17:17,069] Trial 91 finished with value: 0.4047382713737241 and parameters: {'num_leaves': 134, 'learning_rate': 0.2632905770166858, 'feature_fraction': 0.8293866736725185, 'bagging_fraction': 0.6560673870326007, 'bagging_freq': 5, 'max_depth': 11, 'min_data_in_leaf': 42, 'lambda_l1': 0.00018063605369994065, 'lambda_l2': 0.031884490834142486, 'min_gain_to_split': 1.9906044581174989}. Best is trial 81 with value: 0.422696767077108.\n"
          ]
        },
        {
          "output_type": "stream",
          "name": "stdout",
          "text": [
            "Training until validation scores don't improve for 100 rounds\n",
            "Did not meet early stopping. Best iteration is:\n",
            "[7]\tvalid_0's multi_logloss: 0.857572\n"
          ]
        },
        {
          "output_type": "stream",
          "name": "stderr",
          "text": [
            "<ipython-input-34-3b55cde02c14>:15: FutureWarning: suggest_loguniform has been deprecated in v3.0.0. This feature will be removed in v6.0.0. See https://github.com/optuna/optuna/releases/tag/v3.0.0. Use suggest_float(..., log=True) instead.\n",
            "  'lambda_l1': trial.suggest_loguniform('lambda_l1', 1e-8, 10.0),\n",
            "<ipython-input-34-3b55cde02c14>:16: FutureWarning: suggest_loguniform has been deprecated in v3.0.0. This feature will be removed in v6.0.0. See https://github.com/optuna/optuna/releases/tag/v3.0.0. Use suggest_float(..., log=True) instead.\n",
            "  'lambda_l2': trial.suggest_loguniform('lambda_l2', 1e-8, 10.0),\n",
            "[I 2024-12-06 09:17:17,309] Trial 92 finished with value: 0.35548612968320725 and parameters: {'num_leaves': 176, 'learning_rate': 0.2802420836227965, 'feature_fraction': 0.8389633760297597, 'bagging_fraction': 0.6453865664729633, 'bagging_freq': 5, 'max_depth': 11, 'min_data_in_leaf': 32, 'lambda_l1': 0.00016051472104579168, 'lambda_l2': 0.04529536251016596, 'min_gain_to_split': 1.593311276605199}. Best is trial 81 with value: 0.422696767077108.\n"
          ]
        },
        {
          "output_type": "stream",
          "name": "stdout",
          "text": [
            "Training until validation scores don't improve for 100 rounds\n",
            "Did not meet early stopping. Best iteration is:\n",
            "[6]\tvalid_0's multi_logloss: 0.862184\n"
          ]
        },
        {
          "output_type": "stream",
          "name": "stderr",
          "text": [
            "<ipython-input-34-3b55cde02c14>:15: FutureWarning: suggest_loguniform has been deprecated in v3.0.0. This feature will be removed in v6.0.0. See https://github.com/optuna/optuna/releases/tag/v3.0.0. Use suggest_float(..., log=True) instead.\n",
            "  'lambda_l1': trial.suggest_loguniform('lambda_l1', 1e-8, 10.0),\n",
            "<ipython-input-34-3b55cde02c14>:16: FutureWarning: suggest_loguniform has been deprecated in v3.0.0. This feature will be removed in v6.0.0. See https://github.com/optuna/optuna/releases/tag/v3.0.0. Use suggest_float(..., log=True) instead.\n",
            "  'lambda_l2': trial.suggest_loguniform('lambda_l2', 1e-8, 10.0),\n",
            "[I 2024-12-06 09:17:17,544] Trial 93 finished with value: 0.3545941370236102 and parameters: {'num_leaves': 131, 'learning_rate': 0.26093061798714706, 'feature_fraction': 0.827164767133355, 'bagging_fraction': 0.6904868015637662, 'bagging_freq': 4, 'max_depth': 10, 'min_data_in_leaf': 37, 'lambda_l1': 6.057826295755046e-05, 'lambda_l2': 0.025605978844112143, 'min_gain_to_split': 2.03334945259518}. Best is trial 81 with value: 0.422696767077108.\n"
          ]
        },
        {
          "output_type": "stream",
          "name": "stdout",
          "text": [
            "Training until validation scores don't improve for 100 rounds\n",
            "Did not meet early stopping. Best iteration is:\n",
            "[12]\tvalid_0's multi_logloss: 0.864265\n"
          ]
        },
        {
          "output_type": "stream",
          "name": "stderr",
          "text": [
            "<ipython-input-34-3b55cde02c14>:15: FutureWarning: suggest_loguniform has been deprecated in v3.0.0. This feature will be removed in v6.0.0. See https://github.com/optuna/optuna/releases/tag/v3.0.0. Use suggest_float(..., log=True) instead.\n",
            "  'lambda_l1': trial.suggest_loguniform('lambda_l1', 1e-8, 10.0),\n",
            "<ipython-input-34-3b55cde02c14>:16: FutureWarning: suggest_loguniform has been deprecated in v3.0.0. This feature will be removed in v6.0.0. See https://github.com/optuna/optuna/releases/tag/v3.0.0. Use suggest_float(..., log=True) instead.\n",
            "  'lambda_l2': trial.suggest_loguniform('lambda_l2', 1e-8, 10.0),\n",
            "[I 2024-12-06 09:17:17,767] Trial 94 finished with value: 0.36606221787586246 and parameters: {'num_leaves': 104, 'learning_rate': 0.1671838503564555, 'feature_fraction': 0.784130540669858, 'bagging_fraction': 0.4803639814653323, 'bagging_freq': 5, 'max_depth': 12, 'min_data_in_leaf': 41, 'lambda_l1': 0.000497919209630076, 'lambda_l2': 0.008009580853036321, 'min_gain_to_split': 2.3962734025296903}. Best is trial 81 with value: 0.422696767077108.\n"
          ]
        },
        {
          "output_type": "stream",
          "name": "stdout",
          "text": [
            "Training until validation scores don't improve for 100 rounds\n",
            "Did not meet early stopping. Best iteration is:\n",
            "[31]\tvalid_0's multi_logloss: 0.845392\n"
          ]
        },
        {
          "output_type": "stream",
          "name": "stderr",
          "text": [
            "<ipython-input-34-3b55cde02c14>:15: FutureWarning: suggest_loguniform has been deprecated in v3.0.0. This feature will be removed in v6.0.0. See https://github.com/optuna/optuna/releases/tag/v3.0.0. Use suggest_float(..., log=True) instead.\n",
            "  'lambda_l1': trial.suggest_loguniform('lambda_l1', 1e-8, 10.0),\n",
            "<ipython-input-34-3b55cde02c14>:16: FutureWarning: suggest_loguniform has been deprecated in v3.0.0. This feature will be removed in v6.0.0. See https://github.com/optuna/optuna/releases/tag/v3.0.0. Use suggest_float(..., log=True) instead.\n",
            "  'lambda_l2': trial.suggest_loguniform('lambda_l2', 1e-8, 10.0),\n",
            "[I 2024-12-06 09:17:17,965] Trial 95 finished with value: 0.38470444540573556 and parameters: {'num_leaves': 205, 'learning_rate': 0.29231144561156536, 'feature_fraction': 0.6704510109017214, 'bagging_fraction': 0.6561195048150709, 'bagging_freq': 5, 'max_depth': 11, 'min_data_in_leaf': 45, 'lambda_l1': 1.6597768614837098e-06, 'lambda_l2': 0.10102963985446485, 'min_gain_to_split': 3.355447865719176}. Best is trial 81 with value: 0.422696767077108.\n",
            "<ipython-input-34-3b55cde02c14>:15: FutureWarning: suggest_loguniform has been deprecated in v3.0.0. This feature will be removed in v6.0.0. See https://github.com/optuna/optuna/releases/tag/v3.0.0. Use suggest_float(..., log=True) instead.\n",
            "  'lambda_l1': trial.suggest_loguniform('lambda_l1', 1e-8, 10.0),\n"
          ]
        },
        {
          "output_type": "stream",
          "name": "stdout",
          "text": [
            "Training until validation scores don't improve for 100 rounds\n",
            "Did not meet early stopping. Best iteration is:\n",
            "[7]\tvalid_0's multi_logloss: 0.854322\n",
            "Training until validation scores don't improve for 100 rounds\n"
          ]
        },
        {
          "output_type": "stream",
          "name": "stderr",
          "text": [
            "<ipython-input-34-3b55cde02c14>:16: FutureWarning: suggest_loguniform has been deprecated in v3.0.0. This feature will be removed in v6.0.0. See https://github.com/optuna/optuna/releases/tag/v3.0.0. Use suggest_float(..., log=True) instead.\n",
            "  'lambda_l2': trial.suggest_loguniform('lambda_l2', 1e-8, 10.0),\n",
            "[I 2024-12-06 09:17:18,228] Trial 96 finished with value: 0.29012373252333956 and parameters: {'num_leaves': 144, 'learning_rate': 0.22686593527523344, 'feature_fraction': 0.7020607344747238, 'bagging_fraction': 0.6777698924536744, 'bagging_freq': 4, 'max_depth': 11, 'min_data_in_leaf': 35, 'lambda_l1': 8.836308285329656e-06, 'lambda_l2': 0.26885501837968767, 'min_gain_to_split': 1.4620846796053055}. Best is trial 81 with value: 0.422696767077108.\n"
          ]
        },
        {
          "output_type": "stream",
          "name": "stdout",
          "text": [
            "Did not meet early stopping. Best iteration is:\n",
            "[8]\tvalid_0's multi_logloss: 0.867231\n",
            "Training until validation scores don't improve for 100 rounds\n"
          ]
        },
        {
          "output_type": "stream",
          "name": "stderr",
          "text": [
            "<ipython-input-34-3b55cde02c14>:15: FutureWarning: suggest_loguniform has been deprecated in v3.0.0. This feature will be removed in v6.0.0. See https://github.com/optuna/optuna/releases/tag/v3.0.0. Use suggest_float(..., log=True) instead.\n",
            "  'lambda_l1': trial.suggest_loguniform('lambda_l1', 1e-8, 10.0),\n",
            "<ipython-input-34-3b55cde02c14>:16: FutureWarning: suggest_loguniform has been deprecated in v3.0.0. This feature will be removed in v6.0.0. See https://github.com/optuna/optuna/releases/tag/v3.0.0. Use suggest_float(..., log=True) instead.\n",
            "  'lambda_l2': trial.suggest_loguniform('lambda_l2', 1e-8, 10.0),\n",
            "[I 2024-12-06 09:17:18,529] Trial 97 finished with value: 0.3244884523921485 and parameters: {'num_leaves': 156, 'learning_rate': 0.019727895712622207, 'feature_fraction': 0.7259023900038125, 'bagging_fraction': 0.6166369375934091, 'bagging_freq': 5, 'max_depth': 12, 'min_data_in_leaf': 28, 'lambda_l1': 0.0011173893848651693, 'lambda_l2': 0.06306126829583521, 'min_gain_to_split': 3.823957657665066}. Best is trial 81 with value: 0.422696767077108.\n"
          ]
        },
        {
          "output_type": "stream",
          "name": "stdout",
          "text": [
            "Did not meet early stopping. Best iteration is:\n",
            "[100]\tvalid_0's multi_logloss: 0.848173\n",
            "Training until validation scores don't improve for 100 rounds\n"
          ]
        },
        {
          "output_type": "stream",
          "name": "stderr",
          "text": [
            "<ipython-input-34-3b55cde02c14>:15: FutureWarning: suggest_loguniform has been deprecated in v3.0.0. This feature will be removed in v6.0.0. See https://github.com/optuna/optuna/releases/tag/v3.0.0. Use suggest_float(..., log=True) instead.\n",
            "  'lambda_l1': trial.suggest_loguniform('lambda_l1', 1e-8, 10.0),\n",
            "<ipython-input-34-3b55cde02c14>:16: FutureWarning: suggest_loguniform has been deprecated in v3.0.0. This feature will be removed in v6.0.0. See https://github.com/optuna/optuna/releases/tag/v3.0.0. Use suggest_float(..., log=True) instead.\n",
            "  'lambda_l2': trial.suggest_loguniform('lambda_l2', 1e-8, 10.0),\n",
            "[I 2024-12-06 09:17:18,905] Trial 98 finished with value: 0.2899079792936967 and parameters: {'num_leaves': 121, 'learning_rate': 0.24469593634575654, 'feature_fraction': 0.8731459235534471, 'bagging_fraction': 0.6354494133675985, 'bagging_freq': 4, 'max_depth': 10, 'min_data_in_leaf': 43, 'lambda_l1': 8.430379333073736e-05, 'lambda_l2': 0.19671110216915988, 'min_gain_to_split': 0.6897236284663628}. Best is trial 81 with value: 0.422696767077108.\n"
          ]
        },
        {
          "output_type": "stream",
          "name": "stdout",
          "text": [
            "Did not meet early stopping. Best iteration is:\n",
            "[5]\tvalid_0's multi_logloss: 0.864271\n",
            "Training until validation scores don't improve for 100 rounds\n"
          ]
        },
        {
          "output_type": "stream",
          "name": "stderr",
          "text": [
            "<ipython-input-34-3b55cde02c14>:15: FutureWarning: suggest_loguniform has been deprecated in v3.0.0. This feature will be removed in v6.0.0. See https://github.com/optuna/optuna/releases/tag/v3.0.0. Use suggest_float(..., log=True) instead.\n",
            "  'lambda_l1': trial.suggest_loguniform('lambda_l1', 1e-8, 10.0),\n",
            "<ipython-input-34-3b55cde02c14>:16: FutureWarning: suggest_loguniform has been deprecated in v3.0.0. This feature will be removed in v6.0.0. See https://github.com/optuna/optuna/releases/tag/v3.0.0. Use suggest_float(..., log=True) instead.\n",
            "  'lambda_l2': trial.suggest_loguniform('lambda_l2', 1e-8, 10.0),\n",
            "[I 2024-12-06 09:17:19,124] Trial 99 finished with value: 0.3279643336148228 and parameters: {'num_leaves': 111, 'learning_rate': 0.20576153827584215, 'feature_fraction': 0.8079439830533398, 'bagging_fraction': 0.7791088160415174, 'bagging_freq': 3, 'max_depth': 3, 'min_data_in_leaf': 37, 'lambda_l1': 0.004825411604451251, 'lambda_l2': 0.01904696184148921, 'min_gain_to_split': 2.766849925952434}. Best is trial 81 with value: 0.422696767077108.\n"
          ]
        },
        {
          "output_type": "stream",
          "name": "stdout",
          "text": [
            "Did not meet early stopping. Best iteration is:\n",
            "[20]\tvalid_0's multi_logloss: 0.848118\n",
            "Number of finished trials:  100\n",
            "Best trial:\n",
            "  Value:  0.422696767077108\n",
            "  Params: \n",
            "    num_leaves: 120\n",
            "    learning_rate: 0.2531247006068644\n",
            "    feature_fraction: 0.8336887782351493\n",
            "    bagging_fraction: 0.6592303410535697\n",
            "    bagging_freq: 5\n",
            "    max_depth: 3\n",
            "    min_data_in_leaf: 40\n",
            "    lambda_l1: 0.00047498990968974344\n",
            "    lambda_l2: 0.031012277084805022\n",
            "    min_gain_to_split: 2.6082670201662994\n"
          ]
        }
      ],
      "execution_count": 34
    },
    {
      "cell_type": "code",
      "source": [
        "# Iniciar la optimización con Optuna\n",
        "study = optuna.create_study(direction=\"maximize\")\n",
        "study.optimize(objective, n_trials=50)"
      ],
      "metadata": {
        "trusted": true,
        "execution": {
          "iopub.status.busy": "2024-12-06T08:29:05.551858Z",
          "iopub.execute_input": "2024-12-06T08:29:05.55225Z",
          "iopub.status.idle": "2024-12-06T08:29:05.819084Z",
          "shell.execute_reply.started": "2024-12-06T08:29:05.552216Z",
          "shell.execute_reply": "2024-12-06T08:29:05.816879Z"
        },
        "colab": {
          "base_uri": "https://localhost:8080/"
        },
        "id": "49K8bBMYHDNo",
        "outputId": "a73927d3-adcc-4913-b33a-c4a4250ae9ae"
      },
      "outputs": [
        {
          "output_type": "stream",
          "name": "stderr",
          "text": [
            "[I 2024-12-06 09:17:51,585] A new study created in memory with name: no-name-b6868638-7019-438a-b665-167a0c349a0d\n",
            "<ipython-input-34-3b55cde02c14>:15: FutureWarning: suggest_loguniform has been deprecated in v3.0.0. This feature will be removed in v6.0.0. See https://github.com/optuna/optuna/releases/tag/v3.0.0. Use suggest_float(..., log=True) instead.\n",
            "  'lambda_l1': trial.suggest_loguniform('lambda_l1', 1e-8, 10.0),\n",
            "<ipython-input-34-3b55cde02c14>:16: FutureWarning: suggest_loguniform has been deprecated in v3.0.0. This feature will be removed in v6.0.0. See https://github.com/optuna/optuna/releases/tag/v3.0.0. Use suggest_float(..., log=True) instead.\n",
            "  'lambda_l2': trial.suggest_loguniform('lambda_l2', 1e-8, 10.0),\n",
            "[I 2024-12-06 09:17:51,716] Trial 0 finished with value: 0.32964670126299733 and parameters: {'num_leaves': 244, 'learning_rate': 0.23577116475239202, 'feature_fraction': 0.8856596990008889, 'bagging_fraction': 0.5059656447486958, 'bagging_freq': 7, 'max_depth': 9, 'min_data_in_leaf': 22, 'lambda_l1': 5.117572908103308e-06, 'lambda_l2': 0.009831175455185946, 'min_gain_to_split': 7.0779815025640955}. Best is trial 0 with value: 0.32964670126299733.\n",
            "<ipython-input-34-3b55cde02c14>:15: FutureWarning: suggest_loguniform has been deprecated in v3.0.0. This feature will be removed in v6.0.0. See https://github.com/optuna/optuna/releases/tag/v3.0.0. Use suggest_float(..., log=True) instead.\n",
            "  'lambda_l1': trial.suggest_loguniform('lambda_l1', 1e-8, 10.0),\n",
            "<ipython-input-34-3b55cde02c14>:16: FutureWarning: suggest_loguniform has been deprecated in v3.0.0. This feature will be removed in v6.0.0. See https://github.com/optuna/optuna/releases/tag/v3.0.0. Use suggest_float(..., log=True) instead.\n",
            "  'lambda_l2': trial.suggest_loguniform('lambda_l2', 1e-8, 10.0),\n"
          ]
        },
        {
          "output_type": "stream",
          "name": "stdout",
          "text": [
            "Training until validation scores don't improve for 100 rounds\n",
            "Did not meet early stopping. Best iteration is:\n",
            "[9]\tvalid_0's multi_logloss: 0.866911\n",
            "Training until validation scores don't improve for 100 rounds\n"
          ]
        },
        {
          "output_type": "stream",
          "name": "stderr",
          "text": [
            "[I 2024-12-06 09:17:51,900] Trial 1 finished with value: 0.13656713174251311 and parameters: {'num_leaves': 152, 'learning_rate': 0.09261917667968607, 'feature_fraction': 0.876636106351097, 'bagging_fraction': 0.9946665231576955, 'bagging_freq': 3, 'max_depth': 7, 'min_data_in_leaf': 26, 'lambda_l1': 1.2527475890226022e-07, 'lambda_l2': 2.62226570715011e-06, 'min_gain_to_split': 11.638656544612076}. Best is trial 0 with value: 0.32964670126299733.\n",
            "<ipython-input-34-3b55cde02c14>:15: FutureWarning: suggest_loguniform has been deprecated in v3.0.0. This feature will be removed in v6.0.0. See https://github.com/optuna/optuna/releases/tag/v3.0.0. Use suggest_float(..., log=True) instead.\n",
            "  'lambda_l1': trial.suggest_loguniform('lambda_l1', 1e-8, 10.0),\n",
            "<ipython-input-34-3b55cde02c14>:16: FutureWarning: suggest_loguniform has been deprecated in v3.0.0. This feature will be removed in v6.0.0. See https://github.com/optuna/optuna/releases/tag/v3.0.0. Use suggest_float(..., log=True) instead.\n",
            "  'lambda_l2': trial.suggest_loguniform('lambda_l2', 1e-8, 10.0),\n"
          ]
        },
        {
          "output_type": "stream",
          "name": "stdout",
          "text": [
            "Did not meet early stopping. Best iteration is:\n",
            "[37]\tvalid_0's multi_logloss: 0.870877\n",
            "Training until validation scores don't improve for 100 rounds\n"
          ]
        },
        {
          "output_type": "stream",
          "name": "stderr",
          "text": [
            "[I 2024-12-06 09:17:52,109] Trial 2 finished with value: 0.3566713496660957 and parameters: {'num_leaves': 231, 'learning_rate': 0.21908375241424105, 'feature_fraction': 0.5658099240054382, 'bagging_fraction': 0.6087160286293575, 'bagging_freq': 1, 'max_depth': 7, 'min_data_in_leaf': 63, 'lambda_l1': 2.1205985944906677e-07, 'lambda_l2': 1.4208267480511495e-07, 'min_gain_to_split': 1.8243612526681119}. Best is trial 2 with value: 0.3566713496660957.\n",
            "<ipython-input-34-3b55cde02c14>:15: FutureWarning: suggest_loguniform has been deprecated in v3.0.0. This feature will be removed in v6.0.0. See https://github.com/optuna/optuna/releases/tag/v3.0.0. Use suggest_float(..., log=True) instead.\n",
            "  'lambda_l1': trial.suggest_loguniform('lambda_l1', 1e-8, 10.0),\n",
            "<ipython-input-34-3b55cde02c14>:16: FutureWarning: suggest_loguniform has been deprecated in v3.0.0. This feature will be removed in v6.0.0. See https://github.com/optuna/optuna/releases/tag/v3.0.0. Use suggest_float(..., log=True) instead.\n",
            "  'lambda_l2': trial.suggest_loguniform('lambda_l2', 1e-8, 10.0),\n",
            "[I 2024-12-06 09:17:52,249] Trial 3 finished with value: 0.18351468601095222 and parameters: {'num_leaves': 229, 'learning_rate': 0.13619738685554764, 'feature_fraction': 0.980482200750823, 'bagging_fraction': 0.6354476435764415, 'bagging_freq': 6, 'max_depth': 8, 'min_data_in_leaf': 71, 'lambda_l1': 0.013829358009515173, 'lambda_l2': 0.039795861059380225, 'min_gain_to_split': 12.6425937488417}. Best is trial 2 with value: 0.3566713496660957.\n"
          ]
        },
        {
          "output_type": "stream",
          "name": "stdout",
          "text": [
            "Did not meet early stopping. Best iteration is:\n",
            "[14]\tvalid_0's multi_logloss: 0.842806\n",
            "Training until validation scores don't improve for 100 rounds\n",
            "Did not meet early stopping. Best iteration is:\n",
            "[16]\tvalid_0's multi_logloss: 0.878575\n",
            "Training until validation scores don't improve for 100 rounds\n"
          ]
        },
        {
          "output_type": "stream",
          "name": "stderr",
          "text": [
            "<ipython-input-34-3b55cde02c14>:15: FutureWarning: suggest_loguniform has been deprecated in v3.0.0. This feature will be removed in v6.0.0. See https://github.com/optuna/optuna/releases/tag/v3.0.0. Use suggest_float(..., log=True) instead.\n",
            "  'lambda_l1': trial.suggest_loguniform('lambda_l1', 1e-8, 10.0),\n",
            "<ipython-input-34-3b55cde02c14>:16: FutureWarning: suggest_loguniform has been deprecated in v3.0.0. This feature will be removed in v6.0.0. See https://github.com/optuna/optuna/releases/tag/v3.0.0. Use suggest_float(..., log=True) instead.\n",
            "  'lambda_l2': trial.suggest_loguniform('lambda_l2', 1e-8, 10.0),\n",
            "[I 2024-12-06 09:17:52,371] Trial 4 finished with value: 0.07356678296076147 and parameters: {'num_leaves': 152, 'learning_rate': 0.18355745859091346, 'feature_fraction': 0.6082783548661541, 'bagging_fraction': 0.5192517175010434, 'bagging_freq': 2, 'max_depth': 9, 'min_data_in_leaf': 61, 'lambda_l1': 3.2402259491137615, 'lambda_l2': 7.643027877249252e-05, 'min_gain_to_split': 13.052293214876856}. Best is trial 2 with value: 0.3566713496660957.\n",
            "<ipython-input-34-3b55cde02c14>:15: FutureWarning: suggest_loguniform has been deprecated in v3.0.0. This feature will be removed in v6.0.0. See https://github.com/optuna/optuna/releases/tag/v3.0.0. Use suggest_float(..., log=True) instead.\n",
            "  'lambda_l1': trial.suggest_loguniform('lambda_l1', 1e-8, 10.0),\n",
            "<ipython-input-34-3b55cde02c14>:16: FutureWarning: suggest_loguniform has been deprecated in v3.0.0. This feature will be removed in v6.0.0. See https://github.com/optuna/optuna/releases/tag/v3.0.0. Use suggest_float(..., log=True) instead.\n",
            "  'lambda_l2': trial.suggest_loguniform('lambda_l2', 1e-8, 10.0),\n",
            "[I 2024-12-06 09:17:52,525] Trial 5 finished with value: 0.2583681092596376 and parameters: {'num_leaves': 191, 'learning_rate': 0.23228175785080246, 'feature_fraction': 0.701856836250111, 'bagging_fraction': 0.9472029190948474, 'bagging_freq': 2, 'max_depth': 4, 'min_data_in_leaf': 45, 'lambda_l1': 0.0007626611867853426, 'lambda_l2': 1.3330545039451385, 'min_gain_to_split': 8.584110685412945}. Best is trial 2 with value: 0.3566713496660957.\n"
          ]
        },
        {
          "output_type": "stream",
          "name": "stdout",
          "text": [
            "Did not meet early stopping. Best iteration is:\n",
            "[13]\tvalid_0's multi_logloss: 0.893653\n",
            "Training until validation scores don't improve for 100 rounds\n",
            "Did not meet early stopping. Best iteration is:\n",
            "[11]\tvalid_0's multi_logloss: 0.858354\n"
          ]
        },
        {
          "output_type": "stream",
          "name": "stderr",
          "text": [
            "<ipython-input-34-3b55cde02c14>:15: FutureWarning: suggest_loguniform has been deprecated in v3.0.0. This feature will be removed in v6.0.0. See https://github.com/optuna/optuna/releases/tag/v3.0.0. Use suggest_float(..., log=True) instead.\n",
            "  'lambda_l1': trial.suggest_loguniform('lambda_l1', 1e-8, 10.0),\n",
            "<ipython-input-34-3b55cde02c14>:16: FutureWarning: suggest_loguniform has been deprecated in v3.0.0. This feature will be removed in v6.0.0. See https://github.com/optuna/optuna/releases/tag/v3.0.0. Use suggest_float(..., log=True) instead.\n",
            "  'lambda_l2': trial.suggest_loguniform('lambda_l2', 1e-8, 10.0),\n"
          ]
        },
        {
          "output_type": "stream",
          "name": "stdout",
          "text": [
            "Training until validation scores don't improve for 100 rounds\n",
            "Did not meet early stopping. Best iteration is:\n",
            "[100]\tvalid_0's multi_logloss: 0.912936\n"
          ]
        },
        {
          "output_type": "stream",
          "name": "stderr",
          "text": [
            "[I 2024-12-06 09:17:52,783] Trial 6 finished with value: 0.0 and parameters: {'num_leaves': 54, 'learning_rate': 0.005190725181261642, 'feature_fraction': 0.4984468705246915, 'bagging_fraction': 0.7928037466951685, 'bagging_freq': 3, 'max_depth': 5, 'min_data_in_leaf': 37, 'lambda_l1': 1.2093091335783899e-06, 'lambda_l2': 3.823697226104931e-08, 'min_gain_to_split': 5.547038996689991}. Best is trial 2 with value: 0.3566713496660957.\n",
            "<ipython-input-34-3b55cde02c14>:15: FutureWarning: suggest_loguniform has been deprecated in v3.0.0. This feature will be removed in v6.0.0. See https://github.com/optuna/optuna/releases/tag/v3.0.0. Use suggest_float(..., log=True) instead.\n",
            "  'lambda_l1': trial.suggest_loguniform('lambda_l1', 1e-8, 10.0),\n",
            "<ipython-input-34-3b55cde02c14>:16: FutureWarning: suggest_loguniform has been deprecated in v3.0.0. This feature will be removed in v6.0.0. See https://github.com/optuna/optuna/releases/tag/v3.0.0. Use suggest_float(..., log=True) instead.\n",
            "  'lambda_l2': trial.suggest_loguniform('lambda_l2', 1e-8, 10.0),\n",
            "[I 2024-12-06 09:17:52,914] Trial 7 finished with value: 0.35928497658376257 and parameters: {'num_leaves': 81, 'learning_rate': 0.20686030926311685, 'feature_fraction': 0.8555931437091782, 'bagging_fraction': 0.4894738008281778, 'bagging_freq': 2, 'max_depth': 12, 'min_data_in_leaf': 80, 'lambda_l1': 1.219839858201968e-06, 'lambda_l2': 0.0017267871669866708, 'min_gain_to_split': 6.24731015667867}. Best is trial 7 with value: 0.35928497658376257.\n",
            "<ipython-input-34-3b55cde02c14>:15: FutureWarning: suggest_loguniform has been deprecated in v3.0.0. This feature will be removed in v6.0.0. See https://github.com/optuna/optuna/releases/tag/v3.0.0. Use suggest_float(..., log=True) instead.\n",
            "  'lambda_l1': trial.suggest_loguniform('lambda_l1', 1e-8, 10.0),\n",
            "<ipython-input-34-3b55cde02c14>:16: FutureWarning: suggest_loguniform has been deprecated in v3.0.0. This feature will be removed in v6.0.0. See https://github.com/optuna/optuna/releases/tag/v3.0.0. Use suggest_float(..., log=True) instead.\n",
            "  'lambda_l2': trial.suggest_loguniform('lambda_l2', 1e-8, 10.0),\n"
          ]
        },
        {
          "output_type": "stream",
          "name": "stdout",
          "text": [
            "Training until validation scores don't improve for 100 rounds\n",
            "Did not meet early stopping. Best iteration is:\n",
            "[13]\tvalid_0's multi_logloss: 0.854254\n",
            "Training until validation scores don't improve for 100 rounds\n"
          ]
        },
        {
          "output_type": "stream",
          "name": "stderr",
          "text": [
            "[I 2024-12-06 09:17:53,073] Trial 8 finished with value: 0.05093485309451384 and parameters: {'num_leaves': 293, 'learning_rate': 0.055646392980300524, 'feature_fraction': 0.8862435347074912, 'bagging_fraction': 0.5783924649262295, 'bagging_freq': 3, 'max_depth': 11, 'min_data_in_leaf': 36, 'lambda_l1': 4.868868125333494e-05, 'lambda_l2': 1.352043733681178e-06, 'min_gain_to_split': 13.121786027000502}. Best is trial 7 with value: 0.35928497658376257.\n",
            "<ipython-input-34-3b55cde02c14>:15: FutureWarning: suggest_loguniform has been deprecated in v3.0.0. This feature will be removed in v6.0.0. See https://github.com/optuna/optuna/releases/tag/v3.0.0. Use suggest_float(..., log=True) instead.\n",
            "  'lambda_l1': trial.suggest_loguniform('lambda_l1', 1e-8, 10.0),\n",
            "<ipython-input-34-3b55cde02c14>:16: FutureWarning: suggest_loguniform has been deprecated in v3.0.0. This feature will be removed in v6.0.0. See https://github.com/optuna/optuna/releases/tag/v3.0.0. Use suggest_float(..., log=True) instead.\n",
            "  'lambda_l2': trial.suggest_loguniform('lambda_l2', 1e-8, 10.0),\n",
            "[I 2024-12-06 09:17:53,232] Trial 9 finished with value: 0.29080848025484696 and parameters: {'num_leaves': 72, 'learning_rate': 0.025426785539099318, 'feature_fraction': 0.9390274373859863, 'bagging_fraction': 0.4303473123892886, 'bagging_freq': 4, 'max_depth': 4, 'min_data_in_leaf': 86, 'lambda_l1': 0.00035296969903367026, 'lambda_l2': 0.00030151138588200774, 'min_gain_to_split': 7.58042248753893}. Best is trial 7 with value: 0.35928497658376257.\n"
          ]
        },
        {
          "output_type": "stream",
          "name": "stdout",
          "text": [
            "Did not meet early stopping. Best iteration is:\n",
            "[31]\tvalid_0's multi_logloss: 0.887765\n",
            "Training until validation scores don't improve for 100 rounds\n",
            "Did not meet early stopping. Best iteration is:\n",
            "[100]\tvalid_0's multi_logloss: 0.862282\n"
          ]
        },
        {
          "output_type": "stream",
          "name": "stderr",
          "text": [
            "<ipython-input-34-3b55cde02c14>:15: FutureWarning: suggest_loguniform has been deprecated in v3.0.0. This feature will be removed in v6.0.0. See https://github.com/optuna/optuna/releases/tag/v3.0.0. Use suggest_float(..., log=True) instead.\n",
            "  'lambda_l1': trial.suggest_loguniform('lambda_l1', 1e-8, 10.0),\n",
            "<ipython-input-34-3b55cde02c14>:16: FutureWarning: suggest_loguniform has been deprecated in v3.0.0. This feature will be removed in v6.0.0. See https://github.com/optuna/optuna/releases/tag/v3.0.0. Use suggest_float(..., log=True) instead.\n",
            "  'lambda_l2': trial.suggest_loguniform('lambda_l2', 1e-8, 10.0),\n"
          ]
        },
        {
          "output_type": "stream",
          "name": "stdout",
          "text": [
            "Training until validation scores don't improve for 100 rounds\n"
          ]
        },
        {
          "output_type": "stream",
          "name": "stderr",
          "text": [
            "[I 2024-12-06 09:17:53,563] Trial 10 finished with value: 0.3450104311543811 and parameters: {'num_leaves': 103, 'learning_rate': 0.2741164388374142, 'feature_fraction': 0.783892468594837, 'bagging_fraction': 0.7833783375114829, 'bagging_freq': 5, 'max_depth': 12, 'min_data_in_leaf': 100, 'lambda_l1': 1.0047173475145171e-08, 'lambda_l2': 0.040289921063501266, 'min_gain_to_split': 0.6592557685202349}. Best is trial 7 with value: 0.35928497658376257.\n"
          ]
        },
        {
          "output_type": "stream",
          "name": "stdout",
          "text": [
            "Did not meet early stopping. Best iteration is:\n",
            "[9]\tvalid_0's multi_logloss: 0.857431\n",
            "Training until validation scores don't improve for 100 rounds\n"
          ]
        },
        {
          "output_type": "stream",
          "name": "stderr",
          "text": [
            "<ipython-input-34-3b55cde02c14>:15: FutureWarning: suggest_loguniform has been deprecated in v3.0.0. This feature will be removed in v6.0.0. See https://github.com/optuna/optuna/releases/tag/v3.0.0. Use suggest_float(..., log=True) instead.\n",
            "  'lambda_l1': trial.suggest_loguniform('lambda_l1', 1e-8, 10.0),\n",
            "<ipython-input-34-3b55cde02c14>:16: FutureWarning: suggest_loguniform has been deprecated in v3.0.0. This feature will be removed in v6.0.0. See https://github.com/optuna/optuna/releases/tag/v3.0.0. Use suggest_float(..., log=True) instead.\n",
            "  'lambda_l2': trial.suggest_loguniform('lambda_l2', 1e-8, 10.0),\n",
            "[I 2024-12-06 09:17:53,768] Trial 11 finished with value: 0.32548838437170013 and parameters: {'num_leaves': 22, 'learning_rate': 0.17935842477973335, 'feature_fraction': 0.400954419866011, 'bagging_fraction': 0.4174801935783573, 'bagging_freq': 1, 'max_depth': 7, 'min_data_in_leaf': 74, 'lambda_l1': 1.9206146465392498e-07, 'lambda_l2': 2.119696701970437e-08, 'min_gain_to_split': 2.0874146929555133}. Best is trial 7 with value: 0.35928497658376257.\n",
            "<ipython-input-34-3b55cde02c14>:15: FutureWarning: suggest_loguniform has been deprecated in v3.0.0. This feature will be removed in v6.0.0. See https://github.com/optuna/optuna/releases/tag/v3.0.0. Use suggest_float(..., log=True) instead.\n",
            "  'lambda_l1': trial.suggest_loguniform('lambda_l1', 1e-8, 10.0),\n",
            "<ipython-input-34-3b55cde02c14>:16: FutureWarning: suggest_loguniform has been deprecated in v3.0.0. This feature will be removed in v6.0.0. See https://github.com/optuna/optuna/releases/tag/v3.0.0. Use suggest_float(..., log=True) instead.\n",
            "  'lambda_l2': trial.suggest_loguniform('lambda_l2', 1e-8, 10.0),\n"
          ]
        },
        {
          "output_type": "stream",
          "name": "stdout",
          "text": [
            "Did not meet early stopping. Best iteration is:\n",
            "[14]\tvalid_0's multi_logloss: 0.854404\n",
            "Training until validation scores don't improve for 100 rounds\n"
          ]
        },
        {
          "output_type": "stream",
          "name": "stderr",
          "text": [
            "[I 2024-12-06 09:17:53,983] Trial 12 finished with value: 0.3758105261818252 and parameters: {'num_leaves': 112, 'learning_rate': 0.28863045152492306, 'feature_fraction': 0.638277637244345, 'bagging_fraction': 0.6848261996717472, 'bagging_freq': 1, 'max_depth': 10, 'min_data_in_leaf': 56, 'lambda_l1': 1.2097921593529148e-08, 'lambda_l2': 1.1104883025094032e-05, 'min_gain_to_split': 3.699017217481912}. Best is trial 12 with value: 0.3758105261818252.\n"
          ]
        },
        {
          "output_type": "stream",
          "name": "stdout",
          "text": [
            "Did not meet early stopping. Best iteration is:\n",
            "[15]\tvalid_0's multi_logloss: 0.846349\n",
            "Training until validation scores don't improve for 100 rounds\n",
            "Did not meet early stopping. Best iteration is:\n",
            "[88]\tvalid_0's multi_logloss: 0.841557\n"
          ]
        },
        {
          "output_type": "stream",
          "name": "stderr",
          "text": [
            "<ipython-input-34-3b55cde02c14>:15: FutureWarning: suggest_loguniform has been deprecated in v3.0.0. This feature will be removed in v6.0.0. See https://github.com/optuna/optuna/releases/tag/v3.0.0. Use suggest_float(..., log=True) instead.\n",
            "  'lambda_l1': trial.suggest_loguniform('lambda_l1', 1e-8, 10.0),\n",
            "<ipython-input-34-3b55cde02c14>:16: FutureWarning: suggest_loguniform has been deprecated in v3.0.0. This feature will be removed in v6.0.0. See https://github.com/optuna/optuna/releases/tag/v3.0.0. Use suggest_float(..., log=True) instead.\n",
            "  'lambda_l2': trial.suggest_loguniform('lambda_l2', 1e-8, 10.0),\n",
            "[I 2024-12-06 09:17:54,184] Trial 13 finished with value: 0.29754104227533296 and parameters: {'num_leaves': 105, 'learning_rate': 0.29005763624180214, 'feature_fraction': 0.7607181669357284, 'bagging_fraction': 0.7452148576462428, 'bagging_freq': 1, 'max_depth': 11, 'min_data_in_leaf': 51, 'lambda_l1': 1.8044054341551342e-08, 'lambda_l2': 1.8990943747619085e-05, 'min_gain_to_split': 4.482905403583178}. Best is trial 12 with value: 0.3758105261818252.\n",
            "<ipython-input-34-3b55cde02c14>:15: FutureWarning: suggest_loguniform has been deprecated in v3.0.0. This feature will be removed in v6.0.0. See https://github.com/optuna/optuna/releases/tag/v3.0.0. Use suggest_float(..., log=True) instead.\n",
            "  'lambda_l1': trial.suggest_loguniform('lambda_l1', 1e-8, 10.0),\n",
            "<ipython-input-34-3b55cde02c14>:16: FutureWarning: suggest_loguniform has been deprecated in v3.0.0. This feature will be removed in v6.0.0. See https://github.com/optuna/optuna/releases/tag/v3.0.0. Use suggest_float(..., log=True) instead.\n",
            "  'lambda_l2': trial.suggest_loguniform('lambda_l2', 1e-8, 10.0),\n",
            "[I 2024-12-06 09:17:54,381] Trial 14 finished with value: 0.402812523690395 and parameters: {'num_leaves': 110, 'learning_rate': 0.2629699060160898, 'feature_fraction': 0.6363002884399283, 'bagging_fraction': 0.8750680266572854, 'bagging_freq': 2, 'max_depth': 12, 'min_data_in_leaf': 86, 'lambda_l1': 1.3937030453810049e-05, 'lambda_l2': 0.009669340124337183, 'min_gain_to_split': 3.982375696466263}. Best is trial 14 with value: 0.402812523690395.\n",
            "<ipython-input-34-3b55cde02c14>:15: FutureWarning: suggest_loguniform has been deprecated in v3.0.0. This feature will be removed in v6.0.0. See https://github.com/optuna/optuna/releases/tag/v3.0.0. Use suggest_float(..., log=True) instead.\n",
            "  'lambda_l1': trial.suggest_loguniform('lambda_l1', 1e-8, 10.0),\n",
            "<ipython-input-34-3b55cde02c14>:16: FutureWarning: suggest_loguniform has been deprecated in v3.0.0. This feature will be removed in v6.0.0. See https://github.com/optuna/optuna/releases/tag/v3.0.0. Use suggest_float(..., log=True) instead.\n",
            "  'lambda_l2': trial.suggest_loguniform('lambda_l2', 1e-8, 10.0),\n"
          ]
        },
        {
          "output_type": "stream",
          "name": "stdout",
          "text": [
            "Training until validation scores don't improve for 100 rounds\n",
            "Did not meet early stopping. Best iteration is:\n",
            "[24]\tvalid_0's multi_logloss: 0.837919\n",
            "Training until validation scores don't improve for 100 rounds\n"
          ]
        },
        {
          "output_type": "stream",
          "name": "stderr",
          "text": [
            "[I 2024-12-06 09:17:54,588] Trial 15 finished with value: 0.3487892376681615 and parameters: {'num_leaves': 128, 'learning_rate': 0.29745197083436214, 'feature_fraction': 0.6245630276336623, 'bagging_fraction': 0.8487032088767913, 'bagging_freq': 2, 'max_depth': 10, 'min_data_in_leaf': 95, 'lambda_l1': 0.011899282399089108, 'lambda_l2': 1.9832031525653482, 'min_gain_to_split': 3.5281982153186364}. Best is trial 14 with value: 0.402812523690395.\n",
            "<ipython-input-34-3b55cde02c14>:15: FutureWarning: suggest_loguniform has been deprecated in v3.0.0. This feature will be removed in v6.0.0. See https://github.com/optuna/optuna/releases/tag/v3.0.0. Use suggest_float(..., log=True) instead.\n",
            "  'lambda_l1': trial.suggest_loguniform('lambda_l1', 1e-8, 10.0),\n",
            "<ipython-input-34-3b55cde02c14>:16: FutureWarning: suggest_loguniform has been deprecated in v3.0.0. This feature will be removed in v6.0.0. See https://github.com/optuna/optuna/releases/tag/v3.0.0. Use suggest_float(..., log=True) instead.\n",
            "  'lambda_l2': trial.suggest_loguniform('lambda_l2', 1e-8, 10.0),\n",
            "[I 2024-12-06 09:17:54,769] Trial 16 finished with value: 0.2756036041185844 and parameters: {'num_leaves': 184, 'learning_rate': 0.25910456137931553, 'feature_fraction': 0.6825535830148245, 'bagging_fraction': 0.6778985289812752, 'bagging_freq': 4, 'max_depth': 10, 'min_data_in_leaf': 53, 'lambda_l1': 4.434415261106296e-05, 'lambda_l2': 0.002304886688761925, 'min_gain_to_split': 9.036428372740152}. Best is trial 14 with value: 0.402812523690395.\n"
          ]
        },
        {
          "output_type": "stream",
          "name": "stdout",
          "text": [
            "Did not meet early stopping. Best iteration is:\n",
            "[15]\tvalid_0's multi_logloss: 0.848477\n",
            "Training until validation scores don't improve for 100 rounds\n",
            "Did not meet early stopping. Best iteration is:\n",
            "[9]\tvalid_0's multi_logloss: 0.867485\n"
          ]
        },
        {
          "output_type": "stream",
          "name": "stderr",
          "text": [
            "<ipython-input-34-3b55cde02c14>:15: FutureWarning: suggest_loguniform has been deprecated in v3.0.0. This feature will be removed in v6.0.0. See https://github.com/optuna/optuna/releases/tag/v3.0.0. Use suggest_float(..., log=True) instead.\n",
            "  'lambda_l1': trial.suggest_loguniform('lambda_l1', 1e-8, 10.0),\n",
            "<ipython-input-34-3b55cde02c14>:16: FutureWarning: suggest_loguniform has been deprecated in v3.0.0. This feature will be removed in v6.0.0. See https://github.com/optuna/optuna/releases/tag/v3.0.0. Use suggest_float(..., log=True) instead.\n",
            "  'lambda_l2': trial.suggest_loguniform('lambda_l2', 1e-8, 10.0),\n",
            "[I 2024-12-06 09:17:54,978] Trial 17 finished with value: 0.3615575303719718 and parameters: {'num_leaves': 31, 'learning_rate': 0.1355156314806026, 'feature_fraction': 0.49194007632290937, 'bagging_fraction': 0.8860046837415245, 'bagging_freq': 1, 'max_depth': 12, 'min_data_in_leaf': 89, 'lambda_l1': 0.7117364133738622, 'lambda_l2': 6.740098919832127e-06, 'min_gain_to_split': 3.332045413288227}. Best is trial 14 with value: 0.402812523690395.\n"
          ]
        },
        {
          "output_type": "stream",
          "name": "stdout",
          "text": [
            "Training until validation scores don't improve for 100 rounds\n",
            "Did not meet early stopping. Best iteration is:\n",
            "[92]\tvalid_0's multi_logloss: 0.835182\n"
          ]
        },
        {
          "output_type": "stream",
          "name": "stderr",
          "text": [
            "<ipython-input-34-3b55cde02c14>:15: FutureWarning: suggest_loguniform has been deprecated in v3.0.0. This feature will be removed in v6.0.0. See https://github.com/optuna/optuna/releases/tag/v3.0.0. Use suggest_float(..., log=True) instead.\n",
            "  'lambda_l1': trial.suggest_loguniform('lambda_l1', 1e-8, 10.0),\n",
            "<ipython-input-34-3b55cde02c14>:16: FutureWarning: suggest_loguniform has been deprecated in v3.0.0. This feature will be removed in v6.0.0. See https://github.com/optuna/optuna/releases/tag/v3.0.0. Use suggest_float(..., log=True) instead.\n",
            "  'lambda_l2': trial.suggest_loguniform('lambda_l2', 1e-8, 10.0),\n"
          ]
        },
        {
          "output_type": "stream",
          "name": "stdout",
          "text": [
            "Training until validation scores don't improve for 100 rounds\n"
          ]
        },
        {
          "output_type": "stream",
          "name": "stderr",
          "text": [
            "[I 2024-12-06 09:17:55,346] Trial 18 finished with value: 0.3062068875503319 and parameters: {'num_leaves': 120, 'learning_rate': 0.25280297828346865, 'feature_fraction': 0.6840496900789472, 'bagging_fraction': 0.7143081684639345, 'bagging_freq': 4, 'max_depth': 10, 'min_data_in_leaf': 71, 'lambda_l1': 0.0064588426770349145, 'lambda_l2': 0.3130074749434941, 'min_gain_to_split': 0.4777846447938696}. Best is trial 14 with value: 0.402812523690395.\n"
          ]
        },
        {
          "output_type": "stream",
          "name": "stdout",
          "text": [
            "Did not meet early stopping. Best iteration is:\n",
            "[9]\tvalid_0's multi_logloss: 0.863906\n",
            "Training until validation scores don't improve for 100 rounds\n",
            "Did not meet early stopping. Best iteration is:\n",
            "[25]\tvalid_0's multi_logloss: 0.858763\n"
          ]
        },
        {
          "output_type": "stream",
          "name": "stderr",
          "text": [
            "<ipython-input-34-3b55cde02c14>:15: FutureWarning: suggest_loguniform has been deprecated in v3.0.0. This feature will be removed in v6.0.0. See https://github.com/optuna/optuna/releases/tag/v3.0.0. Use suggest_float(..., log=True) instead.\n",
            "  'lambda_l1': trial.suggest_loguniform('lambda_l1', 1e-8, 10.0),\n",
            "<ipython-input-34-3b55cde02c14>:16: FutureWarning: suggest_loguniform has been deprecated in v3.0.0. This feature will be removed in v6.0.0. See https://github.com/optuna/optuna/releases/tag/v3.0.0. Use suggest_float(..., log=True) instead.\n",
            "  'lambda_l2': trial.suggest_loguniform('lambda_l2', 1e-8, 10.0),\n",
            "[I 2024-12-06 09:17:55,539] Trial 19 finished with value: 0.26310476901591495 and parameters: {'num_leaves': 174, 'learning_rate': 0.17023178750348378, 'feature_fraction': 0.539491982828988, 'bagging_fraction': 0.8597985599968141, 'bagging_freq': 2, 'max_depth': 11, 'min_data_in_leaf': 63, 'lambda_l1': 1.8265996308117284e-05, 'lambda_l2': 0.00010874258067521966, 'min_gain_to_split': 9.905476028162376}. Best is trial 14 with value: 0.402812523690395.\n",
            "<ipython-input-34-3b55cde02c14>:15: FutureWarning: suggest_loguniform has been deprecated in v3.0.0. This feature will be removed in v6.0.0. See https://github.com/optuna/optuna/releases/tag/v3.0.0. Use suggest_float(..., log=True) instead.\n",
            "  'lambda_l1': trial.suggest_loguniform('lambda_l1', 1e-8, 10.0),\n",
            "<ipython-input-34-3b55cde02c14>:16: FutureWarning: suggest_loguniform has been deprecated in v3.0.0. This feature will be removed in v6.0.0. See https://github.com/optuna/optuna/releases/tag/v3.0.0. Use suggest_float(..., log=True) instead.\n",
            "  'lambda_l2': trial.suggest_loguniform('lambda_l2', 1e-8, 10.0),\n",
            "[I 2024-12-06 09:17:55,812] Trial 20 finished with value: 0.3516507485376251 and parameters: {'num_leaves': 83, 'learning_rate': 0.10023268110739078, 'feature_fraction': 0.7918337952541964, 'bagging_fraction': 0.9118955990891568, 'bagging_freq': 3, 'max_depth': 9, 'min_data_in_leaf': 81, 'lambda_l1': 2.8737619218329414e-06, 'lambda_l2': 4.413983213909282e-07, 'min_gain_to_split': 4.850018616475664}. Best is trial 14 with value: 0.402812523690395.\n"
          ]
        },
        {
          "output_type": "stream",
          "name": "stdout",
          "text": [
            "Training until validation scores don't improve for 100 rounds\n",
            "Did not meet early stopping. Best iteration is:\n",
            "[27]\tvalid_0's multi_logloss: 0.85056\n"
          ]
        },
        {
          "output_type": "stream",
          "name": "stderr",
          "text": [
            "<ipython-input-34-3b55cde02c14>:15: FutureWarning: suggest_loguniform has been deprecated in v3.0.0. This feature will be removed in v6.0.0. See https://github.com/optuna/optuna/releases/tag/v3.0.0. Use suggest_float(..., log=True) instead.\n",
            "  'lambda_l1': trial.suggest_loguniform('lambda_l1', 1e-8, 10.0),\n",
            "<ipython-input-34-3b55cde02c14>:16: FutureWarning: suggest_loguniform has been deprecated in v3.0.0. This feature will be removed in v6.0.0. See https://github.com/optuna/optuna/releases/tag/v3.0.0. Use suggest_float(..., log=True) instead.\n",
            "  'lambda_l2': trial.suggest_loguniform('lambda_l2', 1e-8, 10.0),\n",
            "[I 2024-12-06 09:17:56,120] Trial 21 finished with value: 0.2941488827336788 and parameters: {'num_leaves': 26, 'learning_rate': 0.12796785016791343, 'feature_fraction': 0.4545386599626459, 'bagging_fraction': 0.859550893928929, 'bagging_freq': 1, 'max_depth': 12, 'min_data_in_leaf': 90, 'lambda_l1': 8.955610679161893, 'lambda_l2': 8.694031968346336e-06, 'min_gain_to_split': 3.1206572726911634}. Best is trial 14 with value: 0.402812523690395.\n"
          ]
        },
        {
          "output_type": "stream",
          "name": "stdout",
          "text": [
            "Training until validation scores don't improve for 100 rounds\n",
            "Did not meet early stopping. Best iteration is:\n",
            "[88]\tvalid_0's multi_logloss: 0.86303\n"
          ]
        },
        {
          "output_type": "stream",
          "name": "stderr",
          "text": [
            "<ipython-input-34-3b55cde02c14>:15: FutureWarning: suggest_loguniform has been deprecated in v3.0.0. This feature will be removed in v6.0.0. See https://github.com/optuna/optuna/releases/tag/v3.0.0. Use suggest_float(..., log=True) instead.\n",
            "  'lambda_l1': trial.suggest_loguniform('lambda_l1', 1e-8, 10.0),\n",
            "<ipython-input-34-3b55cde02c14>:16: FutureWarning: suggest_loguniform has been deprecated in v3.0.0. This feature will be removed in v6.0.0. See https://github.com/optuna/optuna/releases/tag/v3.0.0. Use suggest_float(..., log=True) instead.\n",
            "  'lambda_l2': trial.suggest_loguniform('lambda_l2', 1e-8, 10.0),\n"
          ]
        },
        {
          "output_type": "stream",
          "name": "stdout",
          "text": [
            "Training until validation scores don't improve for 100 rounds\n",
            "Did not meet early stopping. Best iteration is:\n",
            "[72]\tvalid_0's multi_logloss: 0.843944\n"
          ]
        },
        {
          "output_type": "stream",
          "name": "stderr",
          "text": [
            "[I 2024-12-06 09:17:56,451] Trial 22 finished with value: 0.3638868051423989 and parameters: {'num_leaves': 50, 'learning_rate': 0.09603815602433487, 'feature_fraction': 0.6036758900435528, 'bagging_fraction': 0.9172127195711266, 'bagging_freq': 1, 'max_depth': 12, 'min_data_in_leaf': 85, 'lambda_l1': 0.4229891536890776, 'lambda_l2': 2.1154280209103243e-05, 'min_gain_to_split': 3.386757854231562}. Best is trial 14 with value: 0.402812523690395.\n",
            "<ipython-input-34-3b55cde02c14>:15: FutureWarning: suggest_loguniform has been deprecated in v3.0.0. This feature will be removed in v6.0.0. See https://github.com/optuna/optuna/releases/tag/v3.0.0. Use suggest_float(..., log=True) instead.\n",
            "  'lambda_l1': trial.suggest_loguniform('lambda_l1', 1e-8, 10.0),\n",
            "<ipython-input-34-3b55cde02c14>:16: FutureWarning: suggest_loguniform has been deprecated in v3.0.0. This feature will be removed in v6.0.0. See https://github.com/optuna/optuna/releases/tag/v3.0.0. Use suggest_float(..., log=True) instead.\n",
            "  'lambda_l2': trial.suggest_loguniform('lambda_l2', 1e-8, 10.0),\n"
          ]
        },
        {
          "output_type": "stream",
          "name": "stdout",
          "text": [
            "Training until validation scores don't improve for 100 rounds\n"
          ]
        },
        {
          "output_type": "stream",
          "name": "stderr",
          "text": [
            "[I 2024-12-06 09:17:56,823] Trial 23 finished with value: 0.336373987271375 and parameters: {'num_leaves': 55, 'learning_rate': 0.08736372536525083, 'feature_fraction': 0.6171991003305466, 'bagging_fraction': 0.9912826074944712, 'bagging_freq': 1, 'max_depth': 11, 'min_data_in_leaf': 79, 'lambda_l1': 0.1348386161610248, 'lambda_l2': 0.0012766140311835715, 'min_gain_to_split': 2.2253560833549653}. Best is trial 14 with value: 0.402812523690395.\n"
          ]
        },
        {
          "output_type": "stream",
          "name": "stdout",
          "text": [
            "Did not meet early stopping. Best iteration is:\n",
            "[99]\tvalid_0's multi_logloss: 0.846461\n",
            "Training until validation scores don't improve for 100 rounds\n"
          ]
        },
        {
          "output_type": "stream",
          "name": "stderr",
          "text": [
            "<ipython-input-34-3b55cde02c14>:15: FutureWarning: suggest_loguniform has been deprecated in v3.0.0. This feature will be removed in v6.0.0. See https://github.com/optuna/optuna/releases/tag/v3.0.0. Use suggest_float(..., log=True) instead.\n",
            "  'lambda_l1': trial.suggest_loguniform('lambda_l1', 1e-8, 10.0),\n",
            "<ipython-input-34-3b55cde02c14>:16: FutureWarning: suggest_loguniform has been deprecated in v3.0.0. This feature will be removed in v6.0.0. See https://github.com/optuna/optuna/releases/tag/v3.0.0. Use suggest_float(..., log=True) instead.\n",
            "  'lambda_l2': trial.suggest_loguniform('lambda_l2', 1e-8, 10.0),\n",
            "[I 2024-12-06 09:17:57,192] Trial 24 finished with value: 0.3492938499605299 and parameters: {'num_leaves': 129, 'learning_rate': 0.055339263093550625, 'feature_fraction': 0.7223997362672319, 'bagging_fraction': 0.9352273992510718, 'bagging_freq': 2, 'max_depth': 11, 'min_data_in_leaf': 55, 'lambda_l1': 0.08763471524795682, 'lambda_l2': 4.7094143722767784e-05, 'min_gain_to_split': 4.4217261659651115}. Best is trial 14 with value: 0.402812523690395.\n"
          ]
        },
        {
          "output_type": "stream",
          "name": "stdout",
          "text": [
            "Did not meet early stopping. Best iteration is:\n",
            "[71]\tvalid_0's multi_logloss: 0.844039\n",
            "Training until validation scores don't improve for 100 rounds\n"
          ]
        },
        {
          "output_type": "stream",
          "name": "stderr",
          "text": [
            "<ipython-input-34-3b55cde02c14>:15: FutureWarning: suggest_loguniform has been deprecated in v3.0.0. This feature will be removed in v6.0.0. See https://github.com/optuna/optuna/releases/tag/v3.0.0. Use suggest_float(..., log=True) instead.\n",
            "  'lambda_l1': trial.suggest_loguniform('lambda_l1', 1e-8, 10.0),\n",
            "<ipython-input-34-3b55cde02c14>:16: FutureWarning: suggest_loguniform has been deprecated in v3.0.0. This feature will be removed in v6.0.0. See https://github.com/optuna/optuna/releases/tag/v3.0.0. Use suggest_float(..., log=True) instead.\n",
            "  'lambda_l2': trial.suggest_loguniform('lambda_l2', 1e-8, 10.0),\n",
            "[I 2024-12-06 09:17:57,497] Trial 25 finished with value: 0.3709744173413694 and parameters: {'num_leaves': 57, 'learning_rate': 0.274626222716759, 'feature_fraction': 0.6378802255167324, 'bagging_fraction': 0.7878175286507088, 'bagging_freq': 1, 'max_depth': 12, 'min_data_in_leaf': 69, 'lambda_l1': 0.001722666807850236, 'lambda_l2': 0.00030660041274916603, 'min_gain_to_split': 6.129422314946705}. Best is trial 14 with value: 0.402812523690395.\n"
          ]
        },
        {
          "output_type": "stream",
          "name": "stdout",
          "text": [
            "Did not meet early stopping. Best iteration is:\n",
            "[88]\tvalid_0's multi_logloss: 0.842793\n",
            "Training until validation scores don't improve for 100 rounds\n"
          ]
        },
        {
          "output_type": "stream",
          "name": "stderr",
          "text": [
            "<ipython-input-34-3b55cde02c14>:15: FutureWarning: suggest_loguniform has been deprecated in v3.0.0. This feature will be removed in v6.0.0. See https://github.com/optuna/optuna/releases/tag/v3.0.0. Use suggest_float(..., log=True) instead.\n",
            "  'lambda_l1': trial.suggest_loguniform('lambda_l1', 1e-8, 10.0),\n",
            "<ipython-input-34-3b55cde02c14>:16: FutureWarning: suggest_loguniform has been deprecated in v3.0.0. This feature will be removed in v6.0.0. See https://github.com/optuna/optuna/releases/tag/v3.0.0. Use suggest_float(..., log=True) instead.\n",
            "  'lambda_l2': trial.suggest_loguniform('lambda_l2', 1e-8, 10.0),\n",
            "[I 2024-12-06 09:17:57,790] Trial 26 finished with value: 0.3306565353236114 and parameters: {'num_leaves': 99, 'learning_rate': 0.26806832656262003, 'feature_fraction': 0.6498943194931539, 'bagging_fraction': 0.7971862041450163, 'bagging_freq': 5, 'max_depth': 10, 'min_data_in_leaf': 68, 'lambda_l1': 0.0022363054857685995, 'lambda_l2': 0.000448755708717616, 'min_gain_to_split': 6.282588035859522}. Best is trial 14 with value: 0.402812523690395.\n"
          ]
        },
        {
          "output_type": "stream",
          "name": "stdout",
          "text": [
            "Did not meet early stopping. Best iteration is:\n",
            "[12]\tvalid_0's multi_logloss: 0.852365\n",
            "Training until validation scores don't improve for 100 rounds\n"
          ]
        },
        {
          "output_type": "stream",
          "name": "stderr",
          "text": [
            "<ipython-input-34-3b55cde02c14>:15: FutureWarning: suggest_loguniform has been deprecated in v3.0.0. This feature will be removed in v6.0.0. See https://github.com/optuna/optuna/releases/tag/v3.0.0. Use suggest_float(..., log=True) instead.\n",
            "  'lambda_l1': trial.suggest_loguniform('lambda_l1', 1e-8, 10.0),\n",
            "<ipython-input-34-3b55cde02c14>:16: FutureWarning: suggest_loguniform has been deprecated in v3.0.0. This feature will be removed in v6.0.0. See https://github.com/optuna/optuna/releases/tag/v3.0.0. Use suggest_float(..., log=True) instead.\n",
            "  'lambda_l2': trial.suggest_loguniform('lambda_l2', 1e-8, 10.0),\n",
            "[I 2024-12-06 09:17:58,073] Trial 27 finished with value: 0.3453851862460453 and parameters: {'num_leaves': 136, 'learning_rate': 0.2994855439736424, 'feature_fraction': 0.565370367743061, 'bagging_fraction': 0.6937346242679793, 'bagging_freq': 2, 'max_depth': 8, 'min_data_in_leaf': 46, 'lambda_l1': 0.00013305571607118217, 'lambda_l2': 0.03013498018331186, 'min_gain_to_split': 14.680603050894074}. Best is trial 14 with value: 0.402812523690395.\n"
          ]
        },
        {
          "output_type": "stream",
          "name": "stdout",
          "text": [
            "Did not meet early stopping. Best iteration is:\n",
            "[13]\tvalid_0's multi_logloss: 0.863341\n",
            "Training until validation scores don't improve for 100 rounds\n"
          ]
        },
        {
          "output_type": "stream",
          "name": "stderr",
          "text": [
            "<ipython-input-34-3b55cde02c14>:15: FutureWarning: suggest_loguniform has been deprecated in v3.0.0. This feature will be removed in v6.0.0. See https://github.com/optuna/optuna/releases/tag/v3.0.0. Use suggest_float(..., log=True) instead.\n",
            "  'lambda_l1': trial.suggest_loguniform('lambda_l1', 1e-8, 10.0),\n",
            "<ipython-input-34-3b55cde02c14>:16: FutureWarning: suggest_loguniform has been deprecated in v3.0.0. This feature will be removed in v6.0.0. See https://github.com/optuna/optuna/releases/tag/v3.0.0. Use suggest_float(..., log=True) instead.\n",
            "  'lambda_l2': trial.suggest_loguniform('lambda_l2', 1e-8, 10.0),\n",
            "[I 2024-12-06 09:17:58,374] Trial 28 finished with value: 0.3661127403062888 and parameters: {'num_leaves': 80, 'learning_rate': 0.24014941220823613, 'feature_fraction': 0.7446317650904166, 'bagging_fraction': 0.7448652794342285, 'bagging_freq': 3, 'max_depth': 6, 'min_data_in_leaf': 76, 'lambda_l1': 0.001458471486119726, 'lambda_l2': 0.006932490425572602, 'min_gain_to_split': 5.429929628942745}. Best is trial 14 with value: 0.402812523690395.\n"
          ]
        },
        {
          "output_type": "stream",
          "name": "stdout",
          "text": [
            "Did not meet early stopping. Best iteration is:\n",
            "[14]\tvalid_0's multi_logloss: 0.845243\n",
            "Training until validation scores don't improve for 100 rounds\n"
          ]
        },
        {
          "output_type": "stream",
          "name": "stderr",
          "text": [
            "<ipython-input-34-3b55cde02c14>:15: FutureWarning: suggest_loguniform has been deprecated in v3.0.0. This feature will be removed in v6.0.0. See https://github.com/optuna/optuna/releases/tag/v3.0.0. Use suggest_float(..., log=True) instead.\n",
            "  'lambda_l1': trial.suggest_loguniform('lambda_l1', 1e-8, 10.0),\n",
            "<ipython-input-34-3b55cde02c14>:16: FutureWarning: suggest_loguniform has been deprecated in v3.0.0. This feature will be removed in v6.0.0. See https://github.com/optuna/optuna/releases/tag/v3.0.0. Use suggest_float(..., log=True) instead.\n",
            "  'lambda_l2': trial.suggest_loguniform('lambda_l2', 1e-8, 10.0),\n",
            "[I 2024-12-06 09:17:58,688] Trial 29 finished with value: 0.31756156071403385 and parameters: {'num_leaves': 200, 'learning_rate': 0.20614917696968282, 'feature_fraction': 0.6658140945205031, 'bagging_fraction': 0.8295506409293212, 'bagging_freq': 7, 'max_depth': 9, 'min_data_in_leaf': 66, 'lambda_l1': 8.741821469342144e-06, 'lambda_l2': 0.25207198046060497, 'min_gain_to_split': 7.735765294624558}. Best is trial 14 with value: 0.402812523690395.\n"
          ]
        },
        {
          "output_type": "stream",
          "name": "stdout",
          "text": [
            "Did not meet early stopping. Best iteration is:\n",
            "[12]\tvalid_0's multi_logloss: 0.862013\n",
            "Training until validation scores don't improve for 100 rounds\n"
          ]
        },
        {
          "output_type": "stream",
          "name": "stderr",
          "text": [
            "<ipython-input-34-3b55cde02c14>:15: FutureWarning: suggest_loguniform has been deprecated in v3.0.0. This feature will be removed in v6.0.0. See https://github.com/optuna/optuna/releases/tag/v3.0.0. Use suggest_float(..., log=True) instead.\n",
            "  'lambda_l1': trial.suggest_loguniform('lambda_l1', 1e-8, 10.0),\n",
            "<ipython-input-34-3b55cde02c14>:16: FutureWarning: suggest_loguniform has been deprecated in v3.0.0. This feature will be removed in v6.0.0. See https://github.com/optuna/optuna/releases/tag/v3.0.0. Use suggest_float(..., log=True) instead.\n",
            "  'lambda_l2': trial.suggest_loguniform('lambda_l2', 1e-8, 10.0),\n",
            "[I 2024-12-06 09:17:58,889] Trial 30 finished with value: 0.4042863409976517 and parameters: {'num_leaves': 106, 'learning_rate': 0.2739360226156376, 'feature_fraction': 0.5530268930522129, 'bagging_fraction': 0.6519890474897937, 'bagging_freq': 1, 'max_depth': 11, 'min_data_in_leaf': 57, 'lambda_l1': 5.2063757897063445e-08, 'lambda_l2': 0.00032231097600039245, 'min_gain_to_split': 7.142103959318646}. Best is trial 30 with value: 0.4042863409976517.\n",
            "<ipython-input-34-3b55cde02c14>:15: FutureWarning: suggest_loguniform has been deprecated in v3.0.0. This feature will be removed in v6.0.0. See https://github.com/optuna/optuna/releases/tag/v3.0.0. Use suggest_float(..., log=True) instead.\n",
            "  'lambda_l1': trial.suggest_loguniform('lambda_l1', 1e-8, 10.0),\n",
            "<ipython-input-34-3b55cde02c14>:16: FutureWarning: suggest_loguniform has been deprecated in v3.0.0. This feature will be removed in v6.0.0. See https://github.com/optuna/optuna/releases/tag/v3.0.0. Use suggest_float(..., log=True) instead.\n",
            "  'lambda_l2': trial.suggest_loguniform('lambda_l2', 1e-8, 10.0),\n"
          ]
        },
        {
          "output_type": "stream",
          "name": "stdout",
          "text": [
            "Did not meet early stopping. Best iteration is:\n",
            "[90]\tvalid_0's multi_logloss: 0.832255\n",
            "Training until validation scores don't improve for 100 rounds\n",
            "Did not meet early stopping. Best iteration is:\n",
            "[98]\tvalid_0's multi_logloss: 0.836514\n"
          ]
        },
        {
          "output_type": "stream",
          "name": "stderr",
          "text": [
            "[I 2024-12-06 09:17:59,088] Trial 31 finished with value: 0.362818884402232 and parameters: {'num_leaves': 113, 'learning_rate': 0.27679570428910494, 'feature_fraction': 0.5664751668370452, 'bagging_fraction': 0.6559960719016698, 'bagging_freq': 1, 'max_depth': 11, 'min_data_in_leaf': 57, 'lambda_l1': 4.125937966539792e-08, 'lambda_l2': 0.0003143494810689464, 'min_gain_to_split': 6.703165566901095}. Best is trial 30 with value: 0.4042863409976517.\n",
            "<ipython-input-34-3b55cde02c14>:15: FutureWarning: suggest_loguniform has been deprecated in v3.0.0. This feature will be removed in v6.0.0. See https://github.com/optuna/optuna/releases/tag/v3.0.0. Use suggest_float(..., log=True) instead.\n",
            "  'lambda_l1': trial.suggest_loguniform('lambda_l1', 1e-8, 10.0),\n",
            "<ipython-input-34-3b55cde02c14>:16: FutureWarning: suggest_loguniform has been deprecated in v3.0.0. This feature will be removed in v6.0.0. See https://github.com/optuna/optuna/releases/tag/v3.0.0. Use suggest_float(..., log=True) instead.\n",
            "  'lambda_l2': trial.suggest_loguniform('lambda_l2', 1e-8, 10.0),\n",
            "[I 2024-12-06 09:17:59,286] Trial 32 finished with value: 0.3754662246166597 and parameters: {'num_leaves': 147, 'learning_rate': 0.24490196269112835, 'feature_fraction': 0.5266144395176366, 'bagging_fraction': 0.5645690566846444, 'bagging_freq': 1, 'max_depth': 12, 'min_data_in_leaf': 47, 'lambda_l1': 7.173319848562333e-08, 'lambda_l2': 0.004928481736582638, 'min_gain_to_split': 9.938702544987446}. Best is trial 30 with value: 0.4042863409976517.\n",
            "<ipython-input-34-3b55cde02c14>:15: FutureWarning: suggest_loguniform has been deprecated in v3.0.0. This feature will be removed in v6.0.0. See https://github.com/optuna/optuna/releases/tag/v3.0.0. Use suggest_float(..., log=True) instead.\n",
            "  'lambda_l1': trial.suggest_loguniform('lambda_l1', 1e-8, 10.0),\n"
          ]
        },
        {
          "output_type": "stream",
          "name": "stdout",
          "text": [
            "Training until validation scores don't improve for 100 rounds\n",
            "Did not meet early stopping. Best iteration is:\n",
            "[93]\tvalid_0's multi_logloss: 0.855151\n",
            "Training until validation scores don't improve for 100 rounds\n"
          ]
        },
        {
          "output_type": "stream",
          "name": "stderr",
          "text": [
            "<ipython-input-34-3b55cde02c14>:16: FutureWarning: suggest_loguniform has been deprecated in v3.0.0. This feature will be removed in v6.0.0. See https://github.com/optuna/optuna/releases/tag/v3.0.0. Use suggest_float(..., log=True) instead.\n",
            "  'lambda_l2': trial.suggest_loguniform('lambda_l2', 1e-8, 10.0),\n",
            "[I 2024-12-06 09:17:59,461] Trial 33 finished with value: 0.3460403148601213 and parameters: {'num_leaves': 151, 'learning_rate': 0.24232752540997685, 'feature_fraction': 0.5092547667451338, 'bagging_fraction': 0.5680910906307927, 'bagging_freq': 2, 'max_depth': 10, 'min_data_in_leaf': 46, 'lambda_l1': 6.777594940336439e-08, 'lambda_l2': 0.008781179667131574, 'min_gain_to_split': 10.68331403156444}. Best is trial 30 with value: 0.4042863409976517.\n",
            "<ipython-input-34-3b55cde02c14>:15: FutureWarning: suggest_loguniform has been deprecated in v3.0.0. This feature will be removed in v6.0.0. See https://github.com/optuna/optuna/releases/tag/v3.0.0. Use suggest_float(..., log=True) instead.\n",
            "  'lambda_l1': trial.suggest_loguniform('lambda_l1', 1e-8, 10.0),\n",
            "<ipython-input-34-3b55cde02c14>:16: FutureWarning: suggest_loguniform has been deprecated in v3.0.0. This feature will be removed in v6.0.0. See https://github.com/optuna/optuna/releases/tag/v3.0.0. Use suggest_float(..., log=True) instead.\n",
            "  'lambda_l2': trial.suggest_loguniform('lambda_l2', 1e-8, 10.0),\n",
            "[I 2024-12-06 09:17:59,652] Trial 34 finished with value: 0.3359956311010991 and parameters: {'num_leaves': 166, 'learning_rate': 0.21650921933371226, 'feature_fraction': 0.44730584976675003, 'bagging_fraction': 0.6123120084271926, 'bagging_freq': 1, 'max_depth': 11, 'min_data_in_leaf': 37, 'lambda_l1': 4.3413781480747763e-07, 'lambda_l2': 0.15134754779321918, 'min_gain_to_split': 11.043661710984221}. Best is trial 30 with value: 0.4042863409976517.\n"
          ]
        },
        {
          "output_type": "stream",
          "name": "stdout",
          "text": [
            "Did not meet early stopping. Best iteration is:\n",
            "[21]\tvalid_0's multi_logloss: 0.862339\n",
            "Training until validation scores don't improve for 100 rounds\n",
            "Did not meet early stopping. Best iteration is:\n",
            "[88]\tvalid_0's multi_logloss: 0.855289\n"
          ]
        },
        {
          "output_type": "stream",
          "name": "stderr",
          "text": [
            "<ipython-input-34-3b55cde02c14>:15: FutureWarning: suggest_loguniform has been deprecated in v3.0.0. This feature will be removed in v6.0.0. See https://github.com/optuna/optuna/releases/tag/v3.0.0. Use suggest_float(..., log=True) instead.\n",
            "  'lambda_l1': trial.suggest_loguniform('lambda_l1', 1e-8, 10.0),\n",
            "<ipython-input-34-3b55cde02c14>:16: FutureWarning: suggest_loguniform has been deprecated in v3.0.0. This feature will be removed in v6.0.0. See https://github.com/optuna/optuna/releases/tag/v3.0.0. Use suggest_float(..., log=True) instead.\n",
            "  'lambda_l2': trial.suggest_loguniform('lambda_l2', 1e-8, 10.0),\n",
            "[I 2024-12-06 09:17:59,828] Trial 35 finished with value: 0.29271973613226165 and parameters: {'num_leaves': 140, 'learning_rate': 0.22767521971096227, 'feature_fraction': 0.5821616334681724, 'bagging_fraction': 0.5444197251948787, 'bagging_freq': 2, 'max_depth': 9, 'min_data_in_leaf': 29, 'lambda_l1': 2.9736376576537998e-08, 'lambda_l2': 8.41436955472814, 'min_gain_to_split': 8.61701818420246}. Best is trial 30 with value: 0.4042863409976517.\n",
            "<ipython-input-34-3b55cde02c14>:15: FutureWarning: suggest_loguniform has been deprecated in v3.0.0. This feature will be removed in v6.0.0. See https://github.com/optuna/optuna/releases/tag/v3.0.0. Use suggest_float(..., log=True) instead.\n",
            "  'lambda_l1': trial.suggest_loguniform('lambda_l1', 1e-8, 10.0),\n",
            "<ipython-input-34-3b55cde02c14>:16: FutureWarning: suggest_loguniform has been deprecated in v3.0.0. This feature will be removed in v6.0.0. See https://github.com/optuna/optuna/releases/tag/v3.0.0. Use suggest_float(..., log=True) instead.\n",
            "  'lambda_l2': trial.suggest_loguniform('lambda_l2', 1e-8, 10.0),\n"
          ]
        },
        {
          "output_type": "stream",
          "name": "stdout",
          "text": [
            "Training until validation scores don't improve for 100 rounds\n",
            "Did not meet early stopping. Best iteration is:\n",
            "[24]\tvalid_0's multi_logloss: 0.873269\n",
            "Training until validation scores don't improve for 100 rounds\n"
          ]
        },
        {
          "output_type": "stream",
          "name": "stderr",
          "text": [
            "[I 2024-12-06 09:18:00,089] Trial 36 finished with value: 0.3227265178902189 and parameters: {'num_leaves': 218, 'learning_rate': 0.25654462156075863, 'feature_fraction': 0.5327778310312606, 'bagging_fraction': 0.6327245692202305, 'bagging_freq': 1, 'max_depth': 8, 'min_data_in_leaf': 48, 'lambda_l1': 4.313099607675129e-07, 'lambda_l2': 0.006165281918672741, 'min_gain_to_split': 1.284275314618477}. Best is trial 30 with value: 0.4042863409976517.\n",
            "<ipython-input-34-3b55cde02c14>:15: FutureWarning: suggest_loguniform has been deprecated in v3.0.0. This feature will be removed in v6.0.0. See https://github.com/optuna/optuna/releases/tag/v3.0.0. Use suggest_float(..., log=True) instead.\n",
            "  'lambda_l1': trial.suggest_loguniform('lambda_l1', 1e-8, 10.0),\n",
            "<ipython-input-34-3b55cde02c14>:16: FutureWarning: suggest_loguniform has been deprecated in v3.0.0. This feature will be removed in v6.0.0. See https://github.com/optuna/optuna/releases/tag/v3.0.0. Use suggest_float(..., log=True) instead.\n",
            "  'lambda_l2': trial.suggest_loguniform('lambda_l2', 1e-8, 10.0),\n",
            "[I 2024-12-06 09:18:00,268] Trial 37 finished with value: 0.21593282646837664 and parameters: {'num_leaves': 151, 'learning_rate': 0.19706928372221, 'feature_fraction': 0.5891862305004877, 'bagging_fraction': 0.4695374089188246, 'bagging_freq': 2, 'max_depth': 12, 'min_data_in_leaf': 40, 'lambda_l1': 6.922310386932413e-08, 'lambda_l2': 1.240707758291072e-06, 'min_gain_to_split': 9.722000384247664}. Best is trial 30 with value: 0.4042863409976517.\n"
          ]
        },
        {
          "output_type": "stream",
          "name": "stdout",
          "text": [
            "Did not meet early stopping. Best iteration is:\n",
            "[14]\tvalid_0's multi_logloss: 0.856185\n",
            "Training until validation scores don't improve for 100 rounds\n",
            "Did not meet early stopping. Best iteration is:\n",
            "[15]\tvalid_0's multi_logloss: 0.872417\n"
          ]
        },
        {
          "output_type": "stream",
          "name": "stderr",
          "text": [
            "<ipython-input-34-3b55cde02c14>:15: FutureWarning: suggest_loguniform has been deprecated in v3.0.0. This feature will be removed in v6.0.0. See https://github.com/optuna/optuna/releases/tag/v3.0.0. Use suggest_float(..., log=True) instead.\n",
            "  'lambda_l1': trial.suggest_loguniform('lambda_l1', 1e-8, 10.0),\n",
            "<ipython-input-34-3b55cde02c14>:16: FutureWarning: suggest_loguniform has been deprecated in v3.0.0. This feature will be removed in v6.0.0. See https://github.com/optuna/optuna/releases/tag/v3.0.0. Use suggest_float(..., log=True) instead.\n",
            "  'lambda_l2': trial.suggest_loguniform('lambda_l2', 1e-8, 10.0),\n",
            "[I 2024-12-06 09:18:00,454] Trial 38 finished with value: 0.3440243849765837 and parameters: {'num_leaves': 99, 'learning_rate': 0.28183898782540107, 'feature_fraction': 0.46466805258254, 'bagging_fraction': 0.7276959881334066, 'bagging_freq': 1, 'max_depth': 10, 'min_data_in_leaf': 20, 'lambda_l1': 2.635758079608825e-06, 'lambda_l2': 0.034430073443869315, 'min_gain_to_split': 11.872780791426703}. Best is trial 30 with value: 0.4042863409976517.\n",
            "<ipython-input-34-3b55cde02c14>:15: FutureWarning: suggest_loguniform has been deprecated in v3.0.0. This feature will be removed in v6.0.0. See https://github.com/optuna/optuna/releases/tag/v3.0.0. Use suggest_float(..., log=True) instead.\n",
            "  'lambda_l1': trial.suggest_loguniform('lambda_l1', 1e-8, 10.0),\n",
            "<ipython-input-34-3b55cde02c14>:16: FutureWarning: suggest_loguniform has been deprecated in v3.0.0. This feature will be removed in v6.0.0. See https://github.com/optuna/optuna/releases/tag/v3.0.0. Use suggest_float(..., log=True) instead.\n",
            "  'lambda_l2': trial.suggest_loguniform('lambda_l2', 1e-8, 10.0),\n"
          ]
        },
        {
          "output_type": "stream",
          "name": "stdout",
          "text": [
            "Training until validation scores don't improve for 100 rounds\n",
            "Did not meet early stopping. Best iteration is:\n",
            "[88]\tvalid_0's multi_logloss: 0.855157\n",
            "Training until validation scores don't improve for 100 rounds\n"
          ]
        },
        {
          "output_type": "stream",
          "name": "stderr",
          "text": [
            "[I 2024-12-06 09:18:00,632] Trial 39 finished with value: 0.2503132919323846 and parameters: {'num_leaves': 90, 'learning_rate': 0.24275009714277718, 'feature_fraction': 0.5366340338428206, 'bagging_fraction': 0.588174383959621, 'bagging_freq': 3, 'max_depth': 3, 'min_data_in_leaf': 58, 'lambda_l1': 5.070403229436466e-07, 'lambda_l2': 0.001154921634561249, 'min_gain_to_split': 7.783046737841446}. Best is trial 30 with value: 0.4042863409976517.\n",
            "<ipython-input-34-3b55cde02c14>:15: FutureWarning: suggest_loguniform has been deprecated in v3.0.0. This feature will be removed in v6.0.0. See https://github.com/optuna/optuna/releases/tag/v3.0.0. Use suggest_float(..., log=True) instead.\n",
            "  'lambda_l1': trial.suggest_loguniform('lambda_l1', 1e-8, 10.0),\n",
            "<ipython-input-34-3b55cde02c14>:16: FutureWarning: suggest_loguniform has been deprecated in v3.0.0. This feature will be removed in v6.0.0. See https://github.com/optuna/optuna/releases/tag/v3.0.0. Use suggest_float(..., log=True) instead.\n",
            "  'lambda_l2': trial.suggest_loguniform('lambda_l2', 1e-8, 10.0),\n",
            "[I 2024-12-06 09:18:00,810] Trial 40 finished with value: 0.33739379867895536 and parameters: {'num_leaves': 283, 'learning_rate': 0.15629108104637934, 'feature_fraction': 0.5522011497630622, 'bagging_fraction': 0.5391142759079417, 'bagging_freq': 2, 'max_depth': 11, 'min_data_in_leaf': 30, 'lambda_l1': 1.048944834228549e-08, 'lambda_l2': 6.536873464287938e-05, 'min_gain_to_split': 7.204366475567493}. Best is trial 30 with value: 0.4042863409976517.\n"
          ]
        },
        {
          "output_type": "stream",
          "name": "stdout",
          "text": [
            "Did not meet early stopping. Best iteration is:\n",
            "[10]\tvalid_0's multi_logloss: 0.856599\n",
            "Training until validation scores don't improve for 100 rounds\n",
            "Did not meet early stopping. Best iteration is:\n",
            "[28]\tvalid_0's multi_logloss: 0.8524\n"
          ]
        },
        {
          "output_type": "stream",
          "name": "stderr",
          "text": [
            "<ipython-input-34-3b55cde02c14>:15: FutureWarning: suggest_loguniform has been deprecated in v3.0.0. This feature will be removed in v6.0.0. See https://github.com/optuna/optuna/releases/tag/v3.0.0. Use suggest_float(..., log=True) instead.\n",
            "  'lambda_l1': trial.suggest_loguniform('lambda_l1', 1e-8, 10.0),\n",
            "<ipython-input-34-3b55cde02c14>:16: FutureWarning: suggest_loguniform has been deprecated in v3.0.0. This feature will be removed in v6.0.0. See https://github.com/optuna/optuna/releases/tag/v3.0.0. Use suggest_float(..., log=True) instead.\n",
            "  'lambda_l2': trial.suggest_loguniform('lambda_l2', 1e-8, 10.0),\n",
            "[I 2024-12-06 09:18:01,014] Trial 41 finished with value: 0.37120701068625284 and parameters: {'num_leaves': 114, 'learning_rate': 0.26508037036986604, 'feature_fraction': 0.6445015046059037, 'bagging_fraction': 0.6647788563877383, 'bagging_freq': 1, 'max_depth': 12, 'min_data_in_leaf': 62, 'lambda_l1': 0.00016054590278368437, 'lambda_l2': 0.00019522380481262186, 'min_gain_to_split': 5.687230429335305}. Best is trial 30 with value: 0.4042863409976517.\n",
            "<ipython-input-34-3b55cde02c14>:15: FutureWarning: suggest_loguniform has been deprecated in v3.0.0. This feature will be removed in v6.0.0. See https://github.com/optuna/optuna/releases/tag/v3.0.0. Use suggest_float(..., log=True) instead.\n",
            "  'lambda_l1': trial.suggest_loguniform('lambda_l1', 1e-8, 10.0),\n",
            "<ipython-input-34-3b55cde02c14>:16: FutureWarning: suggest_loguniform has been deprecated in v3.0.0. This feature will be removed in v6.0.0. See https://github.com/optuna/optuna/releases/tag/v3.0.0. Use suggest_float(..., log=True) instead.\n",
            "  'lambda_l2': trial.suggest_loguniform('lambda_l2', 1e-8, 10.0),\n"
          ]
        },
        {
          "output_type": "stream",
          "name": "stdout",
          "text": [
            "Training until validation scores don't improve for 100 rounds\n",
            "Did not meet early stopping. Best iteration is:\n",
            "[30]\tvalid_0's multi_logloss: 0.846612\n"
          ]
        },
        {
          "output_type": "stream",
          "name": "stderr",
          "text": [
            "[I 2024-12-06 09:18:01,219] Trial 42 finished with value: 0.3995654407804734 and parameters: {'num_leaves': 117, 'learning_rate': 0.2870849404620629, 'feature_fraction': 0.7057611620151552, 'bagging_fraction': 0.6489335751803774, 'bagging_freq': 1, 'max_depth': 12, 'min_data_in_leaf': 42, 'lambda_l1': 0.0001346951282697991, 'lambda_l2': 3.479914071888814e-06, 'min_gain_to_split': 5.093382587305177}. Best is trial 30 with value: 0.4042863409976517.\n"
          ]
        },
        {
          "output_type": "stream",
          "name": "stdout",
          "text": [
            "Training until validation scores don't improve for 100 rounds\n",
            "Did not meet early stopping. Best iteration is:\n",
            "[28]\tvalid_0's multi_logloss: 0.847717\n"
          ]
        },
        {
          "output_type": "stream",
          "name": "stderr",
          "text": [
            "<ipython-input-34-3b55cde02c14>:15: FutureWarning: suggest_loguniform has been deprecated in v3.0.0. This feature will be removed in v6.0.0. See https://github.com/optuna/optuna/releases/tag/v3.0.0. Use suggest_float(..., log=True) instead.\n",
            "  'lambda_l1': trial.suggest_loguniform('lambda_l1', 1e-8, 10.0),\n",
            "<ipython-input-34-3b55cde02c14>:16: FutureWarning: suggest_loguniform has been deprecated in v3.0.0. This feature will be removed in v6.0.0. See https://github.com/optuna/optuna/releases/tag/v3.0.0. Use suggest_float(..., log=True) instead.\n",
            "  'lambda_l2': trial.suggest_loguniform('lambda_l2', 1e-8, 10.0),\n",
            "[I 2024-12-06 09:18:01,426] Trial 43 finished with value: 0.34565342473381067 and parameters: {'num_leaves': 144, 'learning_rate': 0.2918245844358575, 'feature_fraction': 0.6923522621625404, 'bagging_fraction': 0.6235823049413216, 'bagging_freq': 1, 'max_depth': 12, 'min_data_in_leaf': 49, 'lambda_l1': 1.2658681263501766e-07, 'lambda_l2': 5.540656846382448e-06, 'min_gain_to_split': 4.018111737167301}. Best is trial 30 with value: 0.4042863409976517.\n",
            "<ipython-input-34-3b55cde02c14>:15: FutureWarning: suggest_loguniform has been deprecated in v3.0.0. This feature will be removed in v6.0.0. See https://github.com/optuna/optuna/releases/tag/v3.0.0. Use suggest_float(..., log=True) instead.\n",
            "  'lambda_l1': trial.suggest_loguniform('lambda_l1', 1e-8, 10.0),\n",
            "<ipython-input-34-3b55cde02c14>:16: FutureWarning: suggest_loguniform has been deprecated in v3.0.0. This feature will be removed in v6.0.0. See https://github.com/optuna/optuna/releases/tag/v3.0.0. Use suggest_float(..., log=True) instead.\n",
            "  'lambda_l2': trial.suggest_loguniform('lambda_l2', 1e-8, 10.0),\n"
          ]
        },
        {
          "output_type": "stream",
          "name": "stdout",
          "text": [
            "Training until validation scores don't improve for 100 rounds\n",
            "Did not meet early stopping. Best iteration is:\n",
            "[14]\tvalid_0's multi_logloss: 0.848591\n",
            "Training until validation scores don't improve for 100 rounds\n"
          ]
        },
        {
          "output_type": "stream",
          "name": "stderr",
          "text": [
            "[I 2024-12-06 09:18:01,669] Trial 44 finished with value: 0.36841774696010443 and parameters: {'num_leaves': 163, 'learning_rate': 0.2280546737370518, 'feature_fraction': 0.8246045272932264, 'bagging_fraction': 0.649352176584952, 'bagging_freq': 1, 'max_depth': 11, 'min_data_in_leaf': 42, 'lambda_l1': 1.1272575099885867e-05, 'lambda_l2': 2.44863352465578e-07, 'min_gain_to_split': 2.6267896968188027}. Best is trial 30 with value: 0.4042863409976517.\n",
            "<ipython-input-34-3b55cde02c14>:15: FutureWarning: suggest_loguniform has been deprecated in v3.0.0. This feature will be removed in v6.0.0. See https://github.com/optuna/optuna/releases/tag/v3.0.0. Use suggest_float(..., log=True) instead.\n",
            "  'lambda_l1': trial.suggest_loguniform('lambda_l1', 1e-8, 10.0),\n",
            "<ipython-input-34-3b55cde02c14>:16: FutureWarning: suggest_loguniform has been deprecated in v3.0.0. This feature will be removed in v6.0.0. See https://github.com/optuna/optuna/releases/tag/v3.0.0. Use suggest_float(..., log=True) instead.\n",
            "  'lambda_l2': trial.suggest_loguniform('lambda_l2', 1e-8, 10.0),\n",
            "[I 2024-12-06 09:18:01,854] Trial 45 finished with value: 0.3579837695736655 and parameters: {'num_leaves': 67, 'learning_rate': 0.2851494727024665, 'feature_fraction': 0.7368574137997085, 'bagging_fraction': 0.5949098999973481, 'bagging_freq': 2, 'max_depth': 12, 'min_data_in_leaf': 42, 'lambda_l1': 8.864203424733044e-07, 'lambda_l2': 0.0030867457655749412, 'min_gain_to_split': 5.037368071141759}. Best is trial 30 with value: 0.4042863409976517.\n"
          ]
        },
        {
          "output_type": "stream",
          "name": "stdout",
          "text": [
            "Did not meet early stopping. Best iteration is:\n",
            "[14]\tvalid_0's multi_logloss: 0.845614\n",
            "Training until validation scores don't improve for 100 rounds\n",
            "Did not meet early stopping. Best iteration is:\n",
            "[15]\tvalid_0's multi_logloss: 0.847848\n"
          ]
        },
        {
          "output_type": "stream",
          "name": "stderr",
          "text": [
            "<ipython-input-34-3b55cde02c14>:15: FutureWarning: suggest_loguniform has been deprecated in v3.0.0. This feature will be removed in v6.0.0. See https://github.com/optuna/optuna/releases/tag/v3.0.0. Use suggest_float(..., log=True) instead.\n",
            "  'lambda_l1': trial.suggest_loguniform('lambda_l1', 1e-8, 10.0),\n",
            "<ipython-input-34-3b55cde02c14>:16: FutureWarning: suggest_loguniform has been deprecated in v3.0.0. This feature will be removed in v6.0.0. See https://github.com/optuna/optuna/releases/tag/v3.0.0. Use suggest_float(..., log=True) instead.\n",
            "  'lambda_l2': trial.suggest_loguniform('lambda_l2', 1e-8, 10.0),\n",
            "[I 2024-12-06 09:18:02,050] Trial 46 finished with value: 0.3785858534378962 and parameters: {'num_leaves': 122, 'learning_rate': 0.25076221800408405, 'feature_fraction': 0.7066953873539463, 'bagging_fraction': 0.6872117471642529, 'bagging_freq': 5, 'max_depth': 11, 'min_data_in_leaf': 33, 'lambda_l1': 3.3567273969682436e-05, 'lambda_l2': 1.4813431516443736e-06, 'min_gain_to_split': 4.035614241349684}. Best is trial 30 with value: 0.4042863409976517.\n",
            "<ipython-input-34-3b55cde02c14>:15: FutureWarning: suggest_loguniform has been deprecated in v3.0.0. This feature will be removed in v6.0.0. See https://github.com/optuna/optuna/releases/tag/v3.0.0. Use suggest_float(..., log=True) instead.\n",
            "  'lambda_l1': trial.suggest_loguniform('lambda_l1', 1e-8, 10.0),\n",
            "<ipython-input-34-3b55cde02c14>:16: FutureWarning: suggest_loguniform has been deprecated in v3.0.0. This feature will be removed in v6.0.0. See https://github.com/optuna/optuna/releases/tag/v3.0.0. Use suggest_float(..., log=True) instead.\n",
            "  'lambda_l2': trial.suggest_loguniform('lambda_l2', 1e-8, 10.0),\n"
          ]
        },
        {
          "output_type": "stream",
          "name": "stdout",
          "text": [
            "Training until validation scores don't improve for 100 rounds\n",
            "Did not meet early stopping. Best iteration is:\n",
            "[11]\tvalid_0's multi_logloss: 0.850092\n",
            "Training until validation scores don't improve for 100 rounds\n"
          ]
        },
        {
          "output_type": "stream",
          "name": "stderr",
          "text": [
            "[I 2024-12-06 09:18:02,238] Trial 47 finished with value: 0.3728643086485024 and parameters: {'num_leaves': 115, 'learning_rate': 0.2591230845647486, 'feature_fraction': 0.7877675168462906, 'bagging_fraction': 0.6948363006827579, 'bagging_freq': 5, 'max_depth': 10, 'min_data_in_leaf': 32, 'lambda_l1': 6.870015513287554e-05, 'lambda_l2': 8.250181137793302e-08, 'min_gain_to_split': 4.035265179391457}. Best is trial 30 with value: 0.4042863409976517.\n",
            "<ipython-input-34-3b55cde02c14>:15: FutureWarning: suggest_loguniform has been deprecated in v3.0.0. This feature will be removed in v6.0.0. See https://github.com/optuna/optuna/releases/tag/v3.0.0. Use suggest_float(..., log=True) instead.\n",
            "  'lambda_l1': trial.suggest_loguniform('lambda_l1', 1e-8, 10.0),\n"
          ]
        },
        {
          "output_type": "stream",
          "name": "stdout",
          "text": [
            "Did not meet early stopping. Best iteration is:\n",
            "[13]\tvalid_0's multi_logloss: 0.853197\n",
            "Training until validation scores don't improve for 100 rounds\n"
          ]
        },
        {
          "output_type": "stream",
          "name": "stderr",
          "text": [
            "<ipython-input-34-3b55cde02c14>:16: FutureWarning: suggest_loguniform has been deprecated in v3.0.0. This feature will be removed in v6.0.0. See https://github.com/optuna/optuna/releases/tag/v3.0.0. Use suggest_float(..., log=True) instead.\n",
            "  'lambda_l2': trial.suggest_loguniform('lambda_l2', 1e-8, 10.0),\n",
            "[I 2024-12-06 09:18:02,502] Trial 48 finished with value: 0.3290401369794028 and parameters: {'num_leaves': 126, 'learning_rate': 0.2806017914017618, 'feature_fraction': 0.7176291323191023, 'bagging_fraction': 0.75627844561798, 'bagging_freq': 6, 'max_depth': 11, 'min_data_in_leaf': 27, 'lambda_l1': 2.7381268188623667e-05, 'lambda_l2': 1.696788476936301e-06, 'min_gain_to_split': 1.149776483509473}. Best is trial 30 with value: 0.4042863409976517.\n"
          ]
        },
        {
          "output_type": "stream",
          "name": "stdout",
          "text": [
            "Did not meet early stopping. Best iteration is:\n",
            "[6]\tvalid_0's multi_logloss: 0.875273\n",
            "Training until validation scores don't improve for 100 rounds\n"
          ]
        },
        {
          "output_type": "stream",
          "name": "stderr",
          "text": [
            "<ipython-input-34-3b55cde02c14>:15: FutureWarning: suggest_loguniform has been deprecated in v3.0.0. This feature will be removed in v6.0.0. See https://github.com/optuna/optuna/releases/tag/v3.0.0. Use suggest_float(..., log=True) instead.\n",
            "  'lambda_l1': trial.suggest_loguniform('lambda_l1', 1e-8, 10.0),\n",
            "<ipython-input-34-3b55cde02c14>:16: FutureWarning: suggest_loguniform has been deprecated in v3.0.0. This feature will be removed in v6.0.0. See https://github.com/optuna/optuna/releases/tag/v3.0.0. Use suggest_float(..., log=True) instead.\n",
            "  'lambda_l2': trial.suggest_loguniform('lambda_l2', 1e-8, 10.0),\n",
            "[I 2024-12-06 09:18:02,722] Trial 49 finished with value: 0.33093988188380186 and parameters: {'num_leaves': 92, 'learning_rate': 0.21418375293166106, 'feature_fraction': 0.6686689735326801, 'bagging_fraction': 0.6798932890451088, 'bagging_freq': 5, 'max_depth': 6, 'min_data_in_leaf': 34, 'lambda_l1': 0.00022914729200023532, 'lambda_l2': 5.828305174144383e-07, 'min_gain_to_split': 2.4179935762774027}. Best is trial 30 with value: 0.4042863409976517.\n"
          ]
        },
        {
          "output_type": "stream",
          "name": "stdout",
          "text": [
            "Did not meet early stopping. Best iteration is:\n",
            "[19]\tvalid_0's multi_logloss: 0.841331\n"
          ]
        }
      ],
      "execution_count": 35
    },
    {
      "cell_type": "code",
      "source": [
        "# Resultado de los mejores parámetros\n",
        "print(\"Mejores parámetros:\", study.best_params)\n",
        "print(\"Mejor QWK:\", study.best_value)"
      ],
      "metadata": {
        "trusted": true,
        "colab": {
          "base_uri": "https://localhost:8080/"
        },
        "id": "7AR1_x9RHDNo",
        "outputId": "1eff392f-1448-4489-e290-6c142f962e06"
      },
      "outputs": [
        {
          "output_type": "stream",
          "name": "stdout",
          "text": [
            "Mejores parámetros: {'num_leaves': 106, 'learning_rate': 0.2739360226156376, 'feature_fraction': 0.5530268930522129, 'bagging_fraction': 0.6519890474897937, 'bagging_freq': 1, 'max_depth': 11, 'min_data_in_leaf': 57, 'lambda_l1': 5.2063757897063445e-08, 'lambda_l2': 0.00032231097600039245, 'min_gain_to_split': 7.142103959318646}\n",
            "Mejor QWK: 0.4042863409976517\n"
          ]
        }
      ],
      "execution_count": 36
    },
    {
      "cell_type": "code",
      "source": [
        "import pandas as pd\n",
        "from sklearn.preprocessing import LabelEncoder\n",
        "\n",
        "# Feature selection (assuming 'best_features' is a list of feature names)\n",
        "best_features = list(X_train.columns) # Replace with your actual list of best features\n",
        "\n",
        "# Remove 'id' from best_features if it's present\n",
        "if 'id' in best_features:\n",
        "    best_features.remove('id')\n",
        "\n",
        "X_train_selected = X_train[best_features]\n",
        "X_val_selected = X_val[best_features]\n",
        "test_data_selected = test_data[list(set(best_features).intersection(test_data.columns))]\n",
        "\n",
        "# ----> Apply Label Encoding to object columns in test_data_selected <----\n",
        "for col in test_data_selected.select_dtypes(include=['object']).columns:\n",
        "    # Create a LabelEncoder object for each column\n",
        "    label_encoder = LabelEncoder()\n",
        "\n",
        "    # Fit on the combined unique values from train and test\n",
        "    all_values = pd.concat([X_train[col], test_data_selected[col]]).unique()\n",
        "\n",
        "    # Convert all values to strings before fitting\n",
        "    all_values = all_values.astype(str)  # This line is the key change\n",
        "\n",
        "    label_encoder.fit(all_values)\n",
        "\n",
        "    # Transform the column in test_data_selected\n",
        "    test_data_selected[col] = label_encoder.transform(test_data_selected[col])\n",
        "\n",
        "# Redefine the objective function with selected features\n",
        "\n",
        "def objective(trial):\n",
        "    params = {\n",
        "        # ... (your parameters)\n",
        "    }\n",
        "    model = lgb.LGBMClassifier(**params)\n",
        "    model.fit(X_train_selected, y_train,\n",
        "              eval_set=[(X_val_selected, y_val)],\n",
        "              callbacks=[lgb.early_stopping(stopping_rounds=100, verbose=100)])\n",
        "\n",
        "    preds = model.predict(X_val_selected)\n",
        "    qwk = quadratic_weighted_kappa(y_val, preds)\n",
        "    return qwk\n",
        "\n",
        "\n",
        "\n",
        "# Retrain the model with the best parameters and selected features\n",
        "best_params = study.best_params  # Access the best parameters\n",
        "\n",
        "model = lgb.LGBMClassifier(**best_params)\n",
        "model.fit(X_train_selected, y_train, eval_set=[(X_val_selected, y_val)],\n",
        "          callbacks=[lgb.early_stopping(stopping_rounds=100, verbose=100)])\n",
        "\n",
        "# Predict on the test data\n",
        "test_preds = model.predict(test_data_selected)\n",
        "\n",
        "\n",
        "# Prepare the submission\n",
        "submission_df = pd.DataFrame({'id': test_data['id'], 'SII': test_preds})\n",
        "submission_df.to_csv('submission.csv', index=False)"
      ],
      "metadata": {
        "colab": {
          "base_uri": "https://localhost:8080/"
        },
        "id": "1wepmYwlOnq2",
        "outputId": "57ea0d9e-6f12-4a7d-81bf-81c71c09120c"
      },
      "execution_count": 40,
      "outputs": [
        {
          "output_type": "stream",
          "name": "stderr",
          "text": [
            "<ipython-input-40-50c620b2e108>:29: SettingWithCopyWarning: \n",
            "A value is trying to be set on a copy of a slice from a DataFrame.\n",
            "Try using .loc[row_indexer,col_indexer] = value instead\n",
            "\n",
            "See the caveats in the documentation: https://pandas.pydata.org/pandas-docs/stable/user_guide/indexing.html#returning-a-view-versus-a-copy\n",
            "  test_data_selected[col] = label_encoder.transform(test_data_selected[col])\n",
            "<ipython-input-40-50c620b2e108>:29: SettingWithCopyWarning: \n",
            "A value is trying to be set on a copy of a slice from a DataFrame.\n",
            "Try using .loc[row_indexer,col_indexer] = value instead\n",
            "\n",
            "See the caveats in the documentation: https://pandas.pydata.org/pandas-docs/stable/user_guide/indexing.html#returning-a-view-versus-a-copy\n",
            "  test_data_selected[col] = label_encoder.transform(test_data_selected[col])\n",
            "<ipython-input-40-50c620b2e108>:29: SettingWithCopyWarning: \n",
            "A value is trying to be set on a copy of a slice from a DataFrame.\n",
            "Try using .loc[row_indexer,col_indexer] = value instead\n",
            "\n",
            "See the caveats in the documentation: https://pandas.pydata.org/pandas-docs/stable/user_guide/indexing.html#returning-a-view-versus-a-copy\n",
            "  test_data_selected[col] = label_encoder.transform(test_data_selected[col])\n",
            "<ipython-input-40-50c620b2e108>:29: SettingWithCopyWarning: \n",
            "A value is trying to be set on a copy of a slice from a DataFrame.\n",
            "Try using .loc[row_indexer,col_indexer] = value instead\n",
            "\n",
            "See the caveats in the documentation: https://pandas.pydata.org/pandas-docs/stable/user_guide/indexing.html#returning-a-view-versus-a-copy\n",
            "  test_data_selected[col] = label_encoder.transform(test_data_selected[col])\n",
            "<ipython-input-40-50c620b2e108>:29: SettingWithCopyWarning: \n",
            "A value is trying to be set on a copy of a slice from a DataFrame.\n",
            "Try using .loc[row_indexer,col_indexer] = value instead\n",
            "\n",
            "See the caveats in the documentation: https://pandas.pydata.org/pandas-docs/stable/user_guide/indexing.html#returning-a-view-versus-a-copy\n",
            "  test_data_selected[col] = label_encoder.transform(test_data_selected[col])\n",
            "<ipython-input-40-50c620b2e108>:29: SettingWithCopyWarning: \n",
            "A value is trying to be set on a copy of a slice from a DataFrame.\n",
            "Try using .loc[row_indexer,col_indexer] = value instead\n",
            "\n",
            "See the caveats in the documentation: https://pandas.pydata.org/pandas-docs/stable/user_guide/indexing.html#returning-a-view-versus-a-copy\n",
            "  test_data_selected[col] = label_encoder.transform(test_data_selected[col])\n",
            "<ipython-input-40-50c620b2e108>:29: SettingWithCopyWarning: \n",
            "A value is trying to be set on a copy of a slice from a DataFrame.\n",
            "Try using .loc[row_indexer,col_indexer] = value instead\n",
            "\n",
            "See the caveats in the documentation: https://pandas.pydata.org/pandas-docs/stable/user_guide/indexing.html#returning-a-view-versus-a-copy\n",
            "  test_data_selected[col] = label_encoder.transform(test_data_selected[col])\n",
            "<ipython-input-40-50c620b2e108>:29: SettingWithCopyWarning: \n",
            "A value is trying to be set on a copy of a slice from a DataFrame.\n",
            "Try using .loc[row_indexer,col_indexer] = value instead\n",
            "\n",
            "See the caveats in the documentation: https://pandas.pydata.org/pandas-docs/stable/user_guide/indexing.html#returning-a-view-versus-a-copy\n",
            "  test_data_selected[col] = label_encoder.transform(test_data_selected[col])\n",
            "<ipython-input-40-50c620b2e108>:29: SettingWithCopyWarning: \n",
            "A value is trying to be set on a copy of a slice from a DataFrame.\n",
            "Try using .loc[row_indexer,col_indexer] = value instead\n",
            "\n",
            "See the caveats in the documentation: https://pandas.pydata.org/pandas-docs/stable/user_guide/indexing.html#returning-a-view-versus-a-copy\n",
            "  test_data_selected[col] = label_encoder.transform(test_data_selected[col])\n"
          ]
        },
        {
          "output_type": "stream",
          "name": "stdout",
          "text": [
            "Training until validation scores don't improve for 100 rounds\n",
            "Did not meet early stopping. Best iteration is:\n",
            "[83]\tvalid_0's multi_logloss: 0.844907\n"
          ]
        }
      ]
    },
    {
      "cell_type": "code",
      "source": [
        "# prompt: Hacemos preds para probar el modelo\n",
        "\n",
        "import pandas as pd\n",
        "import numpy as np\n",
        "from sklearn.metrics import cohen_kappa_score\n",
        "\n",
        "# Assuming 'model' is your trained LGBMClassifier and 'test_data_selected' is your preprocessed test data\n",
        "# Make predictions on the test set, using the selected features\n",
        "preds = model.predict(test_data_selected)  # Use test_data_selected here\n",
        "\n",
        "\n",
        "\n",
        "# Create a submission dataframe\n",
        "submission_df = pd.DataFrame({'id': test_data['id'], 'sii': preds})\n",
        "\n",
        "# Save the predictions to a CSV file\n",
        "submission_df.to_csv('submission.csv', index=False)\n",
        "\n",
        "print(\"Predictions saved to submission.csv\")"
      ],
      "metadata": {
        "colab": {
          "base_uri": "https://localhost:8080/"
        },
        "id": "aI_RLkn5OcF4",
        "outputId": "25c2c5f8-4694-447d-c20a-c3230b275e91"
      },
      "execution_count": 43,
      "outputs": [
        {
          "output_type": "stream",
          "name": "stdout",
          "text": [
            "Predictions saved to submission.csv\n"
          ]
        }
      ]
    },
    {
      "cell_type": "code",
      "source": [
        "import matplotlib.pyplot as plt\n",
        "import seaborn as sns\n",
        "\n",
        "# Calculate the confusion matrix\n",
        "from sklearn.metrics import confusion_matrix\n",
        "\n",
        "# Predict on the validation set\n",
        "val_preds = model.predict(X_val_selected) # predict on validation set\n",
        "\n",
        "cm = confusion_matrix(y_val, val_preds)  # Use validation predictions (val_preds) here\n",
        "\n",
        "# Plot the confusion matrix\n",
        "plt.figure(figsize=(8, 6))\n",
        "sns.heatmap(cm, annot=True, fmt='d', cmap='Blues')\n",
        "plt.title('Confusion Matrix')\n",
        "plt.xlabel('Predicted')\n",
        "plt.ylabel('True')\n",
        "plt.show()\n",
        "\n",
        "# Plot feature importance\n",
        "lgbm_model = lgb.LGBMClassifier(**study.best_params)  # Assuming study is your Optuna study\n",
        "lgbm_model.fit(X_train, y_train)\n",
        "\n",
        "# Get feature importance\n",
        "feature_importance = lgbm_model.feature_importances_\n",
        "\n",
        "# Create a DataFrame for better visualization\n",
        "feature_importance_df = pd.DataFrame({'feature': X_train.columns, 'importance': feature_importance})\n",
        "\n",
        "# Sort the features by importance\n",
        "feature_importance_df = feature_importance_df.sort_values(by='importance', ascending=False)\n",
        "\n",
        "# Plot the feature importances\n",
        "plt.figure(figsize=(24, 12))\n",
        "sns.barplot(x='importance', y='feature', data=feature_importance_df)\n",
        "plt.title('Feature Importance')\n",
        "plt.show()"
      ],
      "metadata": {
        "colab": {
          "base_uri": "https://localhost:8080/",
          "height": 1000
        },
        "id": "zkFlAR-RMsCn",
        "outputId": "bf73d296-b47e-49b8-f15a-b8d03aad11ed"
      },
      "execution_count": 46,
      "outputs": [
        {
          "output_type": "display_data",
          "data": {
            "text/plain": [
              "<Figure size 800x600 with 2 Axes>"
            ],
            "image/png": "[encoded data removed]"
          },
          "metadata": {}
        },
        {
          "output_type": "display_data",
          "data": {
            "text/plain": [
              "<Figure size 2400x1200 with 1 Axes>"
            ],
            "image/png": "[encoded data removed]"
          },
          "metadata": {}
        }
      ]
    },
    {
      "cell_type": "code",
      "source": [],
      "metadata": {
        "id": "GYzpqY2zOYgt"
      },
      "execution_count": null,
      "outputs": []
    }
  ]
}